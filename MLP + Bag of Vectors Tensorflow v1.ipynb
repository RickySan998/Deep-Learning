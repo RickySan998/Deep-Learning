{
  "nbformat": 4,
  "nbformat_minor": 0,
  "metadata": {
    "kernelspec": {
      "display_name": "Python 3",
      "language": "python",
      "name": "python3"
    },
    "language_info": {
      "codemirror_mode": {
        "name": "ipython",
        "version": 3
      },
      "file_extension": ".py",
      "mimetype": "text/x-python",
      "name": "python",
      "nbconvert_exporter": "python",
      "pygments_lexer": "ipython3",
      "version": "3.7.0"
    },
    "colab": {
      "name": "Question4_Assignment2.ipynb",
      "provenance": [],
      "collapsed_sections": []
    },
    "accelerator": "GPU"
  },
  "cells": [
    {
      "cell_type": "markdown",
      "metadata": {
        "id": "FMqnxmVyxaw2"
      },
      "source": [
        "# **Install and Load Libraries needed for the task**"
      ]
    },
    {
      "cell_type": "code",
      "metadata": {
        "colab": {
          "base_uri": "https://localhost:8080/"
        },
        "id": "W9qiCvUbBQaz",
        "outputId": "9c933fc6-49f3-43e7-c92b-cda368ede298"
      },
      "source": [
        "!pip install utils"
      ],
      "execution_count": null,
      "outputs": [
        {
          "output_type": "stream",
          "text": [
            "Collecting utils\n",
            "  Downloading https://files.pythonhosted.org/packages/55/e6/c2d2b2703e7debc8b501caae0e6f7ead148fd0faa3c8131292a599930029/utils-1.0.1-py2.py3-none-any.whl\n",
            "Installing collected packages: utils\n",
            "Successfully installed utils-1.0.1\n"
          ],
          "name": "stdout"
        }
      ]
    },
    {
      "cell_type": "code",
      "metadata": {
        "colab": {
          "base_uri": "https://localhost:8080/"
        },
        "id": "CvtAl2o--Vog",
        "outputId": "23f09a5a-3f4f-4602-fd6c-4582a015f553"
      },
      "source": [
        "import numpy as np\n",
        "import matplotlib.pyplot as plt\n",
        "import urllib.request\n",
        "import zipfile\n",
        "import os\n",
        "import gensim\n",
        "import utils\n",
        "import json\n",
        "import random\n",
        "import pickle\n",
        "from operator import itemgetter\n",
        "from copy import deepcopy\n",
        "import tensorflow.compat.v1 as tf\n",
        "tf.disable_v2_behavior()"
      ],
      "execution_count": null,
      "outputs": [
        {
          "output_type": "stream",
          "text": [
            "WARNING:tensorflow:From /usr/local/lib/python3.6/dist-packages/tensorflow/python/compat/v2_compat.py:96: disable_resource_variables (from tensorflow.python.ops.variable_scope) is deprecated and will be removed in a future version.\n",
            "Instructions for updating:\n",
            "non-resource variables are not supported in the long term\n"
          ],
          "name": "stdout"
        }
      ]
    },
    {
      "cell_type": "code",
      "metadata": {
        "colab": {
          "base_uri": "https://localhost:8080/",
          "height": 35
        },
        "id": "InVo4oTaDpox",
        "outputId": "b4358cfe-8874-42cd-cb1a-4925c4921d96"
      },
      "source": [
        "tf.test.gpu_device_name()"
      ],
      "execution_count": null,
      "outputs": [
        {
          "output_type": "execute_result",
          "data": {
            "application/vnd.google.colaboratory.intrinsic+json": {
              "type": "string"
            },
            "text/plain": [
              "'/device:GPU:0'"
            ]
          },
          "metadata": {
            "tags": []
          },
          "execution_count": 4
        }
      ]
    },
    {
      "cell_type": "markdown",
      "metadata": {
        "id": "qeQi_Azu-Vok"
      },
      "source": [
        "# **Loading Data**"
      ]
    },
    {
      "cell_type": "code",
      "metadata": {
        "colab": {
          "base_uri": "https://localhost:8080/"
        },
        "id": "UPAcCxtl-Vok",
        "outputId": "51077193-211f-4797-c8d1-19f7ca25e1cd"
      },
      "source": [
        "# Download the dataset\n",
        "url = \"https://nlp.stanford.edu/sentiment/trainDevTestTrees_PTB.zip\"\n",
        "try:\n",
        "    local_filename, headers = urllib.request.urlretrieve(url, \"trainDevTestTrees_PTB.zip\")\n",
        "except Exception as e:\n",
        "    print(e)\n",
        "print(local_filename)"
      ],
      "execution_count": null,
      "outputs": [
        {
          "output_type": "stream",
          "text": [
            "trainDevTestTrees_PTB.zip\n"
          ],
          "name": "stdout"
        }
      ]
    },
    {
      "cell_type": "code",
      "metadata": {
        "colab": {
          "base_uri": "https://localhost:8080/"
        },
        "id": "smO2jW5I-Vol",
        "outputId": "3fbccf33-f4c5-4394-88d7-66f9962aa421"
      },
      "source": [
        "# Extract the dataset\n",
        "with zipfile.ZipFile(local_filename, 'r') as my_zip:\n",
        "    my_zip.extractall(\"trainDevTestTrees_PTB\")\n",
        "os.listdir(\"trainDevTestTrees_PTB\") # List down the extracted data files"
      ],
      "execution_count": null,
      "outputs": [
        {
          "output_type": "execute_result",
          "data": {
            "text/plain": [
              "['trees']"
            ]
          },
          "metadata": {
            "tags": []
          },
          "execution_count": 4
        }
      ]
    },
    {
      "cell_type": "code",
      "metadata": {
        "id": "-bpBiy-8-Vol"
      },
      "source": [
        "# Load Data\n",
        "\n",
        "def load_sentences(path):\n",
        "    \"\"\"\n",
        "    Output would be\n",
        "    sentences = a nData x k array of sentences, where k = number of WORDS in each sentence. Each row is a sentence split\n",
        "    into strings of WORDS\n",
        "    labels = a nData array of ratings (integer) for each sentence\n",
        "    \"\"\"\n",
        "    sentences = []\n",
        "    labels = []\n",
        "    file = open(path, \"r\")\n",
        "    for line in file:\n",
        "        soup = line.split() # first split each line (of whole sentence rating along with (rating WORD) pairs) into mini-strings seperated by space. Since there's always a space between a rating and a rated WORD, the ratings would be seperated from the WORD as 2 strings\n",
        "        labels.append(int(soup[0].lstrip(\"(\"))) # the first number from the left is the rating of the sentence. Take out the leading brackets in the first string, and convert that number char to integer\n",
        "        tokens = []\n",
        "        for chunk in soup[1:]:\n",
        "            if chunk.endswith(\")\"): # every string chunks with a WORD, ends with a ')' because the original format was (rating word). Rating and word seperated due to space between as before\n",
        "                tokens.append(chunk.rstrip(\")\")) # hence remove the rightmost ')' and append to the 'tokens' array. This is just array of words\n",
        "        sentences.append(tokens) # at the end, append this array. This would be a sentence, divided into strings of words\n",
        "    return sentences, labels\n",
        "\n",
        "def get_everything_in_one_char_str(str_set,chars_needed): # unused?\n",
        "    final_str = \"\"\n",
        "    for i in range(len(str_set)):\n",
        "        final_str += \" \" + \" \".join(str_set[i]) # join all words in str_set[i] (i.e. a sentence which is array of word strings) seperating each word with a space.\n",
        "        # then join all these sentences also into a single long string.\n",
        "    final_str = final_str.lstrip() # Remove the leftmost space\n",
        "    final_str = ''.join([char for char in final_str if char in chars_needed]) # remove unwanted chars. Here, re-join each wanted character in the long string (of ALL sentences) without seperation (since we already contain spaces in this long string)\n",
        "    return final_str\n",
        "\n",
        "def erase_invalid_simbols(sentences,chars_needed):\n",
        "    \"\"\"\n",
        "    To erase invalid symbols from every word in the extracted sentences. Invalid means not alphabets and symbols declared below\n",
        "    Output:\n",
        "    A 2D array of size nData x k where k = length of each sentences.\n",
        "    \"\"\"\n",
        "    new_sentences=[]\n",
        "    for sentence in sentences:\n",
        "        token=[] # array to store the 'filtered' word\n",
        "        for word in sentence:\n",
        "            word_new=''\n",
        "            for char in word:\n",
        "                if char in chars_needed:\n",
        "                    word_new+=char # filter a word to contain only wanted characters\n",
        "            if not(word_new == ''):\n",
        "                token.append(word_new)\n",
        "        new_sentences.append(token)\n",
        "    return new_sentences\n",
        "                    \n",
        "        \n",
        "        \n",
        "        \n",
        "\n",
        "chars_needed = ['A', 'B', 'C', 'D', 'E', 'F', 'G', 'H', 'I', 'J','K', 'L', 'M', 'N', 'O', 'P','Q','R', 'S', 'T', 'U', 'V', 'W', 'X', 'Y', 'a', 'b', 'c', 'd', 'e', 'f', 'g', 'h', 'i', 'j', 'k', 'l', 'm', 'n', 'o', 'p', 'q', 'r', 's', 't', 'u', 'v', 'w', 'x', 'y', 'z']"
      ],
      "execution_count": null,
      "outputs": []
    },
    {
      "cell_type": "code",
      "metadata": {
        "colab": {
          "base_uri": "https://localhost:8080/"
        },
        "id": "u-3MQE9fWsAB",
        "outputId": "4ade15b2-0d2a-419e-bbc8-8c396103309c"
      },
      "source": [
        "# Self-picked sentences for the last part of this task\n",
        "sentences_addtest = [\"A bitter disappointment and awful ending to a brilliant trilogy .\", \"The Dark Knight Rises was a perfect sequel to a masterpiece .\", \"Christopher Nolan's second bundle of joy The Dark Knight exceeded all of my expectations !!!\",\n",
        "                     \"A lame spy spoof with no real laughs or surprises\", \"Not The Worst Brit Comedy You Will See\"]\n",
        "labels_add_test = [0, 4, 4, 0, 1]\n",
        "sentences_add_test = []\n",
        "for sentence in sentences_addtest:\n",
        "    sentences_add_test.append(sentence.split())\n",
        "\n",
        "print(sentences_add_test)\n",
        "print(len(sentences_add_test))"
      ],
      "execution_count": null,
      "outputs": [
        {
          "output_type": "stream",
          "text": [
            "[['A', 'bitter', 'disappointment', 'and', 'awful', 'ending', 'to', 'a', 'brilliant', 'trilogy', '.'], ['The', 'Dark', 'Knight', 'Rises', 'was', 'a', 'perfect', 'sequel', 'to', 'a', 'masterpiece', '.'], ['Christopher', \"Nolan's\", 'second', 'bundle', 'of', 'joy', 'The', 'Dark', 'Knight', 'exceeded', 'all', 'of', 'my', 'expectations', '!!!'], ['A', 'lame', 'spy', 'spoof', 'with', 'no', 'real', 'laughs', 'or', 'surprises'], ['Not', 'The', 'Worst', 'Brit', 'Comedy', 'You', 'Will', 'See']]\n",
            "5\n"
          ],
          "name": "stdout"
        }
      ]
    },
    {
      "cell_type": "code",
      "metadata": {
        "colab": {
          "base_uri": "https://localhost:8080/"
        },
        "id": "fFa7FV1U-Vol",
        "outputId": "67ffdd33-4a47-49fc-d09b-3948b56ee1d1"
      },
      "source": [
        "# Extract sentences and its label\n",
        "sentences_train, labels_train = load_sentences(\"trainDevTestTrees_PTB/trees/train.txt\")\n",
        "sentences_val, labels_val = load_sentences(\"trainDevTestTrees_PTB/trees/dev.txt\")\n",
        "sentences_test, labels_test = load_sentences(\"trainDevTestTrees_PTB/trees/test.txt\")\n",
        "\n",
        "\n",
        "labels_train= np.asarray(labels_train)\n",
        "print(labels_train.shape)\n",
        "labels_val= np.asarray(labels_val)\n",
        "print(labels_val.shape)\n",
        "labels_test= np.asarray(labels_test)\n",
        "print(labels_test.shape)\n",
        "print(max(labels_train))"
      ],
      "execution_count": null,
      "outputs": [
        {
          "output_type": "stream",
          "text": [
            "(8544,)\n",
            "(1101,)\n",
            "(2210,)\n",
            "4\n"
          ],
          "name": "stdout"
        }
      ]
    },
    {
      "cell_type": "code",
      "metadata": {
        "colab": {
          "base_uri": "https://localhost:8080/"
        },
        "id": "hC7PZapoaRId",
        "outputId": "d9b7bf55-f15c-4add-be00-5345bb854afe"
      },
      "source": [
        "# To check that we didn't remove any sentences\n",
        "print(len(sentences_train), len(sentences_val), len(sentences_test))"
      ],
      "execution_count": null,
      "outputs": [
        {
          "output_type": "stream",
          "text": [
            "8544 1101 2210\n"
          ],
          "name": "stdout"
        }
      ]
    },
    {
      "cell_type": "code",
      "metadata": {
        "id": "zlq6H7_6-Vol",
        "colab": {
          "base_uri": "https://localhost:8080/"
        },
        "outputId": "ddb9d713-af56-4ec9-c10a-5afa576f7a1f"
      },
      "source": [
        "# Remove invalid symbols in all sentences. We only take alphabets\n",
        "sentences_train=erase_invalid_simbols(sentences_train,chars_needed)\n",
        "sentences_val=erase_invalid_simbols(sentences_val,chars_needed)\n",
        "sentences_test=erase_invalid_simbols(sentences_test,chars_needed)\n",
        "sentences_add_test = erase_invalid_simbols(sentences_add_test, chars_needed)\n",
        "\n",
        "print(len(sentences_train), len(sentences_val), len(sentences_test), len(sentences_add_test))\n",
        "\n",
        "# As seen here, we did not remove any sentences by removing the 'invalid' characters"
      ],
      "execution_count": null,
      "outputs": [
        {
          "output_type": "stream",
          "text": [
            "8544 1101 2210 5\n"
          ],
          "name": "stdout"
        }
      ]
    },
    {
      "cell_type": "code",
      "metadata": {
        "colab": {
          "base_uri": "https://localhost:8080/"
        },
        "id": "_ZawYUlJbMKq",
        "outputId": "efd73b8e-8c1b-4d89-defb-5d482d89569f"
      },
      "source": [
        "# Check if the additional sentences are loaded correctly\n",
        "sentences_add_test"
      ],
      "execution_count": null,
      "outputs": [
        {
          "output_type": "execute_result",
          "data": {
            "text/plain": [
              "[['A',\n",
              "  'bitter',\n",
              "  'disappointment',\n",
              "  'and',\n",
              "  'awful',\n",
              "  'ending',\n",
              "  'to',\n",
              "  'a',\n",
              "  'brilliant',\n",
              "  'trilogy'],\n",
              " ['The',\n",
              "  'Dark',\n",
              "  'Knight',\n",
              "  'Rises',\n",
              "  'was',\n",
              "  'a',\n",
              "  'perfect',\n",
              "  'sequel',\n",
              "  'to',\n",
              "  'a',\n",
              "  'masterpiece'],\n",
              " ['Christopher',\n",
              "  'Nolans',\n",
              "  'second',\n",
              "  'bundle',\n",
              "  'of',\n",
              "  'joy',\n",
              "  'The',\n",
              "  'Dark',\n",
              "  'Knight',\n",
              "  'exceeded',\n",
              "  'all',\n",
              "  'of',\n",
              "  'my',\n",
              "  'expectations'],\n",
              " ['A',\n",
              "  'lame',\n",
              "  'spy',\n",
              "  'spoof',\n",
              "  'with',\n",
              "  'no',\n",
              "  'real',\n",
              "  'laughs',\n",
              "  'or',\n",
              "  'surprises'],\n",
              " ['Not', 'The', 'Worst', 'Brit', 'Comedy', 'You', 'Will', 'See']]"
            ]
          },
          "metadata": {
            "tags": []
          },
          "execution_count": 10
        }
      ]
    },
    {
      "cell_type": "code",
      "metadata": {
        "colab": {
          "base_uri": "https://localhost:8080/"
        },
        "id": "WW9lCxLX-Vol",
        "outputId": "3b033775-f024-4db1-cd32-6789e9cb7109"
      },
      "source": [
        "# Check also if sentences in the given dataset are loaded correctly\n",
        "sentences_val[0]"
      ],
      "execution_count": null,
      "outputs": [
        {
          "output_type": "execute_result",
          "data": {
            "text/plain": [
              "['It',\n",
              " 's',\n",
              " 'a',\n",
              " 'lovely',\n",
              " 'film',\n",
              " 'with',\n",
              " 'lovely',\n",
              " 'performances',\n",
              " 'by',\n",
              " 'Buy',\n",
              " 'and',\n",
              " 'Accorsi']"
            ]
          },
          "metadata": {
            "tags": []
          },
          "execution_count": 11
        }
      ]
    },
    {
      "cell_type": "markdown",
      "metadata": {
        "id": "Ycbp2Dz4-Vol"
      },
      "source": [
        "# **Load the pre-trained word2vec from google**"
      ]
    },
    {
      "cell_type": "code",
      "metadata": {
        "colab": {
          "base_uri": "https://localhost:8080/"
        },
        "id": "FnBUfztwBzk5",
        "outputId": "dc2cecec-bc2a-4293-c34b-c499c393e954"
      },
      "source": [
        "!wget -P /root/input/ -c \"https://s3.amazonaws.com/dl4j-distribution/GoogleNews-vectors-negative300.bin.gz\""
      ],
      "execution_count": null,
      "outputs": [
        {
          "output_type": "stream",
          "text": [
            "--2020-12-11 16:17:09--  https://s3.amazonaws.com/dl4j-distribution/GoogleNews-vectors-negative300.bin.gz\n",
            "Resolving s3.amazonaws.com (s3.amazonaws.com)... 52.217.66.14\n",
            "Connecting to s3.amazonaws.com (s3.amazonaws.com)|52.217.66.14|:443... connected.\n",
            "HTTP request sent, awaiting response... 200 OK\n",
            "Length: 1647046227 (1.5G) [application/x-gzip]\n",
            "Saving to: ‘/root/input/GoogleNews-vectors-negative300.bin.gz’\n",
            "\n",
            "GoogleNews-vectors- 100%[===================>]   1.53G  77.9MB/s    in 20s     \n",
            "\n",
            "2020-12-11 16:17:29 (79.3 MB/s) - ‘/root/input/GoogleNews-vectors-negative300.bin.gz’ saved [1647046227/1647046227]\n",
            "\n"
          ],
          "name": "stdout"
        }
      ]
    },
    {
      "cell_type": "code",
      "metadata": {
        "id": "50AxiIDj-Vol"
      },
      "source": [
        "# Load Google's pre-trained Word2Vec model.\n",
        "w2v = gensim.models.KeyedVectors.load_word2vec_format('/root/input/GoogleNews-vectors-negative300.bin.gz', binary=True)  \n",
        "# model is a dictionary"
      ],
      "execution_count": null,
      "outputs": []
    },
    {
      "cell_type": "code",
      "metadata": {
        "colab": {
          "base_uri": "https://localhost:8080/"
        },
        "id": "_wynV_WDqjb0",
        "outputId": "7580170c-5859-4fa6-b153-a7602d150d09"
      },
      "source": [
        "# Check similarity\n",
        "w2v.n_similarity('the', 'The')"
      ],
      "execution_count": null,
      "outputs": [
        {
          "output_type": "stream",
          "text": [
            "/usr/local/lib/python3.6/dist-packages/gensim/matutils.py:737: FutureWarning: Conversion of the second argument of issubdtype from `int` to `np.signedinteger` is deprecated. In future, it will be treated as `np.int64 == np.dtype(int).type`.\n",
            "  if np.issubdtype(vec.dtype, np.int):\n"
          ],
          "name": "stderr"
        },
        {
          "output_type": "execute_result",
          "data": {
            "text/plain": [
              "0.87517774"
            ]
          },
          "metadata": {
            "tags": []
          },
          "execution_count": 14
        }
      ]
    },
    {
      "cell_type": "code",
      "metadata": {
        "id": "GaBllPVT-Vom"
      },
      "source": [
        "# Create dict to convert words (and therefore sentences) to integers and list of integers\n",
        "w2v_dict = {token: index for (index,token) in enumerate(w2v.vocab)}"
      ],
      "execution_count": null,
      "outputs": []
    },
    {
      "cell_type": "code",
      "metadata": {
        "colab": {
          "base_uri": "https://localhost:8080/"
        },
        "id": "79b329wm-Vom",
        "outputId": "fe780626-c596-4364-926c-9a6c0295dcf4"
      },
      "source": [
        "# as follows\n",
        "w2v_dict['UNK']"
      ],
      "execution_count": null,
      "outputs": [
        {
          "output_type": "execute_result",
          "data": {
            "text/plain": [
              "98307"
            ]
          },
          "metadata": {
            "tags": []
          },
          "execution_count": 16
        }
      ]
    },
    {
      "cell_type": "code",
      "metadata": {
        "colab": {
          "base_uri": "https://localhost:8080/"
        },
        "id": "x_7idY5k-Vom",
        "outputId": "32e3ef4f-4917-41b5-be1b-db3b3dfce05e"
      },
      "source": [
        "# Coding every word into 300 dimensional vector\n",
        "vector = w2v['me']\n",
        "print(vector.shape)"
      ],
      "execution_count": null,
      "outputs": [
        {
          "output_type": "stream",
          "text": [
            "(300,)\n"
          ],
          "name": "stdout"
        }
      ]
    },
    {
      "cell_type": "markdown",
      "metadata": {
        "id": "VPa21y8L-Vom"
      },
      "source": [
        "## **Preprocessing of data**"
      ]
    },
    {
      "cell_type": "code",
      "metadata": {
        "id": "oXlXI2yP-Vom"
      },
      "source": [
        "# Checking for unknown words which have no embedding\n",
        "def put_unk(sentences, w2v_dict): #should we erase them?\n",
        "    \"\"\"\n",
        "    Returns the sentences as before, but now replacing words without embedding as unknowns\n",
        "    Also returns a list of words that have no embeddings (which we replace in our corpus)\n",
        "    \"\"\"\n",
        "    unknown=[]\n",
        "    new_sentences=[]\n",
        "    for sentence in sentences:\n",
        "        token=[]\n",
        "        for word in sentence:\n",
        "            if not (word in w2v_dict):\n",
        "                token.append('UNK')\n",
        "                if not(word in unknown):\n",
        "                    unknown.append(word)  \n",
        "            else:\n",
        "                token.append(word)\n",
        "        \n",
        "        new_sentences.append(token)     \n",
        "    return  new_sentences, unknown\n",
        "\n",
        "# Sentences to embeddings\n",
        "def embed(sentences,w2v_dict):\n",
        "    new_sentences=[]\n",
        "    for sentence in sentences:\n",
        "        token=[] # embedding for a sentence, would be sentence_length x 300\n",
        "        for word in sentence:\n",
        "            token.append(w2v_dict[word].reshape(1,-1)) # embed every word in the sentence to a 300 x 1 vector\n",
        "        token_np = np.concatenate(token, axis=0) # convert the sentence embedding to an np array\n",
        "        new_sentences.append(token_np) # embedding for all sentences in the corpus, would be a list of length nData. Each element would be the sentence embedding\n",
        "    return  new_sentences\n",
        "\n"
      ],
      "execution_count": null,
      "outputs": []
    },
    {
      "cell_type": "code",
      "metadata": {
        "id": "fmpc17DO-Vom"
      },
      "source": [
        "# Checking for unknow words which have no embedding, and putting UNK istead of that word\n",
        "sentences_train, unkt = put_unk(sentences_train,w2v)\n",
        "sentences_val, unkv = put_unk(sentences_val,w2v)\n",
        "sentences_test, unkte = put_unk(sentences_test,w2v)\n",
        "sentences_add_test, unkadte = put_unk(sentences_add_test, w2v)"
      ],
      "execution_count": null,
      "outputs": []
    },
    {
      "cell_type": "code",
      "metadata": {
        "colab": {
          "base_uri": "https://localhost:8080/"
        },
        "id": "8J4IgU8mZ_-6",
        "outputId": "1e2bdabe-9a7d-454a-81a4-8f8d6105ce81"
      },
      "source": [
        "# Check if words in the additional sentences are marked correctly as unknowns\n",
        "sentences_add_test"
      ],
      "execution_count": null,
      "outputs": [
        {
          "output_type": "execute_result",
          "data": {
            "text/plain": [
              "[['A',\n",
              "  'bitter',\n",
              "  'disappointment',\n",
              "  'UNK',\n",
              "  'awful',\n",
              "  'ending',\n",
              "  'UNK',\n",
              "  'UNK',\n",
              "  'brilliant',\n",
              "  'trilogy'],\n",
              " ['The',\n",
              "  'Dark',\n",
              "  'Knight',\n",
              "  'Rises',\n",
              "  'was',\n",
              "  'UNK',\n",
              "  'perfect',\n",
              "  'sequel',\n",
              "  'UNK',\n",
              "  'UNK',\n",
              "  'masterpiece'],\n",
              " ['Christopher',\n",
              "  'Nolans',\n",
              "  'second',\n",
              "  'bundle',\n",
              "  'UNK',\n",
              "  'joy',\n",
              "  'The',\n",
              "  'Dark',\n",
              "  'Knight',\n",
              "  'exceeded',\n",
              "  'all',\n",
              "  'UNK',\n",
              "  'my',\n",
              "  'expectations'],\n",
              " ['A',\n",
              "  'lame',\n",
              "  'spy',\n",
              "  'spoof',\n",
              "  'with',\n",
              "  'no',\n",
              "  'real',\n",
              "  'laughs',\n",
              "  'or',\n",
              "  'surprises'],\n",
              " ['Not', 'The', 'Worst', 'Brit', 'Comedy', 'You', 'Will', 'See']]"
            ]
          },
          "metadata": {
            "tags": []
          },
          "execution_count": 20
        }
      ]
    },
    {
      "cell_type": "code",
      "metadata": {
        "id": "58B_GgCB-Vom"
      },
      "source": [
        "# Remove all but 1 unknowns in sentences\n",
        "def remove_all_but_one_unk(sentences,labels):\n",
        "    # Input is an array of sentences\n",
        "    sentences2 = deepcopy(sentences)\n",
        "    for j in range(len(sentences)):\n",
        "        unk_count = 0\n",
        "        for i in range(len(sentences[j])):\n",
        "            word = sentences[j][i]\n",
        "            if word == 'UNK':\n",
        "                unk_count += 1\n",
        "                if unk_count >= 2 and len(sentences2[j]) > 1:\n",
        "                    sentences2[j].remove('UNK')\n",
        "    \n",
        "    return sentences2, labels # not removing sentences, so labels should still correspond\n",
        "\n",
        "# Remove stopwords as defined below\n",
        "def remove_stopwords(sentences, words_to_remove):\n",
        "    sentences2 = deepcopy(sentences)\n",
        "    for i in range(len(sentences)):\n",
        "        for word in sentences[i]:\n",
        "            if word in words_to_remove and len(sentences2[i]) > 1:\n",
        "                sentences2[i].remove(word)\n",
        "                \n",
        "    return sentences2\n",
        "\n",
        "# Removing words that only have one letters\n",
        "def remove_one_letter_words(sentences,labels):\n",
        "    sentences2 = deepcopy(sentences)\n",
        "    for i in range(len(sentences)):\n",
        "        for word in sentences[i]:\n",
        "            if len(word)==1 and len(sentences2[i]) > 1:\n",
        "                sentences2[i].remove(word)\n",
        "                \n",
        "    return sentences2, labels # Again, not removing any sentences, so labels should still correspond\n",
        "\n",
        "def embed_val_test(sentences, train_dict, train_emb, w2v_emb): # use this to embed val or test.\n",
        "    emb_sentences = []\n",
        "    for sentence in sentences:\n",
        "        emb_sentence = []\n",
        "        for word in sentence:\n",
        "            if word not in list(train_dict.keys()):\n",
        "                emb_sentence.append(w2v_emb[word])\n",
        "            else:\n",
        "                idx = train_dict[word]\n",
        "                emb_sentence.append(train_emb[idx])\n",
        "        emb_sentences.append(emb_sentence)\n",
        "        \n",
        "    return emb_sentences\n",
        "\n",
        "\n",
        "def pad_val_test(emb_sentences, labels, edges):\n",
        "    # produce categories of padded sentences, along with their labels, and masks, and original lengths\n",
        "    numcat = len(edges) - 1\n",
        "    ori_len = []; labels_padded = []; emb_padded = []; mask_padded = []\n",
        "    for i in range(num_cat):\n",
        "        leng = []; out = []; cat = []; mask_collect = []\n",
        "        for j in range(len(emb_sentences)):\n",
        "            seq_l = len(emb_sentences[j])\n",
        "            pad = np.zeros((edges[i+1],300))\n",
        "            mask = np.zeros((edges[i+1]))\n",
        "            if seq_l > edges[i] and seq_l <= edges[i+1]:\n",
        "                pad[0:seq_l,:] = emb_sentences[j]\n",
        "                mask[0:seq_l] = 1\n",
        "                mask_collect.append(mask)\n",
        "                leng.append(seq_l)\n",
        "                cat.append(pad)\n",
        "                out.append(labels[j])\n",
        "                \n",
        "        emb_padded.append(np.array(cat))\n",
        "        mask_padded.append(np.array(mask_collect).astype(np.int64))\n",
        "        ori_len.append(leng)\n",
        "        labels_padded.append(out)\n",
        "    \n",
        "    return ori_len, labels_padded, emb_padded, mask_padded\n",
        "    "
      ],
      "execution_count": null,
      "outputs": []
    },
    {
      "cell_type": "markdown",
      "metadata": {
        "id": "YnuHh6rj-Vom"
      },
      "source": [
        " **Remove all but first UNK from the sentences from train/val/test**"
      ]
    },
    {
      "cell_type": "code",
      "metadata": {
        "id": "R4p3SHHN-Vom"
      },
      "source": [
        "sentences_train2, labels_train2= remove_all_but_one_unk(sentences_train,labels_train)\n",
        "sentences_val2, labels_val2 = remove_all_but_one_unk(sentences_val, labels_val)\n",
        "sentences_test2, labels_test2 = remove_all_but_one_unk(sentences_test, labels_test)\n",
        "sentences_add_test2, labels_add_test2 = remove_all_but_one_unk(sentences_add_test, labels_add_test)\n",
        "# Observe that after removing all but one UNK, we are left with sentences that have only 1 UNK. This indicates that we have sentences\n",
        "# that are fully UNK. We remove them from our corpus (all train, val, and test) because intuitively, even if our model is to predict these\n",
        "# the results won't be accurate at all, as 2 different sentences (even without same length for q4) with all UNK would yield the same prediction\n",
        "# even though they have different labels. "
      ],
      "execution_count": null,
      "outputs": []
    },
    {
      "cell_type": "code",
      "metadata": {
        "colab": {
          "base_uri": "https://localhost:8080/"
        },
        "id": "iiJFBL93cBym",
        "outputId": "89a8f0cf-ddd7-482f-afef-9b60bbcb81f5"
      },
      "source": [
        "# Check if we do not remove any sentences\n",
        "print(len(sentences_train2), len(sentences_train))\n",
        "print(len(sentences_val2), len(sentences_val))\n",
        "print(len(sentences_test2), len(sentences_test))\n",
        "print(len(sentences_add_test2), len(sentences_add_test))\n",
        "\n",
        "# Check also that we do not have empty sentences\n",
        "total_1wordsent = 0\n",
        "for sentence in sentences_train2:\n",
        "    if len(sentence) <= 1:\n",
        "      if len(sentence) == 1:\n",
        "        total_1wordsent += 1\n",
        "      else:\n",
        "        print(\"Empty Sentence\")\n",
        "\n",
        "for sentence in sentences_val2:\n",
        "    if len(sentence) <= 1:\n",
        "      if len(sentence) == 1:\n",
        "        total_1wordsent += 1\n",
        "      else:\n",
        "        print(\"Empty Sentence\")\n",
        "\n",
        "for sentence in sentences_test2:\n",
        "    if len(sentence) <= 1:\n",
        "      if len(sentence) == 1:\n",
        "        total_1wordsent += 1\n",
        "      else:\n",
        "        print(\"Empty Sentence\")\n",
        "\n",
        "for sentence in sentences_add_test2:\n",
        "    if len(sentence) <= 1:\n",
        "      if len(sentence) == 1:\n",
        "        total_1wordsent += 1\n",
        "      else:\n",
        "        print(\"Empty Sentence\")\n",
        "\n",
        "print(total_1wordsent)\n",
        "# No empty sentences, and relatively little amount of 1-word sentences"
      ],
      "execution_count": null,
      "outputs": [
        {
          "output_type": "stream",
          "text": [
            "8544 8544\n",
            "1101 1101\n",
            "2210 2210\n",
            "5 5\n",
            "49\n"
          ],
          "name": "stdout"
        }
      ]
    },
    {
      "cell_type": "code",
      "metadata": {
        "colab": {
          "base_uri": "https://localhost:8080/"
        },
        "id": "rWqs5QnBZW76",
        "outputId": "acdd3bc4-a55e-45de-a9e3-e471c399661c"
      },
      "source": [
        "# Check if pre-processing done so far doesn't mess up the sentences\n",
        "sentences_add_test2"
      ],
      "execution_count": null,
      "outputs": [
        {
          "output_type": "execute_result",
          "data": {
            "text/plain": [
              "[['A',\n",
              "  'bitter',\n",
              "  'disappointment',\n",
              "  'awful',\n",
              "  'ending',\n",
              "  'UNK',\n",
              "  'brilliant',\n",
              "  'trilogy'],\n",
              " ['The',\n",
              "  'Dark',\n",
              "  'Knight',\n",
              "  'Rises',\n",
              "  'was',\n",
              "  'perfect',\n",
              "  'sequel',\n",
              "  'UNK',\n",
              "  'masterpiece'],\n",
              " ['Christopher',\n",
              "  'Nolans',\n",
              "  'second',\n",
              "  'bundle',\n",
              "  'joy',\n",
              "  'The',\n",
              "  'Dark',\n",
              "  'Knight',\n",
              "  'exceeded',\n",
              "  'all',\n",
              "  'UNK',\n",
              "  'my',\n",
              "  'expectations'],\n",
              " ['A',\n",
              "  'lame',\n",
              "  'spy',\n",
              "  'spoof',\n",
              "  'with',\n",
              "  'no',\n",
              "  'real',\n",
              "  'laughs',\n",
              "  'or',\n",
              "  'surprises'],\n",
              " ['Not', 'The', 'Worst', 'Brit', 'Comedy', 'You', 'Will', 'See']]"
            ]
          },
          "metadata": {
            "tags": []
          },
          "execution_count": 26
        }
      ]
    },
    {
      "cell_type": "code",
      "metadata": {
        "id": "QegqDQnf-Von"
      },
      "source": [
        "# Deleting one letter words\n",
        "sentences_train3, labels_train3=remove_one_letter_words(sentences_train2,labels_train2)\n",
        "sentences_val3, labels_val3 =remove_one_letter_words(sentences_val2,labels_val2)\n",
        "sentences_test3, labels_test3 =remove_one_letter_words(sentences_test2, labels_test2)\n",
        "sentences_add_test3, labels_add_test3 = remove_one_letter_words(sentences_add_test2,labels_add_test2)"
      ],
      "execution_count": null,
      "outputs": []
    },
    {
      "cell_type": "code",
      "metadata": {
        "colab": {
          "base_uri": "https://localhost:8080/"
        },
        "id": "VFbNPDk2dKIm",
        "outputId": "6785dc7b-8cfd-48a1-9a1a-9378b936ae5f"
      },
      "source": [
        "# Check if we do not remove any sentences\n",
        "print(len(sentences_train3), len(sentences_train2))\n",
        "print(len(sentences_val3), len(sentences_val2))\n",
        "print(len(sentences_test3), len(sentences_test2))\n",
        "print(len(sentences_add_test3), len(sentences_add_test2))\n",
        "\n",
        "# Check also that we do not have empty sentences\n",
        "total_1wordsent = 0\n",
        "for sentence in sentences_train3:\n",
        "    if len(sentence) <= 1:\n",
        "      if len(sentence) == 1:\n",
        "        total_1wordsent += 1\n",
        "      else:\n",
        "        print(\"Empty Sentence\")\n",
        "\n",
        "for sentence in sentences_val3:\n",
        "    if len(sentence) <= 1:\n",
        "      if len(sentence) == 1:\n",
        "        total_1wordsent += 1\n",
        "      else:\n",
        "        print(\"Empty Sentence\")\n",
        "\n",
        "for sentence in sentences_test3:\n",
        "    if len(sentence) <= 1:\n",
        "      if len(sentence) == 1:\n",
        "        total_1wordsent += 1\n",
        "      else:\n",
        "        print(\"Empty Sentence\")\n",
        "\n",
        "for sentence in sentences_add_test3:\n",
        "    if len(sentence) <= 1:\n",
        "      if len(sentence) == 1:\n",
        "        total_1wordsent += 1\n",
        "      else:\n",
        "        print(\"Empty Sentence\")\n",
        "\n",
        "print(total_1wordsent)\n",
        "# No empty sentences, and relatively little amount of 1-word sentences"
      ],
      "execution_count": null,
      "outputs": [
        {
          "output_type": "stream",
          "text": [
            "8544 8544\n",
            "1101 1101\n",
            "2210 2210\n",
            "5 5\n",
            "55\n"
          ],
          "name": "stdout"
        }
      ]
    },
    {
      "cell_type": "markdown",
      "metadata": {
        "id": "lKxInAtv-Von"
      },
      "source": [
        "## **Get list of words occuring in the datasets**\n",
        "The given word2vec embeddings has a size of 3 million words. This is too big to fit inside a tensor and therefore can't be declared as a variable to be trained in Tensorflow. To circumvent this, we only take words that occur in the datasets and operate on embeddings of these words for the rest of the task"
      ]
    },
    {
      "cell_type": "code",
      "metadata": {
        "colab": {
          "base_uri": "https://localhost:8080/"
        },
        "id": "wBmo9wyP-Von",
        "outputId": "c6bcd1c0-08ff-4c21-fe4f-097eb15d88ab"
      },
      "source": [
        "# Create vocab based on training sentences only\n",
        "word_list = []; unfiltered_word_list = []; word_count = []\n",
        "for sentences in sentences_train3:\n",
        "    for word in sentences:\n",
        "        unfiltered_word_list.append(word)\n",
        "        if word not in word_list:\n",
        "            word_list.append(word)\n",
        "            word_count.append(1)\n",
        "        else:\n",
        "            k = word_list.index(word)\n",
        "            word_count[k] += 1\n",
        "\n",
        "# Create a separate vocabulary for val and train TO READ AFTER\n",
        "word_list_val = []; unfiltered_word_list_val = []\n",
        "for sentences in sentences_val3:\n",
        "     for word in sentences:\n",
        "        unfiltered_word_list_val.append(word)\n",
        "        if (word not in word_list) and (word not in word_list_val):\n",
        "             word_list_val.append(word) # contains words that are exclusively in val or val and test\n",
        "                \n",
        "word_list_test = []; unfiltered_word_list_test = []           \n",
        "for sentences in sentences_test3:\n",
        "     for word in sentences:\n",
        "        unfiltered_word_list_test.append(word)\n",
        "        if (word not in word_list) and (word not in word_list_val) and (word not in word_list_test):\n",
        "             word_list_test.append(word) # words that are exclusively in test\n",
        "\n",
        "word_list_add_test = []; unfiltered_word_list_add_test = []           \n",
        "for sentences in sentences_add_test3:\n",
        "     for word in sentences:\n",
        "        unfiltered_word_list_add_test.append(word)\n",
        "        if (word not in word_list) and (word not in word_list_val) and (word not in word_list_test) and (word not in word_list_add_test):\n",
        "             word_list_add_test.append(word) # words that are exclusively in add_test\n",
        "                \n",
        "print(len(word_list))\n",
        "print(len(word_list_val))\n",
        "print(len(word_list_test))\n",
        "print(len(word_list_add_test))"
      ],
      "execution_count": null,
      "outputs": [
        {
          "output_type": "stream",
          "text": [
            "16451\n",
            "990\n",
            "1833\n",
            "2\n"
          ],
          "name": "stdout"
        }
      ]
    },
    {
      "cell_type": "code",
      "metadata": {
        "colab": {
          "base_uri": "https://localhost:8080/"
        },
        "id": "MeWyD2or-Von",
        "outputId": "9df98abb-5dfe-4352-f0b0-6142a38f360d"
      },
      "source": [
        "# Check if there are multiple (up,Up)  words\n",
        "double_words=[]\n",
        "for word in (word_list):\n",
        "    if not (word.lower() in double_words):\n",
        "        for word1 in (word_list):\n",
        "            if word.lower()==word1.lower() and not(word[0]==word1[0]):\n",
        "                double_words.append(word.lower())\n",
        "                break\n",
        "\n",
        "print(len(double_words))\n",
        "# Just too many unnecessary double words! none of it is a name! in any set (no Rock rock)\n",
        "# the first word is a name just a few times => lower case beggining of the sentence!"
      ],
      "execution_count": null,
      "outputs": [
        {
          "output_type": "stream",
          "text": [
            "1617\n"
          ],
          "name": "stdout"
        }
      ]
    },
    {
      "cell_type": "markdown",
      "metadata": {
        "id": "K6KbK0sl-Von"
      },
      "source": [
        "**Lowercase the beggining of sentence**"
      ]
    },
    {
      "cell_type": "code",
      "metadata": {
        "id": "DxPZD8hH-Von"
      },
      "source": [
        "def lowercase(sentences,w2v): # lowercase the first letter in every sentence IF the first word is not UNK AND the lowercased version\n",
        "    # of this word is in w2v. The idea is that lowercased and uppercased words (if not names) should mean the same and therefore\n",
        "    # have same embedding.\n",
        "    sentences1=[]\n",
        "    for sentence in sentences:\n",
        "        if not(sentence[0]=='UNK') and sentence[0].lower() in w2v: #dont lowercase if its not in w2v\n",
        "            new_sentence=[]\n",
        "            new_sentence.append(sentence[0].lower())\n",
        "            new_sentence+=sentence[1:]\n",
        "            sentences1.append(new_sentence)\n",
        "        else:\n",
        "            sentences1.append(sentence)\n",
        "    return sentences1\n",
        "\n",
        "sentences_train4 = lowercase(sentences_train3,w2v)\n",
        "sentences_val4 = lowercase(sentences_val3,w2v)\n",
        "sentences_test4 = lowercase(sentences_test3,w2v)\n",
        "sentences_add_test4 = lowercase(sentences_add_test3, w2v)\n"
      ],
      "execution_count": null,
      "outputs": []
    },
    {
      "cell_type": "code",
      "metadata": {
        "colab": {
          "base_uri": "https://localhost:8080/"
        },
        "id": "gfCL0oZg-Von",
        "outputId": "80a3e728-371e-46cf-9a09-029d75612770"
      },
      "source": [
        "# Make vocabularies again, with the now lowercased words. Word list count will decrease\n",
        "word_list = []; unfiltered_word_list = []; word_count = []\n",
        "for sentences in sentences_train4:\n",
        "    for word in sentences:\n",
        "        unfiltered_word_list.append(word)\n",
        "        if word not in word_list:\n",
        "            word_list.append(word)\n",
        "            word_count.append(1)\n",
        "        else:\n",
        "            k = word_list.index(word)\n",
        "            word_count[k] += 1\n",
        "\n",
        "# Create a separate vocabulary for val and train TO READ AFTER only with words not in the trainable dictionary\n",
        "word_list_val = []; unfiltered_word_list_val = []\n",
        "for sentences in sentences_val4:\n",
        "     for word in sentences:\n",
        "        unfiltered_word_list_val.append(word)\n",
        "        if (word not in word_list) and (word not in word_list_val):\n",
        "             word_list_val.append(word)\n",
        "                \n",
        "word_list_test = []; unfiltered_word_list_test = []           \n",
        "for sentences in sentences_test4:\n",
        "     for word in sentences:\n",
        "        unfiltered_word_list_test.append(word)\n",
        "        if (word not in word_list) and (word not in word_list_val) and (word not in word_list_test):\n",
        "             word_list_test.append(word)\n",
        "\n",
        "word_list_add_test = []; unfiltered_word_list_add_test = []           \n",
        "for sentences in sentences_add_test4:\n",
        "     for word in sentences:\n",
        "        unfiltered_word_list_add_test.append(word)\n",
        "        if (word not in word_list) and (word not in word_list_val) and (word not in word_list_test) and (word not in word_list_add_test):\n",
        "             word_list_add_test.append(word) # words that are exclusively in add_test\n",
        "             \n",
        "print(len(word_list))\n",
        "print(len(word_list_val))\n",
        "print(len(word_list_test))\n",
        "print(len(word_list_add_test))\n",
        "# less words better for memory, didnt use any info!"
      ],
      "execution_count": null,
      "outputs": [
        {
          "output_type": "stream",
          "text": [
            "15967\n",
            "943\n",
            "1730\n",
            "3\n"
          ],
          "name": "stdout"
        }
      ]
    },
    {
      "cell_type": "markdown",
      "metadata": {
        "id": "oXkiag1m-Von"
      },
      "source": [
        "**Removing Stopwords**"
      ]
    },
    {
      "cell_type": "code",
      "metadata": {
        "colab": {
          "base_uri": "https://localhost:8080/"
        },
        "id": "GisIMcGf-Voo",
        "outputId": "5c988148-9a27-4a58-b460-a3d5238b442a"
      },
      "source": [
        "# How many of each words\n",
        "word_list_count = []\n",
        "for i in range(len(word_list)):\n",
        "    word_list_count.append((word_list[i],word_count[i]))\n",
        "\n",
        "sorted_word_list = sorted(word_list_count, key = itemgetter(1), reverse = True)\n",
        "print(sorted_word_list[:30])"
      ],
      "execution_count": null,
      "outputs": [
        {
          "output_type": "stream",
          "text": [
            "[('the', 7063), ('UNK', 7053), ('is', 2547), ('it', 2399), ('that', 1941), ('in', 1880), ('as', 1296), ('but', 1167), ('film', 1154), ('with', 1132), ('for', 1018), ('this', 987), ('an', 971), ('movie', 960), ('its', 944), ('you', 847), ('nt', 682), ('be', 669), ('on', 646), ('not', 593), ('by', 551), ('one', 549), ('has', 528), ('about', 518), ('more', 517), ('are', 512), ('at', 500), ('like', 495), ('from', 480), ('than', 474)]\n"
          ],
          "name": "stdout"
        }
      ]
    },
    {
      "cell_type": "code",
      "metadata": {
        "id": "YNJRzex3-Voo"
      },
      "source": [
        "words_to_remove = ['the', 'is','it', 'that', 'in', 'as', 'with', 'for', 'this', 'an', 'its', 'you', 'be', 'on',\n",
        "                    'are', 'has', 'at']"
      ],
      "execution_count": null,
      "outputs": []
    },
    {
      "cell_type": "code",
      "metadata": {
        "colab": {
          "base_uri": "https://localhost:8080/"
        },
        "id": "zoYa_psc-Voo",
        "outputId": "67050305-3051-4345-8ee4-e0cc0ea375da"
      },
      "source": [
        "#Remove stopwords from train\n",
        "sentences_train5 = remove_stopwords(sentences_train4, words_to_remove)\n",
        "# Make a new vocabulary again for train\n",
        "word_list = []; unfiltered_word_list = []; word_count = []\n",
        "for sentences in sentences_train5:\n",
        "    for word in sentences:\n",
        "        unfiltered_word_list.append(word)\n",
        "        if word not in word_list:\n",
        "            word_list.append(word)\n",
        "            word_count.append(1)\n",
        "        else:\n",
        "            k = word_list.index(word)\n",
        "            word_count[k] += 1\n",
        "\n",
        "#Count the most common words again\n",
        "word_list_count = []\n",
        "for i in range(len(word_list)):\n",
        "    word_list_count.append((word_list[i],word_count[i]))\n",
        "\n",
        "sorted_word_list = sorted(word_list_count, key = itemgetter(1), reverse = True)\n",
        "print(sorted_word_list[:30])"
      ],
      "execution_count": null,
      "outputs": [
        {
          "output_type": "stream",
          "text": [
            "[('UNK', 7053), ('but', 1167), ('film', 1154), ('movie', 960), ('nt', 682), ('not', 593), ('by', 551), ('one', 549), ('about', 518), ('more', 517), ('like', 495), ('from', 480), ('than', 474), ('have', 455), ('all', 444), ('his', 433), ('so', 389), ('if', 386), ('or', 374), ('LRB', 356), ('RRB', 356), ('story', 343), ('what', 327), ('there', 318), ('too', 317), ('who', 314), ('does', 305), ('into', 300), ('out', 294), ('just', 293)]\n"
          ],
          "name": "stdout"
        }
      ]
    },
    {
      "cell_type": "code",
      "metadata": {
        "id": "STweMiPR-Voo"
      },
      "source": [
        "# Remove stopwords from test and val\n",
        "sentences_val5 = remove_stopwords(sentences_val4, words_to_remove)\n",
        "sentences_test5 = remove_stopwords(sentences_test4, words_to_remove)\n",
        "sentences_add_test5 = remove_stopwords(sentences_add_test4, words_to_remove)"
      ],
      "execution_count": null,
      "outputs": []
    },
    {
      "cell_type": "code",
      "metadata": {
        "colab": {
          "base_uri": "https://localhost:8080/"
        },
        "id": "chUIzBNFSoFg",
        "outputId": "8efae15d-6253-4c7d-c051-d45923ca2e89"
      },
      "source": [
        "# Check if we do not remove any sentences\n",
        "# Check if we do not remove any sentences\n",
        "print(len(sentences_train5), len(sentences_train4))\n",
        "print(len(sentences_val5), len(sentences_val4))\n",
        "print(len(sentences_test5), len(sentences_test4))\n",
        "print(len(sentences_add_test5), len(sentences_add_test4))\n",
        "\n",
        "# Check also that we do not have empty sentences\n",
        "total_1wordsent = 0\n",
        "for sentence in sentences_train5:\n",
        "    if len(sentence) <= 1:\n",
        "      if len(sentence) == 1:\n",
        "        total_1wordsent += 1\n",
        "      else:\n",
        "        print(\"Empty Sentence\")\n",
        "\n",
        "for sentence in sentences_val5:\n",
        "    if len(sentence) <= 1:\n",
        "      if len(sentence) == 1:\n",
        "        total_1wordsent += 1\n",
        "      else:\n",
        "        print(\"Empty Sentence\")\n",
        "\n",
        "for sentence in sentences_test5:\n",
        "    if len(sentence) <= 1:\n",
        "      if len(sentence) == 1:\n",
        "        total_1wordsent += 1\n",
        "      else:\n",
        "        print(\"Empty Sentence\")\n",
        "\n",
        "for sentence in sentences_add_test5:\n",
        "    if len(sentence) <= 1:\n",
        "      if len(sentence) == 1:\n",
        "        total_1wordsent += 1\n",
        "      else:\n",
        "        print(\"Empty Sentence\")\n",
        "\n",
        "print(total_1wordsent)\n",
        "# No empty sentences, and relatively little amount of 1-word sentences"
      ],
      "execution_count": null,
      "outputs": [
        {
          "output_type": "stream",
          "text": [
            "8544 8544\n",
            "1101 1101\n",
            "2210 2210\n",
            "5 5\n",
            "84\n"
          ],
          "name": "stdout"
        }
      ]
    },
    {
      "cell_type": "code",
      "metadata": {
        "colab": {
          "base_uri": "https://localhost:8080/"
        },
        "id": "jZQi30Py-Voo",
        "outputId": "d3835d7b-13b0-4be2-813a-28c19fa9b8d8"
      },
      "source": [
        "# Again make a new vocabulary without the stopwords for val and test\n",
        "word_list_val = []; unfiltered_word_list_val = []\n",
        "for sentences in sentences_val5:\n",
        "     for word in sentences:\n",
        "        unfiltered_word_list_val.append(word)\n",
        "        if (word not in word_list) and (word not in word_list_val):\n",
        "             word_list_val.append(word)\n",
        "                \n",
        "word_list_test = []; unfiltered_word_list_test = []           \n",
        "for sentences in sentences_test5:\n",
        "     for word in sentences:\n",
        "        unfiltered_word_list_test.append(word)\n",
        "        if (word not in word_list) and (word not in word_list_val) and (word not in word_list_test):\n",
        "             word_list_test.append(word)\n",
        "\n",
        "word_list_add_test = []; unfiltered_word_list_add_test = []           \n",
        "for sentences in sentences_add_test5:\n",
        "     for word in sentences:\n",
        "        unfiltered_word_list_add_test.append(word)\n",
        "        if (word not in word_list) and (word not in word_list_val) and (word not in word_list_test) and (word not in word_list_add_test):\n",
        "             word_list_add_test.append(word) # words that are exclusively in add_test\n",
        "             \n",
        "print(len(word_list))\n",
        "print(len(word_list_val))\n",
        "print(len(word_list_test))\n",
        "print(len(word_list_add_test))\n",
        "# less words better for memory, didnt use any info!"
      ],
      "execution_count": null,
      "outputs": [
        {
          "output_type": "stream",
          "text": [
            "15950\n",
            "944\n",
            "1730\n",
            "3\n"
          ],
          "name": "stdout"
        }
      ]
    },
    {
      "cell_type": "markdown",
      "metadata": {
        "id": "SB7punCo-Voo"
      },
      "source": [
        "## **Create the Miniaturized Embedding Matrix to be Trained**"
      ]
    },
    {
      "cell_type": "code",
      "metadata": {
        "colab": {
          "base_uri": "https://localhost:8080/"
        },
        "id": "WvfX25Yx-Voo",
        "outputId": "890e11f2-aabe-4874-a607-3df4d92dbc41"
      },
      "source": [
        "# Create embedding matrix\n",
        "embedding_mat = []\n",
        "for word in word_list:\n",
        "    embedding_mat.append(w2v[word])\n",
        "    \n",
        "embedding_mat=np.asarray(embedding_mat)\n",
        "print(embedding_mat.shape)"
      ],
      "execution_count": null,
      "outputs": [
        {
          "output_type": "stream",
          "text": [
            "(15950, 300)\n"
          ],
          "name": "stdout"
        }
      ]
    },
    {
      "cell_type": "code",
      "metadata": {
        "colab": {
          "base_uri": "https://localhost:8080/"
        },
        "id": "-Cb5AiyBfiQP",
        "outputId": "701a7f0a-4f3d-4b3d-b22d-23905025297c"
      },
      "source": [
        "len(word_list_test + word_list_add_test)"
      ],
      "execution_count": null,
      "outputs": [
        {
          "output_type": "execute_result",
          "data": {
            "text/plain": [
              "1733"
            ]
          },
          "metadata": {
            "tags": []
          },
          "execution_count": 46
        }
      ]
    },
    {
      "cell_type": "code",
      "metadata": {
        "colab": {
          "base_uri": "https://localhost:8080/"
        },
        "id": "e_SUEQ4J-Voo",
        "outputId": "215f5998-f4cd-4dbd-aa5b-22c8488d6a73"
      },
      "source": [
        "# Do the same for val and train vocab\n",
        "# Technically, our embedding matrix is the whole given w2v matrix. However, most of the words in this matrix are not present\n",
        "# in train, test and val. Therefore, we only take those that are in train, val and test. Furthermore, only the embeddings of words in training will be trained, \n",
        "# therefore we can exclude words not in train, and feed in only the embedding matrix of words in train during training, for memory efficiency. But during prediction, we then\n",
        "# concatenate this trained embedding matrix, with the 'remaining words' i.e. exclusively in val and test.\n",
        "\n",
        "# Essentially, what we are trying to do is to feed in the smallest possible 'portion' of the given w2v embedding matrix required\n",
        "# for the operation we are doing.\n",
        "embedding_mat_val = []\n",
        "for word in word_list_val:\n",
        "    embedding_mat_val.append(w2v[word])\n",
        "embedding_mat_val=np.asarray(embedding_mat_val)\n",
        "print(embedding_mat_val.shape)\n",
        "\n",
        "embedding_mat_test = []\n",
        "for word in word_list_test + word_list_add_test:\n",
        "    embedding_mat_test.append(w2v[word])\n",
        "embedding_mat_test=np.asarray(embedding_mat_test)\n",
        "print(embedding_mat_test.shape)"
      ],
      "execution_count": null,
      "outputs": [
        {
          "output_type": "stream",
          "text": [
            "(944, 300)\n",
            "(1733, 300)\n"
          ],
          "name": "stdout"
        }
      ]
    },
    {
      "cell_type": "code",
      "metadata": {
        "id": "M3p1HCkJ-Voo"
      },
      "source": [
        "# Also create a dict to convert words to indexes of first matrix and (matrix1+matrix2) and (matrix1+matrix2+matrix3)\n",
        "integer_dict_train = {word: index for (index,word) in enumerate(word_list)}\n",
        "integer_dict_val = {word: index+embedding_mat.shape[0] for (index,word) in enumerate(word_list_val)} #because we will concatenate it\n",
        "integer_dict_test = {word: index+embedding_mat.shape[0]+embedding_mat_val.shape[0] for (index,word) in enumerate(word_list_test + word_list_add_test)}"
      ],
      "execution_count": null,
      "outputs": []
    },
    {
      "cell_type": "code",
      "metadata": {
        "colab": {
          "base_uri": "https://localhost:8080/"
        },
        "id": "Nimm2VmX-Voo",
        "outputId": "2f06fad0-2a2b-46cd-d1a1-462fec65218c"
      },
      "source": [
        "# Check if lookup will extract the correct embedding\n",
        "err = 0\n",
        "for word in integer_dict_train.keys():\n",
        "    index = integer_dict_train[word]\n",
        "    err += np.sum(w2v[word] - embedding_mat[index])\n",
        "    \n",
        "print(err)  \n",
        "\n",
        "err = 0\n",
        "for word in integer_dict_val.keys():\n",
        "    index = integer_dict_val[word]-embedding_mat.shape[0]\n",
        "    err += np.sum(w2v[word] - embedding_mat_val[index])\n",
        "    \n",
        "print(err)  \n",
        "\n",
        "err = 0\n",
        "for word in integer_dict_test.keys():\n",
        "    index = integer_dict_test[word]-(embedding_mat.shape[0]+embedding_mat_val.shape[0])\n",
        "    err += np.sum(w2v[word] - embedding_mat_test[index])\n",
        "    \n",
        "print(err)  "
      ],
      "execution_count": null,
      "outputs": [
        {
          "output_type": "stream",
          "text": [
            "0.0\n",
            "0.0\n",
            "0.0\n"
          ],
          "name": "stdout"
        }
      ]
    },
    {
      "cell_type": "markdown",
      "metadata": {
        "id": "ZiYbjvMw-Voo"
      },
      "source": [
        "Embedding matrix is matrix of embeddings for all words in training sentences, integer_dict[word] gives the corresponding integer (row position) of that word in the embedding matrix. Integer_dict_val[word] will give the index of the word in matrix that we will get when we concatenate embedding matrix for train and val. Similarly for test with 3 matrices"
      ]
    },
    {
      "cell_type": "code",
      "metadata": {
        "colab": {
          "base_uri": "https://localhost:8080/"
        },
        "id": "VKmZhj70-Voo",
        "outputId": "08e7e66a-2c13-4e48-8d89-b4a5149b5bb6"
      },
      "source": [
        "# Find the maximum length of sentences among all training, val, and test\n",
        "max_length = 0; train_sentence_lengths = []; val_sentence_lengths = []; test_sentence_lengths = []; add_test_sentence_lengths = []\n",
        "for sentence in sentences_train5:\n",
        "    train_sentence_lengths.append(len(sentence))\n",
        "    if max_length < len(sentence):\n",
        "        max_length = len(sentence)\n",
        "        \n",
        "for sentence in sentences_val5:\n",
        "    val_sentence_lengths.append(len(sentence))\n",
        "    if max_length < len(sentence):\n",
        "        max_length = len(sentence)\n",
        "        \n",
        "for sentence in sentences_test5:\n",
        "    test_sentence_lengths.append(len(sentence))\n",
        "    if max_length < len(sentence):\n",
        "        max_length = len(sentence)\n",
        "\n",
        "for sentence in sentences_add_test5:\n",
        "    add_test_sentence_lengths.append(len(sentence))\n",
        "    if max_length < len(sentence):\n",
        "        max_length = len(sentence)\n",
        "        \n",
        "print(\"Maximum sentence length is\", max_length)"
      ],
      "execution_count": null,
      "outputs": [
        {
          "output_type": "stream",
          "text": [
            "Maximum sentence length is 35\n"
          ],
          "name": "stdout"
        }
      ]
    },
    {
      "cell_type": "markdown",
      "metadata": {
        "id": "Ar6CdeWD-Vop"
      },
      "source": [
        "## **Get distribution of sentence lengths**\n",
        "\n",
        "To perform batch operations in Tensorflow, we need to have all inputs in a certain batch to be of same shape. However, sentences all have different lengths and therefore we first need to pad sentences in every batch to a common length. Details on what we do to achieve this can be found in the project report."
      ]
    },
    {
      "cell_type": "code",
      "metadata": {
        "colab": {
          "base_uri": "https://localhost:8080/",
          "height": 300
        },
        "id": "X2xli1fK-Vop",
        "outputId": "f31789f2-a08a-4399-f6ad-48824909dc02"
      },
      "source": [
        "# Histogram for all train, val, and test\n",
        "sent_lengths = np.concatenate((train_sentence_lengths, val_sentence_lengths, test_sentence_lengths, add_test_sentence_lengths))\n",
        "h= plt.hist(sent_lengths, bins=5)\n",
        "print(h[1])\n",
        "print(h[0])"
      ],
      "execution_count": null,
      "outputs": [
        {
          "output_type": "stream",
          "text": [
            "[ 1.   7.8 14.6 21.4 28.2 35. ]\n",
            "[2908. 4943. 3118.  805.   86.]\n"
          ],
          "name": "stdout"
        },
        {
          "output_type": "display_data",
          "data": {
            "image/png": "[encoded data removed]",
            "text/plain": [
              "<Figure size 432x288 with 1 Axes>"
            ]
          },
          "metadata": {
            "tags": [],
            "needs_background": "light"
          }
        }
      ]
    },
    {
      "cell_type": "code",
      "metadata": {
        "colab": {
          "base_uri": "https://localhost:8080/",
          "height": 300
        },
        "id": "-_5Klb9XhgdO",
        "outputId": "b52317c4-2f35-4d2a-f98a-c5bc978dacb5"
      },
      "source": [
        "# For training sentences only\n",
        "h= plt.hist(train_sentence_lengths, bins=[1, 8, 15, 21, 28, 35])\n",
        "print(h[1])\n",
        "print(h[0])"
      ],
      "execution_count": null,
      "outputs": [
        {
          "output_type": "stream",
          "text": [
            "[ 1  8 15 21 28 35]\n",
            "[2119. 3540. 2051.  733.  101.]\n"
          ],
          "name": "stdout"
        },
        {
          "output_type": "display_data",
          "data": {
            "image/png": "[encoded data removed]",
            "text/plain": [
              "<Figure size 432x288 with 1 Axes>"
            ]
          },
          "metadata": {
            "tags": [],
            "needs_background": "light"
          }
        }
      ]
    },
    {
      "cell_type": "code",
      "metadata": {
        "colab": {
          "base_uri": "https://localhost:8080/",
          "height": 300
        },
        "id": "azsss60e-Vop",
        "outputId": "da6ad885-3fa0-4305-91aa-7443bb645e92"
      },
      "source": [
        "# For all sentences\n",
        "h= plt.hist(sent_lengths, bins=[1, 8, 15, 21, 28, 35])\n",
        "print(h[1])\n",
        "print(h[0])"
      ],
      "execution_count": null,
      "outputs": [
        {
          "output_type": "stream",
          "text": [
            "[ 1  8 15 21 28 35]\n",
            "[2908. 4943. 2860. 1030.  119.]\n"
          ],
          "name": "stdout"
        },
        {
          "output_type": "display_data",
          "data": {
            "image/png": "[encoded data removed]",
            "text/plain": [
              "<Figure size 432x288 with 1 Axes>"
            ]
          },
          "metadata": {
            "tags": [],
            "needs_background": "light"
          }
        }
      ]
    },
    {
      "cell_type": "markdown",
      "metadata": {
        "id": "XLvxexwW-Vop"
      },
      "source": [
        "## **Padding and Encoding**\n",
        "After we get the sentence length distribution, we pad the sentences according to which bin they belong to (and we pad to the right-end of this bin). Then we encode each word into an integer index according to its row index in the embedding matrix"
      ]
    },
    {
      "cell_type": "markdown",
      "metadata": {
        "id": "8mAL9ja0-Vop"
      },
      "source": [
        "Note: integer_dict_val and integer_dict_test would convert the words in validation and test set according to the index in the concatenated matrix. We concatenate our training embedding matrix by the embeddings of additional words exclusively in val or val and test, and then finally followed by embeddings of words exclusively in test."
      ]
    },
    {
      "cell_type": "code",
      "metadata": {
        "id": "0_snK9qR-Vop"
      },
      "source": [
        "def conv_sent_to_int(sentences, integer_dict, integer_dict_val, integer_dict_test): # convert each word in sentences to its index for embedding matrices\n",
        "    int_sentences = []\n",
        "    for sentence in sentences:\n",
        "        int_sentence = []\n",
        "        for word in sentence:\n",
        "            if word in integer_dict:\n",
        "                int_idx = integer_dict[word]\n",
        "            elif word in integer_dict_val:\n",
        "                int_idx = integer_dict_val[word]\n",
        "            else:\n",
        "                int_idx = integer_dict_test[word]\n",
        "                \n",
        "            int_sentence.append(int_idx)\n",
        "        int_sentences.append(int_sentence)\n",
        "        \n",
        "    return int_sentences"
      ],
      "execution_count": null,
      "outputs": []
    },
    {
      "cell_type": "code",
      "metadata": {
        "id": "5gWtceY2-Vop"
      },
      "source": [
        "# conv training sentences to integer indexes of the embedding matrix\n",
        "int_train_sent = conv_sent_to_int(sentences_train5, integer_dict_train, integer_dict_val, integer_dict_test)\n",
        "int_val_sent = conv_sent_to_int(sentences_val5, integer_dict_train, integer_dict_val, integer_dict_test)\n",
        "int_test_sent = conv_sent_to_int(sentences_test5, integer_dict_train, integer_dict_val, integer_dict_test)\n",
        "int_add_test_sent = conv_sent_to_int(sentences_add_test5, integer_dict_train, integer_dict_val, integer_dict_test)"
      ],
      "execution_count": null,
      "outputs": []
    },
    {
      "cell_type": "code",
      "metadata": {
        "colab": {
          "base_uri": "https://localhost:8080/"
        },
        "id": "rluy-J-j-Vop",
        "outputId": "d976a250-eeba-4481-8489-bcf17a0e4b54"
      },
      "source": [
        "# Quick check to ensure sentences are converted to integers correctly\n",
        "err = 0\n",
        "for sent in int_train_sent:\n",
        "    for int_word in sent:\n",
        "        word = list(integer_dict_train.keys())[int_word]\n",
        "        err += np.sum(embedding_mat[int_word] - w2v[word])\n",
        "print(err)"
      ],
      "execution_count": null,
      "outputs": [
        {
          "output_type": "stream",
          "text": [
            "0.0\n"
          ],
          "name": "stdout"
        }
      ]
    },
    {
      "cell_type": "code",
      "metadata": {
        "colab": {
          "base_uri": "https://localhost:8080/"
        },
        "id": "xsvLBIok-Vop",
        "outputId": "eded1bdd-6d54-4118-f11a-f9c7216efe0a"
      },
      "source": [
        "err = 0\n",
        "for sent in int_val_sent:\n",
        "    for int_word in sent:\n",
        "        if int_word >= embedding_mat.shape[0]:\n",
        "            word = list(integer_dict_val.keys())[int_word-embedding_mat.shape[0]]\n",
        "            err += np.sum(embedding_mat_val[int_word-embedding_mat.shape[0]] - w2v[word])\n",
        "        else:\n",
        "            word = list(integer_dict_train.keys())[int_word]\n",
        "            err += np.sum(embedding_mat[int_word] - w2v[word])\n",
        "print(err)"
      ],
      "execution_count": null,
      "outputs": [
        {
          "output_type": "stream",
          "text": [
            "0.0\n"
          ],
          "name": "stdout"
        }
      ]
    },
    {
      "cell_type": "code",
      "metadata": {
        "colab": {
          "base_uri": "https://localhost:8080/"
        },
        "id": "MrVncAKZ-Vop",
        "outputId": "ca968f76-1f95-45a4-d466-8d8d50728eea"
      },
      "source": [
        "err = 0\n",
        "for sent in int_test_sent:\n",
        "    for int_word in sent:\n",
        "        if int_word >= embedding_mat.shape[0] + embedding_mat_val.shape[0]:\n",
        "            word = list(integer_dict_test.keys())[int_word-embedding_mat.shape[0] - embedding_mat_val.shape[0]]\n",
        "            err += np.sum(embedding_mat_test[int_word - embedding_mat.shape[0] - embedding_mat_val.shape[0]] - w2v[word])\n",
        "        elif int_word >= embedding_mat.shape[0]:\n",
        "            word = list(integer_dict_val.keys())[int_word-embedding_mat.shape[0]]\n",
        "            err += np.sum(embedding_mat_val[int_word-embedding_mat.shape[0]] - w2v[word])\n",
        "        else:\n",
        "            word = list(integer_dict_train.keys())[int_word]\n",
        "            err += np.sum(embedding_mat[int_word] - w2v[word])\n",
        "print(err)"
      ],
      "execution_count": null,
      "outputs": [
        {
          "output_type": "stream",
          "text": [
            "0.0\n"
          ],
          "name": "stdout"
        }
      ]
    },
    {
      "cell_type": "code",
      "metadata": {
        "colab": {
          "base_uri": "https://localhost:8080/"
        },
        "id": "NG2Ky1B6izp8",
        "outputId": "b59a8263-60a8-4274-8a3f-8b01bfd9cf8e"
      },
      "source": [
        "err = 0\n",
        "for sent in int_add_test_sent:\n",
        "    for int_word in sent:\n",
        "        if int_word >= embedding_mat.shape[0] + embedding_mat_val.shape[0]:\n",
        "            word = list(integer_dict_test.keys())[int_word-embedding_mat.shape[0] - embedding_mat_val.shape[0]]\n",
        "            err += np.sum(embedding_mat_test[int_word - embedding_mat.shape[0] - embedding_mat_val.shape[0]] - w2v[word])\n",
        "        elif int_word >= embedding_mat.shape[0]:\n",
        "            word = list(integer_dict_val.keys())[int_word-embedding_mat.shape[0]]\n",
        "            err += np.sum(embedding_mat_val[int_word-embedding_mat.shape[0]] - w2v[word])\n",
        "        else:\n",
        "            word = list(integer_dict_train.keys())[int_word]\n",
        "            err += np.sum(embedding_mat[int_word] - w2v[word])\n",
        "print(err)"
      ],
      "execution_count": null,
      "outputs": [
        {
          "output_type": "stream",
          "text": [
            "0.0\n"
          ],
          "name": "stdout"
        }
      ]
    },
    {
      "cell_type": "code",
      "metadata": {
        "id": "odld1E8P-Vop"
      },
      "source": [
        "def pad_int(int_sentences, labels, edges):\n",
        "    # produce categories of padded int_sentences, along with their labels, and masks, and original lengths\n",
        "    numcat = len(edges) - 1\n",
        "    ori_len = []; labels_padded = []; int_padded = []; mask_padded = []\n",
        "    for i in range(numcat):\n",
        "        leng = []; out = []; cat = []; mask_collect = []\n",
        "        for j in range(len(int_sentences)):\n",
        "            seq_l = len(int_sentences[j])\n",
        "            pad = np.zeros((edges[i+1]))\n",
        "            mask = np.zeros((edges[i+1]))\n",
        "            if seq_l > edges[i] and seq_l <= edges[i+1]:\n",
        "                pad[0:seq_l] = int_sentences[j]\n",
        "                mask[0:seq_l] = 1\n",
        "                mask_collect.append(mask)\n",
        "                leng.append(seq_l)\n",
        "                cat.append(pad)\n",
        "                out.append(labels[j])\n",
        "                \n",
        "        int_padded.append(np.array(cat).astype(np.int32))\n",
        "        mask_padded.append(np.array(mask_collect).astype(np.int32))\n",
        "        ori_len.append(leng)\n",
        "        labels_padded.append(np.array(out).astype(np.int32))\n",
        "    \n",
        "    return ori_len, labels_padded, int_padded, mask_padded"
      ],
      "execution_count": null,
      "outputs": []
    },
    {
      "cell_type": "code",
      "metadata": {
        "id": "Xq3odSjX-Vop"
      },
      "source": [
        "labels_train5=deepcopy(labels_train3)\n",
        "labels_val5=deepcopy(labels_val3)\n",
        "labels_test5=deepcopy(labels_test3)\n",
        "labels_add_test5 = deepcopy(labels_add_test3)"
      ],
      "execution_count": null,
      "outputs": []
    },
    {
      "cell_type": "code",
      "metadata": {
        "colab": {
          "base_uri": "https://localhost:8080/"
        },
        "id": "4Wsr2kd1WloA",
        "outputId": "ffe8446a-98f8-4025-8f20-ca5d73f8a5fc"
      },
      "source": [
        "print(len(labels_add_test5), len(sentences_add_test5))"
      ],
      "execution_count": null,
      "outputs": [
        {
          "output_type": "stream",
          "text": [
            "5 5\n"
          ],
          "name": "stdout"
        }
      ]
    },
    {
      "cell_type": "code",
      "metadata": {
        "id": "P0dnzujK-Voq"
      },
      "source": [
        "edges = [0, 8, 15, 21, 28, 35]\n",
        "len_train, labels_train_padded, int_train_padded, mask_train_padded = pad_int(int_train_sent, labels_train5, edges)\n",
        "len_val, labels_val_padded, int_val_padded, mask_val_padded = pad_int(int_val_sent, labels_val5, edges)\n",
        "len_test, labels_test_padded, int_test_padded, mask_test_padded = pad_int(int_test_sent, labels_test5, edges)\n",
        "len_add_test, labels_add_test_padded, int_add_test_padded, mask_add_test_padded = pad_int(int_add_test_sent, labels_add_test5, edges)"
      ],
      "execution_count": null,
      "outputs": []
    },
    {
      "cell_type": "markdown",
      "metadata": {
        "id": "Rt-anUO52O-b"
      },
      "source": [
        "## **Check after encoding each word to an integer index (of the embedding matri) and padding, that the sentences remains unchanged**"
      ]
    },
    {
      "cell_type": "code",
      "metadata": {
        "colab": {
          "base_uri": "https://localhost:8080/"
        },
        "id": "Ev-tGUnzjtNW",
        "outputId": "b13fb5c4-385f-4662-b5f6-f3dcc239a3d1"
      },
      "source": [
        "sent = []\n",
        "for word in int_add_test_padded[0][1]:\n",
        "    if word >= embedding_mat.shape[0] + embedding_mat_val.shape[0]:\n",
        "        sent.append(list(integer_dict_test.keys())[list(integer_dict_test.values()).index(word)]) \n",
        "    elif word >= embedding_mat.shape[0]:\n",
        "        sent.append(list(integer_dict_val.keys())[list(integer_dict_val.values()).index(word)])\n",
        "    else:\n",
        "        sent.append(list(integer_dict_train.keys())[list(integer_dict_train.values()).index(word)])\n",
        "\n",
        "print(sent, labels_add_test_padded[0][1], len(sent), mask_add_test_padded[0][1])"
      ],
      "execution_count": null,
      "outputs": [
        {
          "output_type": "stream",
          "text": [
            "['Dark', 'Knight', 'Rises', 'was', 'perfect', 'sequel', 'UNK', 'masterpiece'] 4 8 [1 1 1 1 1 1 1 1]\n"
          ],
          "name": "stdout"
        }
      ]
    },
    {
      "cell_type": "code",
      "metadata": {
        "colab": {
          "base_uri": "https://localhost:8080/"
        },
        "id": "VxdoR5guky7v",
        "outputId": "74472789-fac1-42b1-f21b-4d2ee4f78660"
      },
      "source": [
        "print(sentences_add_test5[1], len(sentences_add_test5[1]), labels_add_test5[1])"
      ],
      "execution_count": null,
      "outputs": [
        {
          "output_type": "stream",
          "text": [
            "['Dark', 'Knight', 'Rises', 'was', 'perfect', 'sequel', 'UNK', 'masterpiece'] 8 4\n"
          ],
          "name": "stdout"
        }
      ]
    },
    {
      "cell_type": "code",
      "metadata": {
        "colab": {
          "base_uri": "https://localhost:8080/"
        },
        "id": "4XpCyB5O-Voq",
        "outputId": "eea7b306-e48c-4ab7-dfa7-716531814ede"
      },
      "source": [
        "sent = []\n",
        "for word in int_train_padded[3][0]:\n",
        "    sent.append(list(integer_dict_train.keys())[list(integer_dict_train.values()).index(word)])\n",
        "print(sent, labels_train_padded[3][0], len(sent), mask_train_padded[3][0])"
      ],
      "execution_count": null,
      "outputs": [
        {
          "output_type": "stream",
          "text": [
            "['gorgeously', 'elaborate', 'continuation', 'The', 'Lord', 'Rings', 'trilogy', 'so', 'huge', 'column', 'words', 'can', 'not', 'adequately', 'describe', 'Peter', 'Jackson', 'expanded', 'vision', 'JRR', 'Tolkien', 'UNK', 'Rock', 'Rock', 'Rock', 'Rock', 'Rock', 'Rock'] 4 28 [1 1 1 1 1 1 1 1 1 1 1 1 1 1 1 1 1 1 1 1 1 1 0 0 0 0 0 0]\n"
          ],
          "name": "stdout"
        }
      ]
    },
    {
      "cell_type": "code",
      "metadata": {
        "colab": {
          "base_uri": "https://localhost:8080/"
        },
        "id": "WZKqDpuE-Voq",
        "outputId": "d6f792b3-d01a-4dd0-99f3-36755ccd2fe4"
      },
      "source": [
        "print(sentences_train5[0],len(sentences_train5[0]), labels_train5[0])"
      ],
      "execution_count": null,
      "outputs": [
        {
          "output_type": "stream",
          "text": [
            "['Rock', 'destined', 'st', 'Century', 'new', 'Conan', 'he', 'going', 'make', 'splash', 'even', 'greater', 'than', 'Arnold', 'Schwarzenegger', 'UNK', 'Van', 'Damme', 'or', 'Steven', 'Segal'] 21 3\n"
          ],
          "name": "stdout"
        }
      ]
    },
    {
      "cell_type": "code",
      "metadata": {
        "colab": {
          "base_uri": "https://localhost:8080/"
        },
        "id": "cjQKgfhI-Voq",
        "outputId": "3b24e7da-c570-4f3a-bd24-b8cbb4ee7960"
      },
      "source": [
        "print(sentences_val5[0],len(sentences_val5[0]), labels_val5[0])"
      ],
      "execution_count": null,
      "outputs": [
        {
          "output_type": "stream",
          "text": [
            "['lovely', 'film', 'lovely', 'performances', 'by', 'Buy', 'UNK', 'Accorsi'] 8 3\n"
          ],
          "name": "stdout"
        }
      ]
    },
    {
      "cell_type": "code",
      "metadata": {
        "colab": {
          "base_uri": "https://localhost:8080/"
        },
        "id": "Jat0Ufav-Voq",
        "outputId": "710e9075-7f22-4dca-fc43-fd9fde48662f"
      },
      "source": [
        "sent = []\n",
        "for word in int_val_padded[1][0]:\n",
        "    if word >= embedding_mat.shape[0]:\n",
        "        sent.append(list(integer_dict_val.keys())[list(integer_dict_val.values()).index(word)])\n",
        "    else:\n",
        "        sent.append(list(integer_dict_train.keys())[list(integer_dict_train.values()).index(word)])\n",
        "    \n",
        "print(sent, labels_val_padded[1][0], len(sent), mask_val_padded[1][0])"
      ],
      "execution_count": null,
      "outputs": [
        {
          "output_type": "stream",
          "text": [
            "['half', 'Submarine', 'flick', 'Half', 'Ghost', 'Story', 'All', 'one', 'criminally', 'neglected', 'film', 'Rock', 'Rock', 'Rock', 'Rock'] 2 15 [1 1 1 1 1 1 1 1 1 1 1 0 0 0 0]\n"
          ],
          "name": "stdout"
        }
      ]
    },
    {
      "cell_type": "code",
      "metadata": {
        "colab": {
          "base_uri": "https://localhost:8080/"
        },
        "id": "GetL-2ja-Voq",
        "outputId": "56cc00d4-b6da-42d6-cced-bf729ad26394"
      },
      "source": [
        "print(sentences_test5[0],len(sentences_test5[0]), labels_test5[0])"
      ],
      "execution_count": null,
      "outputs": [
        {
          "output_type": "stream",
          "text": [
            "['effective', 'but', 'UNK', 'biopic'] 4 2\n"
          ],
          "name": "stdout"
        }
      ]
    },
    {
      "cell_type": "code",
      "metadata": {
        "colab": {
          "base_uri": "https://localhost:8080/"
        },
        "id": "q729iB-q-Voq",
        "outputId": "104b2b4c-31db-41d5-e021-51cad7cfa36b"
      },
      "source": [
        "sent = []\n",
        "for word in int_test_padded[0][0]:\n",
        "    if word >= embedding_mat.shape[0] + embedding_mat_val.shape[0]:\n",
        "        sent.append(list(integer_dict_test.keys())[list(integer_dict_test.values()).index(word)]) \n",
        "    elif word >= embedding_mat.shape[0]:\n",
        "        sent.append(list(integer_dict_val.keys())[list(integer_dict_val.values()).index(word)])\n",
        "    else:\n",
        "        sent.append(list(integer_dict_train.keys())[list(integer_dict_train.values()).index(word)])\n",
        "    \n",
        "print(sent, labels_test_padded[0][0], len(sent), mask_test_padded[0][0])"
      ],
      "execution_count": null,
      "outputs": [
        {
          "output_type": "stream",
          "text": [
            "['effective', 'but', 'UNK', 'biopic', 'Rock', 'Rock', 'Rock', 'Rock'] 2 8 [1 1 1 1 0 0 0 0]\n"
          ],
          "name": "stdout"
        }
      ]
    },
    {
      "cell_type": "markdown",
      "metadata": {
        "id": "DH2ZoSAE-Voq"
      },
      "source": [
        "## **Normalize the embedding vectors**"
      ]
    },
    {
      "cell_type": "code",
      "metadata": {
        "colab": {
          "base_uri": "https://localhost:8080/"
        },
        "id": "iEWw_Hmt-Voq",
        "outputId": "68a05080-397b-4585-f0e4-6edc82824c2a"
      },
      "source": [
        "#Normalizing matrix\n",
        "\n",
        "maxi=np.max(embedding_mat)\n",
        "mini=np.min(embedding_mat)\n",
        "embedding_mat1=2*(embedding_mat-mini)/(maxi-mini)-1\n",
        "print(np.max(embedding_mat1))\n",
        "print(np.min(embedding_mat1))\n",
        "\n",
        "maxi=np.max(embedding_mat_val)\n",
        "mini=np.min(embedding_mat_val)\n",
        "embedding_mat_val1=2*(embedding_mat_val-mini)/(maxi-mini)-1\n",
        "print(np.max(embedding_mat_val1))\n",
        "print(np.min(embedding_mat_val1))\n",
        "\n",
        "maxi=np.max(embedding_mat_test)\n",
        "mini=np.min(embedding_mat_test)\n",
        "embedding_mat_test1=2*(embedding_mat_test-mini)/(maxi-mini)-1\n",
        "print(np.max(embedding_mat_test1))\n",
        "print(np.min(embedding_mat_test1))\n"
      ],
      "execution_count": null,
      "outputs": [
        {
          "output_type": "stream",
          "text": [
            "1.0\n",
            "-1.0\n",
            "1.0\n",
            "-1.0\n",
            "1.0\n",
            "-1.0\n"
          ],
          "name": "stdout"
        }
      ]
    },
    {
      "cell_type": "markdown",
      "metadata": {
        "id": "ErS4JS8q-Vor"
      },
      "source": [
        "## **Create Model**"
      ]
    },
    {
      "cell_type": "code",
      "metadata": {
        "id": "juI4qkdD-Vor"
      },
      "source": [
        "\"\"\"\n",
        "Summarize data that we work with:\n",
        "Non-padded groups, with pre-processing:\n",
        "sentences_train5, labels_train5\n",
        "\n",
        "Padded-groups, with pre-processing\n",
        "len_train, labels_train_padded, int_train_padded, mask_train_padded\n",
        "\n",
        "Same convention for val and test, simply replace train with val, test\n",
        "\n",
        "Embedding matrix for training\n",
        "embedding_mat\n",
        "\n",
        "Embedding matrix for val and test:\n",
        "concatenate embedding_mat (after training) with embedding_mat_val and embedding_mat_test\n",
        "\"\"\""
      ],
      "execution_count": null,
      "outputs": []
    },
    {
      "cell_type": "code",
      "metadata": {
        "id": "DavA6fXt-Vor"
      },
      "source": [
        "# To convert the integer labels to one-hot vectors\n",
        "def one_hot_labels(labels):\n",
        "    max_label = 4 # there are 5 labels, 0 to 4 exclusive\n",
        "    m = labels.shape[0]\n",
        "    oh_labels = np.zeros((m,max_label+1))\n",
        "    oh_labels[np.arange(m),labels] = 1\n",
        "    return labels, oh_labels"
      ],
      "execution_count": null,
      "outputs": []
    },
    {
      "cell_type": "code",
      "metadata": {
        "id": "_B20XhFe-Vor"
      },
      "source": [
        "# Model Skeleton for this task\n",
        "class Model():\n",
        "    def __init__(self, num_classes, nodes_per_layer, learning_rate, embedding_matrix, proj_length = 300, hlactivation = 'tanh', optimizer_name = \"Adam\", \n",
        "                 reg_coeff = 0, drop_prob = 0, train_embed = True, max_pool = True, min_pool = True, av_pool = True, isProject = True):\n",
        "        \n",
        "        \"\"\"\n",
        "        Inputs:\n",
        "        num_classes = number of labels in the output\n",
        "        nodes_per_layer = array of L values, where L is number of hidden layers in the MLP\n",
        "        learning_rate = learning rate for the optimizer\n",
        "        embedding_matrix = word embedding matrix to be used for the lookup layer\n",
        "        hlactivation = activation of the MLP hidden layers. Default is tanh. Assume all layers have same activations\n",
        "        optimizer_option = see below for choices, string argument\n",
        "        reg_coeff = L2 regularization coefficient\n",
        "        drop_prop = dropout probability\n",
        "        train_embed = whether to train embedding matrix, default is true\n",
        "        max, min, av_pool = Booleans to indicate which pooling to use\n",
        "        \"\"\"\n",
        "        \n",
        "        self.num_classes = num_classes\n",
        "        self.learning_rate = learning_rate\n",
        "        self.embedding_matrix = np.array(embedding_matrix) # size is nVocab x embedding_length\n",
        "        # need to declare as np array before passing to tf as initial value, otherwise become very slow\n",
        "\n",
        "        nVocab, embedding_length = self.embedding_matrix.shape\n",
        "        \n",
        "        # Create input placeholders\n",
        "        self.sent = tf.placeholder(tf.int32, shape = [None, None]) # input sentences fit here, shape is batch_size * padded_group_length\n",
        "        self.labels = tf.placeholder(tf.int32, shape = [None, num_classes]) # one-hot encoding of the target labels\n",
        "        self.isTrain = tf.placeholder(tf.bool, shape = None) # to activate/deactivate dropout\n",
        "        self.mask = tf.placeholder(tf.int32, shape = [None, None]) # masks to indicate original sentence lengths, with ones on original words, and 0 on padded words\n",
        "        self.n_dat = tf.placeholder(tf.int32, shape = None) # to know how many times to replicate the projection layer\n",
        "        \n",
        "        # Create embedding matrix as variable, to train. put self, so we can access the trained matrix\n",
        "        self.embedder = tf.Variable(initial_value = self.embedding_matrix, name = 'Embedder', trainable = train_embed)\n",
        "        proj_weights = tf.Variable(initial_value = np.random.randn(embedding_length, proj_length).astype(np.float32), name= 'proj_weights', trainable = True)\n",
        "        \n",
        "        # Also add placeholder for the 'predict' embedding matrix. Sufficient to use placeholder for this because\n",
        "        # during predict (i.e. inference on validation and test set), we are NOT changing the embedding matrix\n",
        "        # put as self so we can feed in\n",
        "        self.embedder_infer = tf.placeholder(tf.float32, shape = [None, embedding_length])\n",
        "        \n",
        "        # Embedding_lookup layer\n",
        "        embedded = tf.cond(tf.equal(self.isTrain,tf.constant(True)), lambda: tf.nn.embedding_lookup(self.embedder, self.sent),\n",
        "                           lambda: tf.nn.embedding_lookup(self.embedder_infer, self.sent)) # i.e. if we are infering during validation\n",
        "        # and test, we use the inference embedding matrix for lookup (i.e. the concatenated one)\n",
        "        self.return_embedded = embedded\n",
        "\n",
        "        # Project the embeddings to new vectors of length proj_length\n",
        "        rep_proj_weights = tf.repeat(tf.expand_dims(proj_weights, axis = 0), [self.n_dat], axis = 0)\n",
        "\n",
        "        if isProject:\n",
        "            embedded = tf.linalg.matmul(embedded, rep_proj_weights)\n",
        "            replicate_length = proj_length\n",
        "        else:\n",
        "            replicate_length = embedding_length\n",
        "        # Pooling and masking operations\n",
        "        # First, create 3D Mask\n",
        "        mask_3D = tf.repeat(tf.expand_dims(self.mask, axis = 2), [replicate_length], axis = 2) # 2D masks are replicated along the embedding features (because discarding that word means disccarding its embedding vect)\n",
        "        if max_pool:\n",
        "            max_mask = tf.minimum(((2*tf.cast(mask_3D, tf.float32) - 1) * np.inf), embedded) # force entries where mask = 0, to be -inf\n",
        "            pooled_max = tf.reduce_max(max_mask,axis = 1) # max over all words, i.e. along padded_length\n",
        "        if min_pool:\n",
        "            min_mask = tf.maximum(((1 - 2*tf.cast(mask_3D, tf.float32))* np.inf), embedded) # force entries where mask = 0, to be inf\n",
        "            pooled_min = tf.reduce_min(min_mask, axis = 1)\n",
        "        if av_pool:\n",
        "            av_mask = tf.multiply(embedded, tf.cast(mask_3D, tf.float32)) # by element-wise multiplication, the entries where mask = 0 would be 0\n",
        "            pooled_av = tf.reduce_mean(av_mask, axis = 1)\n",
        "\n",
        "        # Concatenate pooling results\n",
        "        if max_pool and min_pool and av_pool:\n",
        "            print(\"All Pooling\")\n",
        "            embed_cat = tf.concat([pooled_av, pooled_max, pooled_min], axis = 1)\n",
        "        elif max_pool and min_pool:\n",
        "            print(\"Max and min Pooling\")\n",
        "            embed_cat = tf.concat([pooled_max, pooled_min], axis = 1)\n",
        "        elif max_pool and av_pool:\n",
        "            print(\"Max and Av Pooling\")\n",
        "            embed_cat = tf.concat([pooled_av, pooled_max], axis = 1)\n",
        "        elif min_pool and av_pool:\n",
        "            print(\"Min and av Pooling\")\n",
        "            embed_cat = tf.concat([pooled_av, pooled_min], axis = 1)\n",
        "        elif max_pool:\n",
        "            print(\"Max Pooling\")\n",
        "            embed_cat = pooled_max\n",
        "        elif min_pool:\n",
        "            print(\"Min Pooling\")\n",
        "            embed_cat = pooled_min\n",
        "        elif av_pool:\n",
        "            print(\"Av Pooling\")\n",
        "            embed_cat = pooled_av\n",
        "\n",
        "        # Define MLP Layers\n",
        "        out_lay = embed_cat\n",
        "        for layer in range(0,len(nodes_per_layer)-1):\n",
        "            out_node = nodes_per_layer[layer]\n",
        "            if hlactivation == 'tanh':\n",
        "                out_lay = tf.layers.dense(out_lay, out_node, activation = tf.nn.tanh, kernel_initializer =  tf.initializers.glorot_uniform,\n",
        "                                        bias_initializer = tf.initializers.glorot_uniform)\n",
        "                out_lay = tf.layers.dropout(out_lay, rate = drop_prob, training = self.isTrain)\n",
        "            elif hlactivation == 'relu':\n",
        "                out_lay = tf.layers.dense(out_lay, out_node, activation = tf.nn.relu, kernel_initializer =  tf.initializers.glorot_uniform,\n",
        "                                        bias_initializer = tf.initializers.glorot_uniform)\n",
        "                out_lay = tf.layers.dropout(out_lay, rate = drop_prob, training = self.isTrain)\n",
        "            else:\n",
        "                out_lay = tf.layers.dense(out_lay, out_node, activation = tf.nn.leaky_relu, kernel_initializer =  tf.initializers.glorot_uniform,\n",
        "                                        bias_initializer = tf.initializers.glorot_uniform)\n",
        "                out_lay = tf.layers.dropout(out_lay, rate = drop_prob, training = self.isTrain)\n",
        "\n",
        "        # Define output layer\n",
        "        out_lay = tf.layers.dense(out_lay, num_classes, kernel_initializer =  tf.initializers.glorot_uniform, bias_initializer = tf.initializers.glorot_uniform)\n",
        "        \n",
        "        \n",
        "        \n",
        "        # Define prediction operation (returns predictions in the form of non-one-hot labels)\n",
        "        self.predictions = tf.reshape(tf.argmax(out_lay,1), [-1])\n",
        "        \n",
        "        # Define loss\n",
        "        self.loss = tf.reduce_mean(tf.nn.softmax_cross_entropy_with_logits_v2(labels = self.labels, logits=out_lay))\n",
        "        \n",
        "        # Add L2 Regularization\n",
        "        L2norms = [tf.nn.l2_loss(weights) for weights in tf.trainable_variables()]\n",
        "        L2 = tf.reduce_sum(L2norms)\n",
        "        self.loss_L2 = self.loss + reg_coeff * L2\n",
        "        \n",
        "        # Define training operation\n",
        "        if optimizer_name == \"Adam\":\n",
        "            optimizer = tf.train.AdamOptimizer(learning_rate = learning_rate)\n",
        "        elif optimizer_name == 'SGD':\n",
        "            optimizer = tf.train.GradientDescentOptimizer(learning_rate = learning_rate)\n",
        "        elif optimizer_name == 'RMSProp':\n",
        "            optimizer = tf.train.RMSPropOptimizer(learning_rate = learning_rate)\n",
        "        elif optimizer_name == 'Adagrad':\n",
        "            optimizer = tf.train.AdagradOptimizer(learning_rate = learning_rate)\n",
        "\n",
        "        self.train_op = optimizer.minimize(self.loss_L2)\n",
        "        \n",
        "        # Note: We don't define accuracy here. For evaluation on train and val after every epoch, return predictions and then\n",
        "        # evaluate accuracy outside, using numpy\n",
        "        "
      ],
      "execution_count": null,
      "outputs": []
    },
    {
      "cell_type": "code",
      "metadata": {
        "id": "uo5z1t1y-Vor"
      },
      "source": [
        "# Predict function for the created model\n",
        "def predict(model, int_sent_batch, labels_batch, mask_batch, embedding_mat, tfsession, batch_size = 1000):\n",
        "    \"\"\"\n",
        "    This takes in ONE category of data of arbitrary sentence length, as well as the corresponding labels, and returns the count\n",
        "    of correct results as well as the loss. Also takes in the CONCATENATED embedding matrix (with val and test words)\n",
        "    \n",
        "    Batch size here is how many samples to process at once. We want to be as large as possible technically, i.e. ideally to\n",
        "    process whole batch in 1 go.\n",
        "    \n",
        "    Shapes:\n",
        "    int_sent_batch = nData_in_cat x categ_len\n",
        "    labels_batch = nData_in_cat (1-Dim)\n",
        "    mask_batch = nData_in_cat x categ_len\n",
        "    \"\"\"\n",
        "    # Same approach as train, i.e. divide whole chunk into batches\n",
        "    nData, _ = int_sent_batch.shape\n",
        "    \n",
        "    # Need one-hot labels to evaluate loss\n",
        "    _, labels_batch_oh = one_hot_labels(labels_batch)\n",
        "    \n",
        "    if batch_size >= nData:\n",
        "        num_batch = 1\n",
        "    elif nData % batch_size == 0:\n",
        "        num_batch = (nData // batch_size)\n",
        "    else:\n",
        "        num_batch = (nData // batch_size) + 1\n",
        "    \n",
        "    count_correct = 0; loss_accum = 0; batch_total_length = 0\n",
        "    for batch_ind in range(num_batch): # Iterate through each batch\n",
        "        low_ind = (batch_ind) * batch_size\n",
        "        high_ind = min(low_ind + batch_size, nData)\n",
        "        \n",
        "        # Extract the batch of data\n",
        "        batch_in = int_sent_batch[low_ind:high_ind, :]\n",
        "        batch_labels_oh = labels_batch_oh[low_ind:high_ind, :]\n",
        "        batch_labels = labels_batch[low_ind:high_ind]\n",
        "        batch_masks = mask_batch[low_ind:high_ind, :]\n",
        "        \n",
        "        # Extract the batch length (not always = batch size, in case nData < batch size)\n",
        "        batch_length = batch_in.shape[0]\n",
        "        \n",
        "        # Create feed dictionary to predict\n",
        "        feed_pred = {model.sent : batch_in, model.labels : batch_labels_oh, model.isTrain : False, model.mask : batch_masks, \n",
        "                     model.embedder_infer : embedding_mat, model.n_dat : batch_length}\n",
        "        \n",
        "        # Perform predictions to get average loss for this batch, and the predictions on this batch\n",
        "        batch_pred, av_loss = tfsession.run([model.predictions, model.loss], feed_dict = feed_pred)\n",
        "        \n",
        "        # Sum up the loss and correct counts, because we want to average over ALL training data later\n",
        "        loss_accum += av_loss * batch_length\n",
        "        count_correct += np.sum(batch_pred == batch_labels)\n",
        "        # count_correct += np.sum(np.abs(batch_pred - batch_labels) <= 1)\n",
        "        batch_total_length += batch_length # sanity check, must be = nData\n",
        "        \n",
        "    \n",
        "    \n",
        "    return count_correct, loss_accum, nData\n",
        "    "
      ],
      "execution_count": null,
      "outputs": []
    },
    {
      "cell_type": "code",
      "metadata": {
        "id": "9f28T3V_-Vor"
      },
      "source": [
        "# Training function for the created model\n",
        "def train(model, int_train_padded, labels_train_padded, mask_train_padded, embedding_val, embedding_test, n_epochs, batch_size,\n",
        "         int_val_padded, labels_val_padded, mask_val_padded, tfsession):\n",
        "    \"\"\"\n",
        "    Train the model for n_epochs using the fed training data (already in integer form) and then predict on whole\n",
        "    train and val after every epoch. Returns a list of acc and loss after every epoch.\n",
        "    \n",
        "    Also takes in the embeddings from val and test words (these are NOT in train, hence never updated, but are in w2v)\n",
        "    to concatenate with the trained embeddings\n",
        "    \"\"\"\n",
        "    # with tf.Session() as sess:\n",
        "    embed_train = tfsession.run(model.embedder, feed_dict = None) # get initial training embedding matrix\n",
        "        \n",
        "    embedding_full = np.concatenate([embed_train, embedding_val, embedding_test], axis = 0)\n",
        "    acc_train_per_epoch = []; loss_train_per_epoch = []; acc_val_per_epoch = []; loss_val_per_epoch = []\n",
        "    # Start of each epoch.\n",
        "    for epoch in range(n_epochs):\n",
        "        # Shuffle the categories\n",
        "#         c = list(zip(int_train_padded, labels_train_padded, mask_train_padded))\n",
        "#         random.shuffle(c)\n",
        "#         new_int_train, new_labels_train, new_mask_train = zip(*c) # new... are shuffled versions of the original, but shuffled in triplets accordingly\n",
        "        c = list (zip(list(zip(int_train_padded, labels_train_padded)),mask_train_padded))\n",
        "        random.shuffle(c)\n",
        "        ab, new_mask_train = zip(*c)\n",
        "        new_int_train, new_labels_train =zip(*ab)\n",
        "        \n",
        "\n",
        "        for categ in range(len(new_int_train)): # iterate through the categories\n",
        "            group_int_inputs = new_int_train[categ]; group_labels = new_labels_train[categ]; group_masks = new_mask_train[categ]\n",
        "\n",
        "            # Shuffle within category\n",
        "            permute = np.random.permutation(group_int_inputs.shape[0])\n",
        "            group_int_inputs = group_int_inputs[permute,:]\n",
        "            group_labels = group_labels[permute]\n",
        "            group_masks = group_masks[permute,:]\n",
        "\n",
        "            # one-hot encode labels for training\n",
        "            _, group_labels_oh = one_hot_labels(group_labels)\n",
        "\n",
        "            # Take batches of data within categories, in case some categories contain too big of chunk\n",
        "            nData,_ = group_int_inputs.shape\n",
        "\n",
        "            if batch_size >= nData:\n",
        "                num_batch = 1\n",
        "            elif nData % batch_size == 0:\n",
        "                num_batch = (nData // batch_size)\n",
        "            else:\n",
        "                num_batch = (nData // batch_size) + 1\n",
        "\n",
        "            for batch_ind in range(num_batch): # Iterate through each batch\n",
        "                low_ind = (batch_ind) * batch_size\n",
        "                high_ind = min(low_ind + batch_size, nData)\n",
        "\n",
        "                # Take in batch, all the data needed for TRAINING only.\n",
        "                batch_in = group_int_inputs[low_ind:high_ind, :]\n",
        "                batch_labels_oh = group_labels_oh[low_ind:high_ind, :]\n",
        "                batch_masks = group_masks[low_ind:high_ind, :]\n",
        "                batch_dat = batch_in.shape[0]\n",
        "\n",
        "                # Create dictionary to feed\n",
        "                feed_train = {model.sent : batch_in, model.labels : batch_labels_oh, model.isTrain : True, model.mask : batch_masks, \n",
        "                             model.embedder_infer : embedding_full, model.n_dat : batch_dat}\n",
        "\n",
        "                # Train\n",
        "                tfsession.run(model.train_op, feed_dict = feed_train)\n",
        "                    \n",
        "        # At the end of every epoch, update the embedding matrix from training, and re-concatenate with val and test\n",
        "        embedding_train = tfsession.run(model.embedder, feed_dict = None)\n",
        "        embedding_full = np.concatenate([embedding_train, embedding_val, embedding_test], axis = 0)\n",
        "        \n",
        "        # Then use this full embedding to do predictions on train and val. Complete the predict function above. It will take\n",
        "        # the WHOLE training group from each category, and return the total loss as well as the total count of correct predict,\n",
        "        # as well as the sample count (i.e. how many processed). Use these to compute sum over all categories, and take mean over\n",
        "        # these to be our acc and loss respectively.\n",
        "        whole_train_loss = 0; whole_train_count = 0; whole_val_loss = 0; whole_val_count = 0; train_samples = 0; val_samples = 0\n",
        "        \n",
        "        # For train\n",
        "        for categ in range(len(new_int_train)): # iterate through the categories again, for inference\n",
        "            group_int_inputs = new_int_train[categ]; group_labels = new_labels_train[categ]; group_masks = new_mask_train[categ]\n",
        "            count_correct, loss_accum, batch_length = predict(model, group_int_inputs, group_labels, group_masks, embedding_full, tfsession, batch_size = 2000)\n",
        "            whole_train_loss += loss_accum; whole_train_count += count_correct; train_samples += batch_length\n",
        "            \n",
        "        acc_train_per_epoch.append(whole_train_count / train_samples)\n",
        "        loss_train_per_epoch.append(whole_train_loss / train_samples)\n",
        "        \n",
        "        # For val\n",
        "        for categ in range(len(int_val_padded)): # iterate through the categories again, for inference\n",
        "            group_int_inputs = int_val_padded[categ]; group_labels = labels_val_padded[categ]; group_masks = mask_val_padded[categ]\n",
        "            count_correct, loss_accum, batch_length = predict(model, group_int_inputs, group_labels, group_masks, embedding_full, tfsession, batch_size = 2000)\n",
        "            whole_val_loss += loss_accum; whole_val_count += count_correct; val_samples += batch_length\n",
        "            \n",
        "        acc_val_per_epoch.append(whole_val_count / val_samples)\n",
        "        loss_val_per_epoch.append(whole_val_loss / val_samples)\n",
        "        \n",
        "        print(f\"For epoch {epoch+1}, train acc and loss are {whole_train_count / train_samples} and {whole_train_loss / train_samples}\")\n",
        "        print(f\"For epoch {epoch+1}, val acc and loss are {whole_val_count / val_samples} and {whole_val_loss / val_samples}\")\n",
        "\n",
        "\n",
        "\n",
        "    return acc_train_per_epoch, loss_train_per_epoch, acc_val_per_epoch, loss_val_per_epoch, embedding_full\n",
        "        \n",
        "        "
      ],
      "execution_count": null,
      "outputs": []
    },
    {
      "cell_type": "code",
      "metadata": {
        "id": "YXlu9_SyAE-0"
      },
      "source": [
        "# Function to predict on dataset AFTER model has been trained\n",
        "def predict_test(int_test_padded, labels_test_padded, mask_test_padded, embedding_mat, tfsession):\n",
        "    whole_test_loss = 0; whole_test_count = 0; test_samples = 0\n",
        "    for categ in range(len(int_test_padded)):\n",
        "        group_int_inputs = int_test_padded[categ]; group_labels = labels_test_padded[categ]; group_masks = mask_test_padded[categ]\n",
        "        count_correct, loss_accum, batch_length = predict(model, group_int_inputs, group_labels, group_masks, embedding_mat, tfsession, batch_size = 2000)\n",
        "        whole_test_loss += loss_accum; whole_test_count += count_correct; test_samples += batch_length\n",
        "\n",
        "    test_acc = whole_test_count / test_samples; test_loss = whole_test_loss / test_samples\n",
        "\n",
        "    return test_acc, test_loss"
      ],
      "execution_count": null,
      "outputs": []
    },
    {
      "cell_type": "code",
      "metadata": {
        "colab": {
          "base_uri": "https://localhost:8080/"
        },
        "id": "yxLfOfyj-Vor",
        "outputId": "6ca1c246-dce3-4340-cde5-0eaf17376ecc"
      },
      "source": [
        "# Model Training Code Skeleton. We used this to explore hyperparameters by manually inputting the values we tried, and running this code\n",
        "with tf.device('/device:GPU:0'):\n",
        "  # Create Model\n",
        "  embedding_train = embedding_mat; num_classes = 5; nodes_per_layer = [250, 125, num_classes]\n",
        "  learning_rate = 0.001; reg_coeff = 2e-03; drop_prob = 0.1; embedding_val = embedding_mat_val\n",
        "  embedding_test = embedding_mat_test; proj_length = 450\n",
        "\n",
        "  tf.reset_default_graph()\n",
        "\n",
        "  model = Model(num_classes, nodes_per_layer, learning_rate, embedding_train, reg_coeff= reg_coeff, drop_prob= drop_prob, proj_length = proj_length\n",
        "  ,max_pool= False, min_pool= False, av_pool= True, optimizer_name= \"Adam\", train_embed= False, hlactivation = 'relu', isProject = False)\n",
        "\n",
        "  # Input Data\n",
        "  x_cat = int_train_padded; y_cat = labels_train_padded; mask_cat = mask_train_padded;\n",
        "  x_val = int_val_padded; y_val = labels_val_padded; mask_val = mask_val_padded\n",
        "\n",
        "  init = tf.initialize_all_variables()\n",
        "\n",
        "  sess = tf.Session()\n",
        "  sess.run(init)\n",
        "\n",
        "  # Train\n",
        "  acc_train, loss_train, acc_val, loss_val, embedding_full = train(model, x_cat, y_cat, mask_cat, embedding_val, embedding_test, 175, 1024, x_val, y_val, mask_val, sess)\n",
        "\n",
        "  # Predict on test\n",
        "  acc_test, loss_test = predict_test(int_test_padded, labels_test_padded, mask_test_padded, embedding_full, sess)\n",
        "\n",
        "  argmax_val = np.argmax(acc_val)\n",
        "  print(f\"Max validation accuracy obtained at epoch {np.argmax(acc_val)+1} with value of {np.max(acc_val)}\")\n",
        "  print(f\"Training accuracy at that epoch is {acc_train[argmax_val]}\")\n",
        "  print(f\"Accuracy and loss on test using the final trained model is {acc_test} and {loss_test} respectively\")"
      ],
      "execution_count": null,
      "outputs": [
        {
          "output_type": "stream",
          "text": [
            "Av Pooling\n",
            "For epoch 1, train acc and loss are 0.6125936329588015 and 1.5615642019983536\n",
            "For epoch 1, val acc and loss are 0.6112624886466849 and 1.569592283705383\n",
            "For epoch 2, train acc and loss are 0.7907303370786517 and 1.5394513485360235\n",
            "For epoch 2, val acc and loss are 0.7983651226158038 and 1.5463853758319088\n",
            "For epoch 3, train acc and loss are 0.767439138576779 and 1.5019375828935413\n",
            "For epoch 3, val acc and loss are 0.773841961852861 and 1.5088932010718197\n",
            "For epoch 4, train acc and loss are 0.8092228464419475 and 1.4494196102860268\n",
            "For epoch 4, val acc and loss are 0.8192552225249773 and 1.4505763415528037\n",
            "For epoch 5, train acc and loss are 0.8233848314606742 and 1.3891128782420123\n",
            "For epoch 5, val acc and loss are 0.8256130790190735 and 1.3906553760644633\n",
            "For epoch 6, train acc and loss are 0.8375468164794008 and 1.3402443308285559\n",
            "For epoch 6, val acc and loss are 0.8374205267938238 and 1.3507794853127295\n",
            "For epoch 7, train acc and loss are 0.8419943820224719 and 1.3097348779942213\n",
            "For epoch 7, val acc and loss are 0.8374205267938238 and 1.3252323518332083\n",
            "For epoch 8, train acc and loss are 0.8422284644194756 and 1.2942168673549252\n",
            "For epoch 8, val acc and loss are 0.8392370572207084 and 1.3121410624532674\n",
            "For epoch 9, train acc and loss are 0.8436329588014981 and 1.2830049895615168\n",
            "For epoch 9, val acc and loss are 0.8419618528610354 and 1.3014553351146756\n",
            "For epoch 10, train acc and loss are 0.8491338951310862 and 1.2743641791049014\n",
            "For epoch 10, val acc and loss are 0.8510445049954587 and 1.300717610212806\n",
            "For epoch 11, train acc and loss are 0.851123595505618 and 1.2679560159364442\n",
            "For epoch 11, val acc and loss are 0.849227974568574 and 1.2955924620095651\n",
            "For epoch 12, train acc and loss are 0.8505383895131086 and 1.2657129324498249\n",
            "For epoch 12, val acc and loss are 0.8401453224341507 and 1.2963434694898226\n",
            "For epoch 13, train acc and loss are 0.8500702247191011 and 1.2647465512100677\n",
            "For epoch 13, val acc and loss are 0.8483197093551317 and 1.3064089911726797\n",
            "For epoch 14, train acc and loss are 0.8520599250936329 and 1.2570675913983962\n",
            "For epoch 14, val acc and loss are 0.8401453224341507 and 1.2906415058633178\n",
            "For epoch 15, train acc and loss are 0.8513576779026217 and 1.2549415222658646\n",
            "For epoch 15, val acc and loss are 0.849227974568574 and 1.300182291965502\n",
            "For epoch 16, train acc and loss are 0.8552200374531835 and 1.2503020865249723\n",
            "For epoch 16, val acc and loss are 0.8455949137148048 and 1.2924983765622033\n",
            "For epoch 17, train acc and loss are 0.8542837078651685 and 1.2493895295909727\n",
            "For epoch 17, val acc and loss are 0.846503178928247 and 1.2957535085626128\n",
            "For epoch 18, train acc and loss are 0.8463249063670412 and 1.2519656529698926\n",
            "For epoch 18, val acc and loss are 0.8365122615803815 and 1.3051218646531968\n",
            "For epoch 19, train acc and loss are 0.8569756554307116 and 1.2452116797814208\n",
            "For epoch 19, val acc and loss are 0.849227974568574 and 1.2908992549703946\n",
            "For epoch 20, train acc and loss are 0.851123595505618 and 1.247335783997725\n",
            "For epoch 20, val acc and loss are 0.8310626702997275 and 1.2942412805817107\n",
            "For epoch 21, train acc and loss are 0.8460908239700374 and 1.2467221238472488\n",
            "For epoch 21, val acc and loss are 0.8265213442325159 and 1.2981427732540411\n",
            "For epoch 22, train acc and loss are 0.8540496254681648 and 1.2457015394383155\n",
            "For epoch 22, val acc and loss are 0.8474114441416893 and 1.298048669592453\n",
            "For epoch 23, train acc and loss are 0.8496020599250936 and 1.2393972759836176\n",
            "For epoch 23, val acc and loss are 0.8365122615803815 and 1.2924248453273652\n",
            "For epoch 24, train acc and loss are 0.855688202247191 and 1.2410058403171405\n",
            "For epoch 24, val acc and loss are 0.8446866485013624 and 1.297417151397407\n",
            "For epoch 25, train acc and loss are 0.849250936329588 and 1.23798430228278\n",
            "For epoch 25, val acc and loss are 0.8283378746594006 and 1.29414313365718\n",
            "For epoch 26, train acc and loss are 0.8579119850187266 and 1.243005674709095\n",
            "For epoch 26, val acc and loss are 0.8410535876475931 and 1.2933425419337092\n",
            "For epoch 27, train acc and loss are 0.8510065543071161 and 1.2353515823682149\n",
            "For epoch 27, val acc and loss are 0.8201634877384196 and 1.289792994712289\n",
            "For epoch 28, train acc and loss are 0.8409410112359551 and 1.2401761276724186\n",
            "For epoch 28, val acc and loss are 0.8219800181653043 and 1.3048150559970186\n",
            "For epoch 29, train acc and loss are 0.8547518726591761 and 1.234264503871457\n",
            "For epoch 29, val acc and loss are 0.8419618528610354 and 1.2976010560339737\n",
            "For epoch 30, train acc and loss are 0.8547518726591761 and 1.2302492211541434\n",
            "For epoch 30, val acc and loss are 0.8437783832879201 and 1.2906048110568664\n",
            "For epoch 31, train acc and loss are 0.8491338951310862 and 1.2293783444701956\n",
            "For epoch 31, val acc and loss are 0.8319709355131698 and 1.2929348928293891\n",
            "For epoch 32, train acc and loss are 0.8506554307116105 and 1.2289243613680203\n",
            "For epoch 32, val acc and loss are 0.8374205267938238 and 1.2930438823855865\n",
            "For epoch 33, train acc and loss are 0.8451544943820225 and 1.2348487453904937\n",
            "For epoch 33, val acc and loss are 0.8365122615803815 and 1.3087061129300623\n",
            "For epoch 34, train acc and loss are 0.8520599250936329 and 1.2259624402286409\n",
            "For epoch 34, val acc and loss are 0.8265213442325159 and 1.2877202253792093\n",
            "For epoch 35, train acc and loss are 0.8478464419475655 and 1.2307302009188728\n",
            "For epoch 35, val acc and loss are 0.815622161671208 and 1.2912773806652516\n",
            "For epoch 36, train acc and loss are 0.8498361423220974 and 1.2263030482365398\n",
            "For epoch 36, val acc and loss are 0.8337874659400545 and 1.2995533060746016\n",
            "For epoch 37, train acc and loss are 0.851123595505618 and 1.2242138243737293\n",
            "For epoch 37, val acc and loss are 0.8374205267938238 and 1.293887108374898\n",
            "For epoch 38, train acc and loss are 0.8549859550561798 and 1.2223114127690873\n",
            "For epoch 38, val acc and loss are 0.8356039963669392 and 1.2868552412583978\n",
            "For epoch 39, train acc and loss are 0.8477294007490637 and 1.2230758096618153\n",
            "For epoch 39, val acc and loss are 0.8283378746594006 and 1.2930232649169977\n",
            "For epoch 40, train acc and loss are 0.8467930711610487 and 1.2274444147330545\n",
            "For epoch 40, val acc and loss are 0.8328792007266121 and 1.3088894699185032\n",
            "For epoch 41, train acc and loss are 0.8551029962546817 and 1.2189031211233765\n",
            "For epoch 41, val acc and loss are 0.8337874659400545 and 1.287261152678896\n",
            "For epoch 42, train acc and loss are 0.8425795880149812 and 1.229447913415423\n",
            "For epoch 42, val acc and loss are 0.8283378746594006 and 1.310946899040735\n",
            "For epoch 43, train acc and loss are 0.8528792134831461 and 1.2194407044836644\n",
            "For epoch 43, val acc and loss are 0.8410535876475931 and 1.2960057547696604\n",
            "For epoch 44, train acc and loss are 0.8594335205992509 and 1.2249778242928258\n",
            "For epoch 44, val acc and loss are 0.8419618528610354 and 1.2881259991838974\n",
            "For epoch 45, train acc and loss are 0.8481975655430711 and 1.2211128553647674\n",
            "For epoch 45, val acc and loss are 0.8228882833787466 and 1.2902465937464591\n",
            "For epoch 46, train acc and loss are 0.8526451310861424 and 1.217356782671664\n",
            "For epoch 46, val acc and loss are 0.8401453224341507 and 1.293496277525033\n",
            "For epoch 47, train acc and loss are 0.8481975655430711 and 1.2208763333630472\n",
            "For epoch 47, val acc and loss are 0.8247048138056312 and 1.289959210899069\n",
            "For epoch 48, train acc and loss are 0.860369850187266 and 1.223785802749882\n",
            "For epoch 48, val acc and loss are 0.8419618528610354 and 1.2949618470333144\n",
            "For epoch 49, train acc and loss are 0.8441011235955056 and 1.222291024018093\n",
            "For epoch 49, val acc and loss are 0.8310626702997275 and 1.305771806909213\n",
            "For epoch 50, train acc and loss are 0.8552200374531835 and 1.216190900109457\n",
            "For epoch 50, val acc and loss are 0.8328792007266121 and 1.2843839646901574\n",
            "For epoch 51, train acc and loss are 0.8525280898876404 and 1.2129269766338755\n",
            "For epoch 51, val acc and loss are 0.8283378746594006 and 1.2849316707423988\n",
            "For epoch 52, train acc and loss are 0.8562734082397003 and 1.2111842820651075\n",
            "For epoch 52, val acc and loss are 0.8356039963669392 and 1.2920105118409382\n",
            "For epoch 53, train acc and loss are 0.8607209737827716 and 1.2127110580268423\n",
            "For epoch 53, val acc and loss are 0.8410535876475931 and 1.2918584283972523\n",
            "For epoch 54, train acc and loss are 0.8504213483146067 and 1.2146391003682149\n",
            "For epoch 54, val acc and loss are 0.8328792007266121 and 1.3025278320754257\n",
            "For epoch 55, train acc and loss are 0.856624531835206 and 1.2118526684880704\n",
            "For epoch 55, val acc and loss are 0.8337874659400545 and 1.289018243470049\n",
            "For epoch 56, train acc and loss are 0.8586142322097379 and 1.2154678968705712\n",
            "For epoch 56, val acc and loss are 0.8328792007266121 and 1.2842964728673298\n",
            "For epoch 57, train acc and loss are 0.8527621722846442 and 1.2073314273206706\n",
            "For epoch 57, val acc and loss are 0.8346957311534968 and 1.2950694771055522\n",
            "For epoch 58, train acc and loss are 0.8577949438202247 and 1.2040701078509124\n",
            "For epoch 58, val acc and loss are 0.8319709355131698 and 1.2837612728548526\n",
            "For epoch 59, train acc and loss are 0.8500702247191011 and 1.210318102400178\n",
            "For epoch 59, val acc and loss are 0.8201634877384196 and 1.2931753077580646\n",
            "For epoch 60, train acc and loss are 0.8536985018726592 and 1.206357766752051\n",
            "For epoch 60, val acc and loss are 0.8328792007266121 and 1.2944013723777057\n",
            "For epoch 61, train acc and loss are 0.8594335205992509 and 1.2056486693242292\n",
            "For epoch 61, val acc and loss are 0.8301544050862852 and 1.2841662519309436\n",
            "For epoch 62, train acc and loss are 0.8544007490636704 and 1.2107262622411554\n",
            "For epoch 62, val acc and loss are 0.8346957311534968 and 1.30453470346605\n",
            "For epoch 63, train acc and loss are 0.8477294007490637 and 1.207362534206235\n",
            "For epoch 63, val acc and loss are 0.8265213442325159 and 1.2993627524614118\n",
            "For epoch 64, train acc and loss are 0.8601357677902621 and 1.2012726966193998\n",
            "For epoch 64, val acc and loss are 0.8346957311534968 and 1.2869914963936178\n",
            "For epoch 65, train acc and loss are 0.8618913857677902 and 1.1984422736372171\n",
            "For epoch 65, val acc and loss are 0.8428701180744778 and 1.2871223255031008\n",
            "For epoch 66, train acc and loss are 0.8520599250936329 and 1.2017098175647776\n",
            "For epoch 66, val acc and loss are 0.8328792007266121 and 1.2983072340001203\n",
            "For epoch 67, train acc and loss are 0.858380149812734 and 1.1979031406817364\n",
            "For epoch 67, val acc and loss are 0.8301544050862852 and 1.2837635464932462\n",
            "For epoch 68, train acc and loss are 0.857560861423221 and 1.1970285953263218\n",
            "For epoch 68, val acc and loss are 0.8328792007266121 and 1.287169822879968\n",
            "For epoch 69, train acc and loss are 0.8625936329588015 and 1.1947990905646975\n",
            "For epoch 69, val acc and loss are 0.8392370572207084 and 1.283379509490149\n",
            "For epoch 70, train acc and loss are 0.8604868913857678 and 1.1934281696708462\n",
            "For epoch 70, val acc and loss are 0.8410535876475931 and 1.289831831388101\n",
            "For epoch 71, train acc and loss are 0.8632958801498127 and 1.1922787056768431\n",
            "For epoch 71, val acc and loss are 0.8428701180744778 and 1.2907830906607258\n",
            "For epoch 72, train acc and loss are 0.8632958801498127 and 1.191250022417039\n",
            "For epoch 72, val acc and loss are 0.8392370572207084 and 1.2845494008735567\n",
            "For epoch 73, train acc and loss are 0.8591994382022472 and 1.194777383744605\n",
            "For epoch 73, val acc and loss are 0.8392370572207084 and 1.2844932228732824\n",
            "For epoch 74, train acc and loss are 0.8591994382022472 and 1.1906142571473612\n",
            "For epoch 74, val acc and loss are 0.8401453224341507 and 1.2891959248619878\n",
            "For epoch 75, train acc and loss are 0.8651685393258427 and 1.190741516538104\n",
            "For epoch 75, val acc and loss are 0.8419618528610354 and 1.2851011932816536\n",
            "For epoch 76, train acc and loss are 0.8604868913857678 and 1.1881020349425992\n",
            "For epoch 76, val acc and loss are 0.8356039963669392 and 1.287710782076206\n",
            "For epoch 77, train acc and loss are 0.8599016853932584 and 1.1885148860263022\n",
            "For epoch 77, val acc and loss are 0.8337874659400545 and 1.286349400512529\n",
            "For epoch 78, train acc and loss are 0.8601357677902621 and 1.1885346910647685\n",
            "For epoch 78, val acc and loss are 0.8365122615803815 and 1.2956970112633424\n",
            "For epoch 79, train acc and loss are 0.8541666666666666 and 1.1918804989604468\n",
            "For epoch 79, val acc and loss are 0.8310626702997275 and 1.3049668281539584\n",
            "For epoch 80, train acc and loss are 0.8579119850187266 and 1.1868217017934117\n",
            "For epoch 80, val acc and loss are 0.8319709355131698 and 1.290779857392965\n",
            "For epoch 81, train acc and loss are 0.8595505617977528 and 1.1894195345317604\n",
            "For epoch 81, val acc and loss are 0.8328792007266121 and 1.2821942169378282\n",
            "For epoch 82, train acc and loss are 0.8655196629213483 and 1.1843141534048296\n",
            "For epoch 82, val acc and loss are 0.8392370572207084 and 1.2893776369571253\n",
            "For epoch 83, train acc and loss are 0.8644662921348315 and 1.1907490553955238\n",
            "For epoch 83, val acc and loss are 0.8319709355131698 and 1.3045525354866978\n",
            "For epoch 84, train acc and loss are 0.860369850187266 and 1.1865364054029577\n",
            "For epoch 84, val acc and loss are 0.8365122615803815 and 1.2862382035814124\n",
            "For epoch 85, train acc and loss are 0.8687968164794008 and 1.183811862105399\n",
            "For epoch 85, val acc and loss are 0.8346957311534968 and 1.2938795178506073\n",
            "For epoch 86, train acc and loss are 0.8573267790262172 and 1.1854605253799801\n",
            "For epoch 86, val acc and loss are 0.8346957311534968 and 1.3014674066522791\n",
            "For epoch 87, train acc and loss are 0.8658707865168539 and 1.1842114933616437\n",
            "For epoch 87, val acc and loss are 0.8383287920072662 and 1.2787753239639448\n",
            "For epoch 88, train acc and loss are 0.8542837078651685 and 1.1881185165337855\n",
            "For epoch 88, val acc and loss are 0.8310626702997275 and 1.286437114188067\n",
            "For epoch 89, train acc and loss are 0.8678604868913857 and 1.1920731112723717\n",
            "For epoch 89, val acc and loss are 0.8410535876475931 and 1.2862178928520764\n",
            "For epoch 90, train acc and loss are 0.8680945692883895 and 1.1928384802007719\n",
            "For epoch 90, val acc and loss are 0.8410535876475931 and 1.302506415763841\n",
            "For epoch 91, train acc and loss are 0.8586142322097379 and 1.1822987454716631\n",
            "For epoch 91, val acc and loss are 0.8346957311534968 and 1.2992900841675705\n",
            "For epoch 92, train acc and loss are 0.8526451310861424 and 1.1876461834747916\n",
            "For epoch 92, val acc and loss are 0.8228882833787466 and 1.307006222567268\n",
            "For epoch 93, train acc and loss are 0.8654026217228464 and 1.1756958094763845\n",
            "For epoch 93, val acc and loss are 0.8374205267938238 and 1.2860010933811072\n",
            "For epoch 94, train acc and loss are 0.8713717228464419 and 1.1739987282131272\n",
            "For epoch 94, val acc and loss are 0.8410535876475931 and 1.287752471437896\n",
            "For epoch 95, train acc and loss are 0.868562734082397 and 1.1702165861478013\n",
            "For epoch 95, val acc and loss are 0.8437783832879201 and 1.2907386056733716\n",
            "For epoch 96, train acc and loss are 0.8677434456928839 and 1.1688243463384302\n",
            "For epoch 96, val acc and loss are 0.8365122615803815 and 1.2893392311021699\n",
            "For epoch 97, train acc and loss are 0.872308052434457 and 1.1695865955943248\n",
            "For epoch 97, val acc and loss are 0.8437783832879201 and 1.2894093936189102\n",
            "For epoch 98, train acc and loss are 0.8746488764044944 and 1.1690424601041645\n",
            "For epoch 98, val acc and loss are 0.8392370572207084 and 1.289916313419983\n",
            "For epoch 99, train acc and loss are 0.8730102996254682 and 1.1691317140553774\n",
            "For epoch 99, val acc and loss are 0.8410535876475931 and 1.2866910638644629\n",
            "For epoch 100, train acc and loss are 0.8691479400749064 and 1.1646250620177399\n",
            "For epoch 100, val acc and loss are 0.8383287920072662 and 1.2879945548635305\n",
            "For epoch 101, train acc and loss are 0.8617743445692884 and 1.1699153751079063\n",
            "For epoch 101, val acc and loss are 0.8337874659400545 and 1.3029167302406235\n",
            "For epoch 102, train acc and loss are 0.868562734082397 and 1.1639220338831011\n",
            "For epoch 102, val acc and loss are 0.8365122615803815 and 1.2970786395666276\n",
            "For epoch 103, train acc and loss are 0.8682116104868914 and 1.1623595281179702\n",
            "For epoch 103, val acc and loss are 0.8401453224341507 and 1.2811909361821106\n",
            "For epoch 104, train acc and loss are 0.8718398876404494 and 1.1598814939347546\n",
            "For epoch 104, val acc and loss are 0.8401453224341507 and 1.2880576690904235\n",
            "For epoch 105, train acc and loss are 0.8739466292134831 and 1.160883025995243\n",
            "For epoch 105, val acc and loss are 0.8356039963669392 and 1.2905571251755732\n",
            "For epoch 106, train acc and loss are 0.8719569288389513 and 1.1577704314854038\n",
            "For epoch 106, val acc and loss are 0.8410535876475931 and 1.289144664759207\n",
            "For epoch 107, train acc and loss are 0.8762874531835206 and 1.1562207288593611\n",
            "For epoch 107, val acc and loss are 0.8455949137148048 and 1.2838999497468204\n",
            "For epoch 108, train acc and loss are 0.8754681647940075 and 1.1545265356308958\n",
            "For epoch 108, val acc and loss are 0.8410535876475931 and 1.2917159421134277\n",
            "For epoch 109, train acc and loss are 0.8645833333333334 and 1.1582408209195298\n",
            "For epoch 109, val acc and loss are 0.8346957311534968 and 1.2944645247169237\n",
            "For epoch 110, train acc and loss are 0.8669241573033708 and 1.1608814655450845\n",
            "For epoch 110, val acc and loss are 0.8346957311534968 and 1.2857374094704084\n",
            "For epoch 111, train acc and loss are 0.8663389513108615 and 1.1585470396425395\n",
            "For epoch 111, val acc and loss are 0.8310626702997275 and 1.3057120293514173\n",
            "For epoch 112, train acc and loss are 0.8710205992509363 and 1.1518328502802144\n",
            "For epoch 112, val acc and loss are 0.8401453224341507 and 1.2845455137412187\n",
            "For epoch 113, train acc and loss are 0.8747659176029963 and 1.151358147462209\n",
            "For epoch 113, val acc and loss are 0.8310626702997275 and 1.295882105719058\n",
            "For epoch 114, train acc and loss are 0.8807350187265918 and 1.1507463384042964\n",
            "For epoch 114, val acc and loss are 0.8428701180744778 and 1.2948015462691733\n",
            "For epoch 115, train acc and loss are 0.867626404494382 and 1.1502283237009459\n",
            "For epoch 115, val acc and loss are 0.8392370572207084 and 1.2856660794388912\n",
            "For epoch 116, train acc and loss are 0.8774578651685393 and 1.1467997850466534\n",
            "For epoch 116, val acc and loss are 0.8356039963669392 and 1.291614472378827\n",
            "For epoch 117, train acc and loss are 0.8789794007490637 and 1.1510579298330603\n",
            "For epoch 117, val acc and loss are 0.8401453224341507 and 1.2893296218156598\n",
            "For epoch 118, train acc and loss are 0.8813202247191011 and 1.1451152248608039\n",
            "For epoch 118, val acc and loss are 0.8474114441416893 and 1.2871750048568962\n",
            "For epoch 119, train acc and loss are 0.8815543071161048 and 1.1455408913198482\n",
            "For epoch 119, val acc and loss are 0.8392370572207084 and 1.2939096986976784\n",
            "For epoch 120, train acc and loss are 0.8786282771535581 and 1.1411646113553073\n",
            "For epoch 120, val acc and loss are 0.8310626702997275 and 1.2944009764209647\n",
            "For epoch 121, train acc and loss are 0.8772237827715356 and 1.1391973771880406\n",
            "For epoch 121, val acc and loss are 0.8410535876475931 and 1.288394330957605\n",
            "For epoch 122, train acc and loss are 0.8835440074906367 and 1.1373702900881848\n",
            "For epoch 122, val acc and loss are 0.8455949137148048 and 1.2864429468896366\n",
            "For epoch 123, train acc and loss are 0.8775749063670412 and 1.1390158910067116\n",
            "For epoch 123, val acc and loss are 0.8410535876475931 and 1.2934711046591334\n",
            "For epoch 124, train acc and loss are 0.8673923220973783 and 1.1482339071228487\n",
            "For epoch 124, val acc and loss are 0.8147138964577657 and 1.3146449757315266\n",
            "For epoch 125, train acc and loss are 0.8874063670411985 and 1.1374825783464568\n",
            "For epoch 125, val acc and loss are 0.8401453224341507 and 1.2883457200945128\n",
            "For epoch 126, train acc and loss are 0.8813202247191011 and 1.1395976978322764\n",
            "For epoch 126, val acc and loss are 0.8474114441416893 and 1.2914079713561555\n",
            "For epoch 127, train acc and loss are 0.8840121722846442 and 1.1344673249326396\n",
            "For epoch 127, val acc and loss are 0.8446866485013624 and 1.2871590709816207\n",
            "For epoch 128, train acc and loss are 0.881437265917603 and 1.134078215793724\n",
            "For epoch 128, val acc and loss are 0.8346957311534968 and 1.2984997799567588\n",
            "For epoch 129, train acc and loss are 0.8803838951310862 and 1.1311011831328441\n",
            "For epoch 129, val acc and loss are 0.8401453224341507 and 1.2894311642018803\n",
            "For epoch 130, train acc and loss are 0.8813202247191011 and 1.1291215252898605\n",
            "For epoch 130, val acc and loss are 0.8374205267938238 and 1.2957721215611042\n",
            "For epoch 131, train acc and loss are 0.8809691011235955 and 1.1282192520127539\n",
            "For epoch 131, val acc and loss are 0.8428701180744778 and 1.2930749457711852\n",
            "For epoch 132, train acc and loss are 0.8744147940074907 and 1.130658731604002\n",
            "For epoch 132, val acc and loss are 0.8401453224341507 and 1.29453288512702\n",
            "For epoch 133, train acc and loss are 0.8769897003745318 and 1.1327989775031693\n",
            "For epoch 133, val acc and loss are 0.8201634877384196 and 1.3087491828890738\n",
            "For epoch 134, train acc and loss are 0.8822565543071161 and 1.1284161189829143\n",
            "For epoch 134, val acc and loss are 0.8437783832879201 and 1.2881392758072343\n",
            "For epoch 135, train acc and loss are 0.8871722846441947 and 1.1311003113172473\n",
            "For epoch 135, val acc and loss are 0.846503178928247 and 1.2939122124870293\n",
            "For epoch 136, train acc and loss are 0.8904494382022472 and 1.129826870652732\n",
            "For epoch 136, val acc and loss are 0.8410535876475931 and 1.3059994731568727\n",
            "For epoch 137, train acc and loss are 0.8857677902621723 and 1.1274628577412067\n",
            "For epoch 137, val acc and loss are 0.8265213442325159 and 1.309193420258573\n",
            "For epoch 138, train acc and loss are 0.8780430711610487 and 1.1227534903764502\n",
            "For epoch 138, val acc and loss are 0.8346957311534968 and 1.297025814584772\n",
            "For epoch 139, train acc and loss are 0.8851825842696629 and 1.1193417675430408\n",
            "For epoch 139, val acc and loss are 0.8410535876475931 and 1.2905953237947607\n",
            "For epoch 140, train acc and loss are 0.8806179775280899 and 1.1201771720546239\n",
            "For epoch 140, val acc and loss are 0.8356039963669392 and 1.2951295933433276\n",
            "For epoch 141, train acc and loss are 0.8890449438202247 and 1.1182514575732112\n",
            "For epoch 141, val acc and loss are 0.8337874659400545 and 1.3007813102001498\n",
            "For epoch 142, train acc and loss are 0.8889279026217228 and 1.1133414114291749\n",
            "For epoch 142, val acc and loss are 0.8446866485013624 and 1.2889450312093862\n",
            "For epoch 143, train acc and loss are 0.8863529962546817 and 1.1119829842660311\n",
            "For epoch 143, val acc and loss are 0.8374205267938238 and 1.2967585316579198\n",
            "For epoch 144, train acc and loss are 0.8735955056179775 and 1.1419243465564894\n",
            "For epoch 144, val acc and loss are 0.8401453224341507 and 1.3028898508737132\n",
            "For epoch 145, train acc and loss are 0.8783941947565543 and 1.128091458873021\n",
            "For epoch 145, val acc and loss are 0.8237965485921889 and 1.3242870056012022\n",
            "For epoch 146, train acc and loss are 0.8865870786516854 and 1.118606699623642\n",
            "For epoch 146, val acc and loss are 0.8310626702997275 and 1.3120367829091542\n",
            "For epoch 147, train acc and loss are 0.8815543071161048 and 1.119861190713077\n",
            "For epoch 147, val acc and loss are 0.8437783832879201 and 1.2919139668250712\n",
            "For epoch 148, train acc and loss are 0.8892790262172284 and 1.1106973173522323\n",
            "For epoch 148, val acc and loss are 0.8356039963669392 and 1.298147265744361\n",
            "For epoch 149, train acc and loss are 0.8906835205992509 and 1.1079329832383755\n",
            "For epoch 149, val acc and loss are 0.8337874659400545 and 1.2978925348735744\n",
            "For epoch 150, train acc and loss are 0.8919709737827716 and 1.104304597074731\n",
            "For epoch 150, val acc and loss are 0.8383287920072662 and 1.294642509491632\n",
            "For epoch 151, train acc and loss are 0.8927902621722846 and 1.1073864153289839\n",
            "For epoch 151, val acc and loss are 0.8501362397820164 and 1.2888136504456522\n",
            "For epoch 152, train acc and loss are 0.8909176029962547 and 1.1032907713469717\n",
            "For epoch 152, val acc and loss are 0.8446866485013624 and 1.3040651286547018\n",
            "For epoch 153, train acc and loss are 0.8900983146067416 and 1.098864854554112\n",
            "For epoch 153, val acc and loss are 0.8365122615803815 and 1.2931739073466648\n",
            "For epoch 154, train acc and loss are 0.8911516853932584 and 1.0975550237471021\n",
            "For epoch 154, val acc and loss are 0.8383287920072662 and 1.2926010120792024\n",
            "For epoch 155, train acc and loss are 0.8910346441947565 and 1.09778587866142\n",
            "For epoch 155, val acc and loss are 0.8392370572207084 and 1.2934043633732115\n",
            "For epoch 156, train acc and loss are 0.8937265917602997 and 1.0943663366390077\n",
            "For epoch 156, val acc and loss are 0.8383287920072662 and 1.3001169661410172\n",
            "For epoch 157, train acc and loss are 0.892439138576779 and 1.0931572022704819\n",
            "For epoch 157, val acc and loss are 0.8383287920072662 and 1.2948212156936756\n",
            "For epoch 158, train acc and loss are 0.8876404494382022 and 1.0927788668106335\n",
            "For epoch 158, val acc and loss are 0.8401453224341507 and 1.2978300856634446\n",
            "For epoch 159, train acc and loss are 0.8996956928838952 and 1.0934563944681306\n",
            "For epoch 159, val acc and loss are 0.8419618528610354 and 1.2915125723647378\n",
            "For epoch 160, train acc and loss are 0.892439138576779 and 1.092004027719913\n",
            "For epoch 160, val acc and loss are 0.8474114441416893 and 1.2931575505545094\n",
            "For epoch 161, train acc and loss are 0.8931413857677902 and 1.0879922735082745\n",
            "For epoch 161, val acc and loss are 0.8383287920072662 and 1.304335302704578\n",
            "For epoch 162, train acc and loss are 0.8900983146067416 and 1.0946543302093998\n",
            "For epoch 162, val acc and loss are 0.821071752951862 and 1.3164983211486152\n",
            "For epoch 163, train acc and loss are 0.8927902621722846 and 1.0856508781596292\n",
            "For epoch 163, val acc and loss are 0.8346957311534968 and 1.2928819096597295\n",
            "For epoch 164, train acc and loss are 0.8902153558052435 and 1.0869181044260214\n",
            "For epoch 164, val acc and loss are 0.8319709355131698 and 1.3102408652950914\n",
            "For epoch 165, train acc and loss are 0.8890449438202247 and 1.0870605503882138\n",
            "For epoch 165, val acc and loss are 0.8319709355131698 and 1.2984335851279527\n",
            "For epoch 166, train acc and loss are 0.8900983146067416 and 1.0841546885613422\n",
            "For epoch 166, val acc and loss are 0.8365122615803815 and 1.3053083273630377\n",
            "For epoch 167, train acc and loss are 0.8987593632958801 and 1.0806077197612671\n",
            "For epoch 167, val acc and loss are 0.8437783832879201 and 1.2943049509020743\n",
            "For epoch 168, train acc and loss are 0.8905664794007491 and 1.080115724020125\n",
            "For epoch 168, val acc and loss are 0.8410535876475931 and 1.2957846242443851\n",
            "For epoch 169, train acc and loss are 0.8938436329588015 and 1.0771443946670727\n",
            "For epoch 169, val acc and loss are 0.8365122615803815 and 1.2998626447611783\n",
            "For epoch 170, train acc and loss are 0.8951310861423221 and 1.074659025819784\n",
            "For epoch 170, val acc and loss are 0.8337874659400545 and 1.2991538580496889\n",
            "For epoch 171, train acc and loss are 0.9014513108614233 and 1.076118447891112\n",
            "For epoch 171, val acc and loss are 0.8401453224341507 and 1.3018457389332618\n",
            "For epoch 172, train acc and loss are 0.900749063670412 and 1.073238600059395\n",
            "For epoch 172, val acc and loss are 0.8346957311534968 and 1.3014017191938008\n",
            "For epoch 173, train acc and loss are 0.8891619850187266 and 1.0973571691982977\n",
            "For epoch 173, val acc and loss are 0.8410535876475931 and 1.3116028043597963\n",
            "For epoch 174, train acc and loss are 0.8968867041198502 and 1.0759778349531277\n",
            "For epoch 174, val acc and loss are 0.8328792007266121 and 1.3074709329683059\n",
            "For epoch 175, train acc and loss are 0.8968867041198502 and 1.0693087436342508\n",
            "For epoch 175, val acc and loss are 0.8374205267938238 and 1.2986171474032355\n",
            "Max validation accuracy obtained at epoch 10 with value of 0.8510445049954587\n",
            "Training accuracy at that epoch is 0.8491338951310862\n",
            "Accuracy and loss on test using the final trained model is 0.8497737556561086 and 1.2596616870677309 respectively\n"
          ],
          "name": "stdout"
        }
      ]
    },
    {
      "cell_type": "code",
      "metadata": {
        "colab": {
          "base_uri": "https://localhost:8080/",
          "height": 931
        },
        "id": "mHeGL_3Dn_5f",
        "outputId": "feceb09e-edf3-44ba-bdb6-d287af55d268"
      },
      "source": [
        "# Grid Search Skeleton for the case where we do NOT train the embeddings, but use a projection matrix.\n",
        "with tf.device('/device:GPU:0'):\n",
        "  num_classes = 5\n",
        "  reg_val = [2e-03, 2e-06]; nodes = [[10, 5, num_classes], [50, 25, num_classes], [250, 125, num_classes]]; drops = [0, 0.1]; plengths = [150, 300, 450]\n",
        "  val_accs2 = np.zeros((2,3,2,3))\n",
        "  for i in range(len(reg_val)):\n",
        "    for j in range(len(nodes)):\n",
        "      for k in range(len(drops)):\n",
        "        for pl in range(len(plengths)):\n",
        "          # Create Model\n",
        "          embedding_train = embedding_mat; nodes_per_layer = nodes[j]\n",
        "          learning_rate = 0.001; reg_coeff = reg_val[i]; drop_prob = drops[k]; embedding_val = embedding_mat_val\n",
        "          embedding_test = embedding_mat_test; proj_length = plengths[pl]\n",
        "\n",
        "          tf.reset_default_graph()\n",
        "\n",
        "          model = Model(num_classes, nodes_per_layer, learning_rate, embedding_train, reg_coeff= reg_coeff, drop_prob= drop_prob, proj_length = proj_length\n",
        "          ,max_pool= False, min_pool= True, av_pool= True, optimizer_name= \"Adam\", train_embed= False, hlactivation = 'relu', isProject = True)\n",
        "\n",
        "          # Input Data\n",
        "          x_cat = int_train_padded; y_cat = labels_train_padded; mask_cat = mask_train_padded;\n",
        "          x_val = int_val_padded; y_val = labels_val_padded; mask_val = mask_val_padded\n",
        "\n",
        "          init = tf.initialize_all_variables()\n",
        "\n",
        "          sess = tf.Session()\n",
        "          sess.run(init)\n",
        "\n",
        "          # Train\n",
        "          acc_train, loss_train, acc_val, loss_val, embedding_full = train(model, x_cat, y_cat, mask_cat, embedding_val, embedding_test, 10, 1024, x_val, y_val, mask_val, sess)\n",
        "\n",
        "          # Predict on test\n",
        "          acc_test, loss_test = predict_test(int_test_padded, labels_test_padded, mask_test_padded, embedding_full, sess)\n",
        "\n",
        "          argmax_val = np.argmax(acc_val); best_val = np.max(acc_val)\n",
        "          val_accs2[i,j,k,pl] = best_val\n",
        "          print(f\"Drop prob = {drop_prob}, Reg Coeff = {reg_coeff}, Nodes per Layer = {nodes_per_layer}, Projection Length = {proj_length}\")\n",
        "          print(f\"Max validation accuracy obtained at epoch {np.argmax(acc_val)+1} with value of {np.max(acc_val)}\")\n",
        "          print(f\"Training accuracy at that epoch is {acc_train[argmax_val]}\")\n",
        "          print(f\"Accuracy and loss on test using the final trained model is {acc_test} and {loss_test} respectively\")"
      ],
      "execution_count": null,
      "outputs": [
        {
          "output_type": "stream",
          "text": [
            "Min and av Pooling\n",
            "For epoch 1, train acc and loss are 0.12804307116104868 and 1.7102140562978576\n",
            "For epoch 1, val acc and loss are 0.12897366030881016 and 1.7035370922218551\n",
            "For epoch 2, train acc and loss are 0.12804307116104868 and 1.7044640784239056\n",
            "For epoch 2, val acc and loss are 0.1262488646684832 and 1.6991276237555355\n",
            "For epoch 3, train acc and loss are 0.12804307116104868 and 1.6995242531882244\n",
            "For epoch 3, val acc and loss are 0.1262488646684832 and 1.6947457151560217\n",
            "For epoch 4, train acc and loss are 0.12804307116104868 and 1.6948241316591308\n",
            "For epoch 4, val acc and loss are 0.1262488646684832 and 1.6905140372214806\n",
            "For epoch 5, train acc and loss are 0.12804307116104868 and 1.690474561426077\n",
            "For epoch 5, val acc and loss are 0.1262488646684832 and 1.6864618731021448\n",
            "For epoch 6, train acc and loss are 0.12816011235955055 and 1.6862127085805831\n",
            "For epoch 6, val acc and loss are 0.1262488646684832 and 1.6825476003494402\n",
            "For epoch 7, train acc and loss are 0.1283941947565543 and 1.6821059572339505\n",
            "For epoch 7, val acc and loss are 0.1262488646684832 and 1.6787692774002603\n",
            "For epoch 8, train acc and loss are 0.12851123595505617 and 1.6781198100539183\n",
            "For epoch 8, val acc and loss are 0.1262488646684832 and 1.675163941855435\n",
            "For epoch 9, train acc and loss are 0.12851123595505617 and 1.6743671671114164\n",
            "For epoch 9, val acc and loss are 0.1262488646684832 and 1.671619275177099\n",
            "For epoch 10, train acc and loss are 0.12851123595505617 and 1.6707728255107608\n",
            "For epoch 10, val acc and loss are 0.1262488646684832 and 1.6681686902890738\n",
            "Drop prob = 0, Reg Coeff = 0.002, Nodes per Layer = [10, 5, 5], Projection Length = 150\n",
            "Max validation accuracy obtained at epoch 1 with value of 0.12897366030881016\n",
            "Training accuracy at that epoch is 0.12804307116104868\n",
            "Accuracy and loss on test using the final trained model is 0.1262443438914027 and 1.6633694654136761 respectively\n",
            "Min and av Pooling\n",
            "For epoch 1, train acc and loss are 0.150749063670412 and 1.718487433670612\n",
            "For epoch 1, val acc and loss are 0.14986376021798364 and 1.728405327714648\n",
            "For epoch 2, train acc and loss are 0.150749063670412 and 1.698023375081882\n",
            "For epoch 2, val acc and loss are 0.14986376021798364 and 1.7082454910286982\n"
          ],
          "name": "stdout"
        },
        {
          "output_type": "error",
          "ename": "KeyboardInterrupt",
          "evalue": "ignored",
          "traceback": [
            "\u001b[0;31m---------------------------------------------------------------------------\u001b[0m",
            "\u001b[0;31mKeyboardInterrupt\u001b[0m                         Traceback (most recent call last)",
            "\u001b[0;32m<ipython-input-127-d8cf26ef2fe8>\u001b[0m in \u001b[0;36m<module>\u001b[0;34m()\u001b[0m\n\u001b[1;32m     28\u001b[0m \u001b[0;34m\u001b[0m\u001b[0m\n\u001b[1;32m     29\u001b[0m           \u001b[0;31m# Train\u001b[0m\u001b[0;34m\u001b[0m\u001b[0;34m\u001b[0m\u001b[0;34m\u001b[0m\u001b[0m\n\u001b[0;32m---> 30\u001b[0;31m           \u001b[0macc_train\u001b[0m\u001b[0;34m,\u001b[0m \u001b[0mloss_train\u001b[0m\u001b[0;34m,\u001b[0m \u001b[0macc_val\u001b[0m\u001b[0;34m,\u001b[0m \u001b[0mloss_val\u001b[0m\u001b[0;34m,\u001b[0m \u001b[0membedding_full\u001b[0m \u001b[0;34m=\u001b[0m \u001b[0mtrain\u001b[0m\u001b[0;34m(\u001b[0m\u001b[0mmodel\u001b[0m\u001b[0;34m,\u001b[0m \u001b[0mx_cat\u001b[0m\u001b[0;34m,\u001b[0m \u001b[0my_cat\u001b[0m\u001b[0;34m,\u001b[0m \u001b[0mmask_cat\u001b[0m\u001b[0;34m,\u001b[0m \u001b[0membedding_val\u001b[0m\u001b[0;34m,\u001b[0m \u001b[0membedding_test\u001b[0m\u001b[0;34m,\u001b[0m \u001b[0;36m10\u001b[0m\u001b[0;34m,\u001b[0m \u001b[0;36m1024\u001b[0m\u001b[0;34m,\u001b[0m \u001b[0mx_val\u001b[0m\u001b[0;34m,\u001b[0m \u001b[0my_val\u001b[0m\u001b[0;34m,\u001b[0m \u001b[0mmask_val\u001b[0m\u001b[0;34m,\u001b[0m \u001b[0msess\u001b[0m\u001b[0;34m)\u001b[0m\u001b[0;34m\u001b[0m\u001b[0;34m\u001b[0m\u001b[0m\n\u001b[0m\u001b[1;32m     31\u001b[0m \u001b[0;34m\u001b[0m\u001b[0m\n\u001b[1;32m     32\u001b[0m           \u001b[0;31m# Predict on test\u001b[0m\u001b[0;34m\u001b[0m\u001b[0;34m\u001b[0m\u001b[0;34m\u001b[0m\u001b[0m\n",
            "\u001b[0;32m<ipython-input-77-619fd1df6bd6>\u001b[0m in \u001b[0;36mtrain\u001b[0;34m(model, int_train_padded, labels_train_padded, mask_train_padded, embedding_val, embedding_test, n_epochs, batch_size, int_val_padded, labels_val_padded, mask_val_padded, tfsession)\u001b[0m\n\u001b[1;32m     79\u001b[0m         \u001b[0;32mfor\u001b[0m \u001b[0mcateg\u001b[0m \u001b[0;32min\u001b[0m \u001b[0mrange\u001b[0m\u001b[0;34m(\u001b[0m\u001b[0mlen\u001b[0m\u001b[0;34m(\u001b[0m\u001b[0mnew_int_train\u001b[0m\u001b[0;34m)\u001b[0m\u001b[0;34m)\u001b[0m\u001b[0;34m:\u001b[0m \u001b[0;31m# iterate through the categories again, for inference\u001b[0m\u001b[0;34m\u001b[0m\u001b[0;34m\u001b[0m\u001b[0m\n\u001b[1;32m     80\u001b[0m             \u001b[0mgroup_int_inputs\u001b[0m \u001b[0;34m=\u001b[0m \u001b[0mnew_int_train\u001b[0m\u001b[0;34m[\u001b[0m\u001b[0mcateg\u001b[0m\u001b[0;34m]\u001b[0m\u001b[0;34m;\u001b[0m \u001b[0mgroup_labels\u001b[0m \u001b[0;34m=\u001b[0m \u001b[0mnew_labels_train\u001b[0m\u001b[0;34m[\u001b[0m\u001b[0mcateg\u001b[0m\u001b[0;34m]\u001b[0m\u001b[0;34m;\u001b[0m \u001b[0mgroup_masks\u001b[0m \u001b[0;34m=\u001b[0m \u001b[0mnew_mask_train\u001b[0m\u001b[0;34m[\u001b[0m\u001b[0mcateg\u001b[0m\u001b[0;34m]\u001b[0m\u001b[0;34m\u001b[0m\u001b[0;34m\u001b[0m\u001b[0m\n\u001b[0;32m---> 81\u001b[0;31m             \u001b[0mcount_correct\u001b[0m\u001b[0;34m,\u001b[0m \u001b[0mloss_accum\u001b[0m\u001b[0;34m,\u001b[0m \u001b[0mbatch_length\u001b[0m \u001b[0;34m=\u001b[0m \u001b[0mpredict\u001b[0m\u001b[0;34m(\u001b[0m\u001b[0mmodel\u001b[0m\u001b[0;34m,\u001b[0m \u001b[0mgroup_int_inputs\u001b[0m\u001b[0;34m,\u001b[0m \u001b[0mgroup_labels\u001b[0m\u001b[0;34m,\u001b[0m \u001b[0mgroup_masks\u001b[0m\u001b[0;34m,\u001b[0m \u001b[0membedding_full\u001b[0m\u001b[0;34m,\u001b[0m \u001b[0mtfsession\u001b[0m\u001b[0;34m,\u001b[0m \u001b[0mbatch_size\u001b[0m \u001b[0;34m=\u001b[0m \u001b[0;36m2000\u001b[0m\u001b[0;34m)\u001b[0m\u001b[0;34m\u001b[0m\u001b[0;34m\u001b[0m\u001b[0m\n\u001b[0m\u001b[1;32m     82\u001b[0m             \u001b[0mwhole_train_loss\u001b[0m \u001b[0;34m+=\u001b[0m \u001b[0mloss_accum\u001b[0m\u001b[0;34m;\u001b[0m \u001b[0mwhole_train_count\u001b[0m \u001b[0;34m+=\u001b[0m \u001b[0mcount_correct\u001b[0m\u001b[0;34m;\u001b[0m \u001b[0mtrain_samples\u001b[0m \u001b[0;34m+=\u001b[0m \u001b[0mbatch_length\u001b[0m\u001b[0;34m\u001b[0m\u001b[0;34m\u001b[0m\u001b[0m\n\u001b[1;32m     83\u001b[0m \u001b[0;34m\u001b[0m\u001b[0m\n",
            "\u001b[0;32m<ipython-input-76-25c7e6be6ee7>\u001b[0m in \u001b[0;36mpredict\u001b[0;34m(model, int_sent_batch, labels_batch, mask_batch, embedding_mat, tfsession, batch_size)\u001b[0m\n\u001b[1;32m     44\u001b[0m \u001b[0;34m\u001b[0m\u001b[0m\n\u001b[1;32m     45\u001b[0m         \u001b[0;31m# Perform predictions to get average loss for this batch, and the predictions on this batch\u001b[0m\u001b[0;34m\u001b[0m\u001b[0;34m\u001b[0m\u001b[0;34m\u001b[0m\u001b[0m\n\u001b[0;32m---> 46\u001b[0;31m         \u001b[0mbatch_pred\u001b[0m\u001b[0;34m,\u001b[0m \u001b[0mav_loss\u001b[0m \u001b[0;34m=\u001b[0m \u001b[0mtfsession\u001b[0m\u001b[0;34m.\u001b[0m\u001b[0mrun\u001b[0m\u001b[0;34m(\u001b[0m\u001b[0;34m[\u001b[0m\u001b[0mmodel\u001b[0m\u001b[0;34m.\u001b[0m\u001b[0mpredictions\u001b[0m\u001b[0;34m,\u001b[0m \u001b[0mmodel\u001b[0m\u001b[0;34m.\u001b[0m\u001b[0mloss\u001b[0m\u001b[0;34m]\u001b[0m\u001b[0;34m,\u001b[0m \u001b[0mfeed_dict\u001b[0m \u001b[0;34m=\u001b[0m \u001b[0mfeed_pred\u001b[0m\u001b[0;34m)\u001b[0m\u001b[0;34m\u001b[0m\u001b[0;34m\u001b[0m\u001b[0m\n\u001b[0m\u001b[1;32m     47\u001b[0m \u001b[0;34m\u001b[0m\u001b[0m\n\u001b[1;32m     48\u001b[0m         \u001b[0;31m# Sum up the loss and correct counts, because we want to average over ALL training data later\u001b[0m\u001b[0;34m\u001b[0m\u001b[0;34m\u001b[0m\u001b[0;34m\u001b[0m\u001b[0m\n",
            "\u001b[0;32m/usr/local/lib/python3.6/dist-packages/tensorflow/python/client/session.py\u001b[0m in \u001b[0;36mrun\u001b[0;34m(self, fetches, feed_dict, options, run_metadata)\u001b[0m\n\u001b[1;32m    956\u001b[0m     \u001b[0;32mtry\u001b[0m\u001b[0;34m:\u001b[0m\u001b[0;34m\u001b[0m\u001b[0;34m\u001b[0m\u001b[0m\n\u001b[1;32m    957\u001b[0m       result = self._run(None, fetches, feed_dict, options_ptr,\n\u001b[0;32m--> 958\u001b[0;31m                          run_metadata_ptr)\n\u001b[0m\u001b[1;32m    959\u001b[0m       \u001b[0;32mif\u001b[0m \u001b[0mrun_metadata\u001b[0m\u001b[0;34m:\u001b[0m\u001b[0;34m\u001b[0m\u001b[0;34m\u001b[0m\u001b[0m\n\u001b[1;32m    960\u001b[0m         \u001b[0mproto_data\u001b[0m \u001b[0;34m=\u001b[0m \u001b[0mtf_session\u001b[0m\u001b[0;34m.\u001b[0m\u001b[0mTF_GetBuffer\u001b[0m\u001b[0;34m(\u001b[0m\u001b[0mrun_metadata_ptr\u001b[0m\u001b[0;34m)\u001b[0m\u001b[0;34m\u001b[0m\u001b[0;34m\u001b[0m\u001b[0m\n",
            "\u001b[0;32m/usr/local/lib/python3.6/dist-packages/tensorflow/python/client/session.py\u001b[0m in \u001b[0;36m_run\u001b[0;34m(self, handle, fetches, feed_dict, options, run_metadata)\u001b[0m\n\u001b[1;32m   1179\u001b[0m     \u001b[0;32mif\u001b[0m \u001b[0mfinal_fetches\u001b[0m \u001b[0;32mor\u001b[0m \u001b[0mfinal_targets\u001b[0m \u001b[0;32mor\u001b[0m \u001b[0;34m(\u001b[0m\u001b[0mhandle\u001b[0m \u001b[0;32mand\u001b[0m \u001b[0mfeed_dict_tensor\u001b[0m\u001b[0;34m)\u001b[0m\u001b[0;34m:\u001b[0m\u001b[0;34m\u001b[0m\u001b[0;34m\u001b[0m\u001b[0m\n\u001b[1;32m   1180\u001b[0m       results = self._do_run(handle, final_targets, final_fetches,\n\u001b[0;32m-> 1181\u001b[0;31m                              feed_dict_tensor, options, run_metadata)\n\u001b[0m\u001b[1;32m   1182\u001b[0m     \u001b[0;32melse\u001b[0m\u001b[0;34m:\u001b[0m\u001b[0;34m\u001b[0m\u001b[0;34m\u001b[0m\u001b[0m\n\u001b[1;32m   1183\u001b[0m       \u001b[0mresults\u001b[0m \u001b[0;34m=\u001b[0m \u001b[0;34m[\u001b[0m\u001b[0;34m]\u001b[0m\u001b[0;34m\u001b[0m\u001b[0;34m\u001b[0m\u001b[0m\n",
            "\u001b[0;32m/usr/local/lib/python3.6/dist-packages/tensorflow/python/client/session.py\u001b[0m in \u001b[0;36m_do_run\u001b[0;34m(self, handle, target_list, fetch_list, feed_dict, options, run_metadata)\u001b[0m\n\u001b[1;32m   1357\u001b[0m     \u001b[0;32mif\u001b[0m \u001b[0mhandle\u001b[0m \u001b[0;32mis\u001b[0m \u001b[0;32mNone\u001b[0m\u001b[0;34m:\u001b[0m\u001b[0;34m\u001b[0m\u001b[0;34m\u001b[0m\u001b[0m\n\u001b[1;32m   1358\u001b[0m       return self._do_call(_run_fn, feeds, fetches, targets, options,\n\u001b[0;32m-> 1359\u001b[0;31m                            run_metadata)\n\u001b[0m\u001b[1;32m   1360\u001b[0m     \u001b[0;32melse\u001b[0m\u001b[0;34m:\u001b[0m\u001b[0;34m\u001b[0m\u001b[0;34m\u001b[0m\u001b[0m\n\u001b[1;32m   1361\u001b[0m       \u001b[0;32mreturn\u001b[0m \u001b[0mself\u001b[0m\u001b[0;34m.\u001b[0m\u001b[0m_do_call\u001b[0m\u001b[0;34m(\u001b[0m\u001b[0m_prun_fn\u001b[0m\u001b[0;34m,\u001b[0m \u001b[0mhandle\u001b[0m\u001b[0;34m,\u001b[0m \u001b[0mfeeds\u001b[0m\u001b[0;34m,\u001b[0m \u001b[0mfetches\u001b[0m\u001b[0;34m)\u001b[0m\u001b[0;34m\u001b[0m\u001b[0;34m\u001b[0m\u001b[0m\n",
            "\u001b[0;32m/usr/local/lib/python3.6/dist-packages/tensorflow/python/client/session.py\u001b[0m in \u001b[0;36m_do_call\u001b[0;34m(self, fn, *args)\u001b[0m\n\u001b[1;32m   1363\u001b[0m   \u001b[0;32mdef\u001b[0m \u001b[0m_do_call\u001b[0m\u001b[0;34m(\u001b[0m\u001b[0mself\u001b[0m\u001b[0;34m,\u001b[0m \u001b[0mfn\u001b[0m\u001b[0;34m,\u001b[0m \u001b[0;34m*\u001b[0m\u001b[0margs\u001b[0m\u001b[0;34m)\u001b[0m\u001b[0;34m:\u001b[0m\u001b[0;34m\u001b[0m\u001b[0;34m\u001b[0m\u001b[0m\n\u001b[1;32m   1364\u001b[0m     \u001b[0;32mtry\u001b[0m\u001b[0;34m:\u001b[0m\u001b[0;34m\u001b[0m\u001b[0;34m\u001b[0m\u001b[0m\n\u001b[0;32m-> 1365\u001b[0;31m       \u001b[0;32mreturn\u001b[0m \u001b[0mfn\u001b[0m\u001b[0;34m(\u001b[0m\u001b[0;34m*\u001b[0m\u001b[0margs\u001b[0m\u001b[0;34m)\u001b[0m\u001b[0;34m\u001b[0m\u001b[0;34m\u001b[0m\u001b[0m\n\u001b[0m\u001b[1;32m   1366\u001b[0m     \u001b[0;32mexcept\u001b[0m \u001b[0merrors\u001b[0m\u001b[0;34m.\u001b[0m\u001b[0mOpError\u001b[0m \u001b[0;32mas\u001b[0m \u001b[0me\u001b[0m\u001b[0;34m:\u001b[0m\u001b[0;34m\u001b[0m\u001b[0;34m\u001b[0m\u001b[0m\n\u001b[1;32m   1367\u001b[0m       \u001b[0mmessage\u001b[0m \u001b[0;34m=\u001b[0m \u001b[0mcompat\u001b[0m\u001b[0;34m.\u001b[0m\u001b[0mas_text\u001b[0m\u001b[0;34m(\u001b[0m\u001b[0me\u001b[0m\u001b[0;34m.\u001b[0m\u001b[0mmessage\u001b[0m\u001b[0;34m)\u001b[0m\u001b[0;34m\u001b[0m\u001b[0;34m\u001b[0m\u001b[0m\n",
            "\u001b[0;32m/usr/local/lib/python3.6/dist-packages/tensorflow/python/client/session.py\u001b[0m in \u001b[0;36m_run_fn\u001b[0;34m(feed_dict, fetch_list, target_list, options, run_metadata)\u001b[0m\n\u001b[1;32m   1348\u001b[0m       \u001b[0mself\u001b[0m\u001b[0;34m.\u001b[0m\u001b[0m_extend_graph\u001b[0m\u001b[0;34m(\u001b[0m\u001b[0;34m)\u001b[0m\u001b[0;34m\u001b[0m\u001b[0;34m\u001b[0m\u001b[0m\n\u001b[1;32m   1349\u001b[0m       return self._call_tf_sessionrun(options, feed_dict, fetch_list,\n\u001b[0;32m-> 1350\u001b[0;31m                                       target_list, run_metadata)\n\u001b[0m\u001b[1;32m   1351\u001b[0m \u001b[0;34m\u001b[0m\u001b[0m\n\u001b[1;32m   1352\u001b[0m     \u001b[0;32mdef\u001b[0m \u001b[0m_prun_fn\u001b[0m\u001b[0;34m(\u001b[0m\u001b[0mhandle\u001b[0m\u001b[0;34m,\u001b[0m \u001b[0mfeed_dict\u001b[0m\u001b[0;34m,\u001b[0m \u001b[0mfetch_list\u001b[0m\u001b[0;34m)\u001b[0m\u001b[0;34m:\u001b[0m\u001b[0;34m\u001b[0m\u001b[0;34m\u001b[0m\u001b[0m\n",
            "\u001b[0;32m/usr/local/lib/python3.6/dist-packages/tensorflow/python/client/session.py\u001b[0m in \u001b[0;36m_call_tf_sessionrun\u001b[0;34m(self, options, feed_dict, fetch_list, target_list, run_metadata)\u001b[0m\n\u001b[1;32m   1441\u001b[0m     return tf_session.TF_SessionRun_wrapper(self._session, options, feed_dict,\n\u001b[1;32m   1442\u001b[0m                                             \u001b[0mfetch_list\u001b[0m\u001b[0;34m,\u001b[0m \u001b[0mtarget_list\u001b[0m\u001b[0;34m,\u001b[0m\u001b[0;34m\u001b[0m\u001b[0;34m\u001b[0m\u001b[0m\n\u001b[0;32m-> 1443\u001b[0;31m                                             run_metadata)\n\u001b[0m\u001b[1;32m   1444\u001b[0m \u001b[0;34m\u001b[0m\u001b[0m\n\u001b[1;32m   1445\u001b[0m   \u001b[0;32mdef\u001b[0m \u001b[0m_call_tf_sessionprun\u001b[0m\u001b[0;34m(\u001b[0m\u001b[0mself\u001b[0m\u001b[0;34m,\u001b[0m \u001b[0mhandle\u001b[0m\u001b[0;34m,\u001b[0m \u001b[0mfeed_dict\u001b[0m\u001b[0;34m,\u001b[0m \u001b[0mfetch_list\u001b[0m\u001b[0;34m)\u001b[0m\u001b[0;34m:\u001b[0m\u001b[0;34m\u001b[0m\u001b[0;34m\u001b[0m\u001b[0m\n",
            "\u001b[0;31mKeyboardInterrupt\u001b[0m: "
          ]
        }
      ]
    },
    {
      "cell_type": "code",
      "metadata": {
        "id": "PgNZdKuFKVDD"
      },
      "source": [
        "# Grid Search Skeleton Code, for the case where we do not use projection vector, and do NOT train the embeddings\n",
        "with tf.device('/device:GPU:0'):\n",
        "  reg_val = [2e-03, 2e-06]; nodes = [[10, 5, num_classes], [50, 25, num_classes], [250, 125, num_classes]]; drops = [0, 0.1]\n",
        "  val_accs = np.zeros((2,3,2))\n",
        "  for i in range(len(reg_val)):\n",
        "    for j in range(len(nodes)):\n",
        "      for k in range(len(drops)):\n",
        "        # Create Model\n",
        "        embedding_train = embedding_mat; num_classes = 5; nodes_per_layer = nodes[j]\n",
        "        learning_rate = 0.001; reg_coeff = reg_val[i]; drop_prob = drops[k]; embedding_val = embedding_mat_val\n",
        "        embedding_test = embedding_mat_test; proj_length = 300\n",
        "\n",
        "        tf.reset_default_graph()\n",
        "\n",
        "        model = Model(num_classes, nodes_per_layer, learning_rate, embedding_train, reg_coeff= reg_coeff, drop_prob= drop_prob, proj_length = proj_length\n",
        "        ,max_pool= False, min_pool= False, av_pool= True, optimizer_name= \"Adam\", train_embed= False, hlactivation = 'relu', isProject = False)\n",
        "\n",
        "        # Input Data\n",
        "        x_cat = int_train_padded; y_cat = labels_train_padded; mask_cat = mask_train_padded;\n",
        "        x_val = int_val_padded; y_val = labels_val_padded; mask_val = mask_val_padded\n",
        "\n",
        "        init = tf.initialize_all_variables()\n",
        "\n",
        "        sess = tf.Session()\n",
        "        sess.run(init)\n",
        "\n",
        "        # Train\n",
        "        acc_train, loss_train, acc_val, loss_val, embedding_full = train(model, x_cat, y_cat, mask_cat, embedding_val, embedding_test, 500, 1024, x_val, y_val, mask_val, sess)\n",
        "\n",
        "        # Predict on test\n",
        "        acc_test, loss_test = predict_test(int_test_padded, labels_test_padded, mask_test_padded, embedding_full, sess)\n",
        "\n",
        "        argmax_val = np.argmax(acc_val); best_val = np.max(acc_val)\n",
        "        val_accs[i,j,k] = best_val\n",
        "        print(f\"Drop prob = {drop_prob}, Reg Coeff = {reg_coeff}, Nodes per Layer = {nodes_per_layer}\")\n",
        "        print(f\"Max validation accuracy obtained at epoch {np.argmax(acc_val)+1} with value of {np.max(acc_val)}\")\n",
        "        print(f\"Training accuracy at that epoch is {acc_train[argmax_val]}\")\n",
        "        print(f\"Accuracy and loss on test using the final trained model is {acc_test} and {loss_test} respectively\")"
      ],
      "execution_count": null,
      "outputs": []
    },
    {
      "cell_type": "code",
      "metadata": {
        "id": "gJ9JCeWXzDp8"
      },
      "source": [
        "# Grid Search code skeleton, for the case where we update the embeddings during training, and therefore do not use projections\n",
        "with tf.device('/device:GPU:0'):\n",
        "  reg_val = [2e-03, 2e-06]; nodes = [[8, num_classes], [32, num_classes], [128, num_classes]]; drops = [0, 0.1]\n",
        "  val_accs3 = np.zeros((2,3,2))\n",
        "  for i in range(len(reg_val)):\n",
        "    for j in range(len(nodes)):\n",
        "      for k in range(len(drops)):\n",
        "        # Create Model\n",
        "        embedding_train = embedding_mat; num_classes = 5; nodes_per_layer = nodes[j]\n",
        "        learning_rate = 0.001; reg_coeff = reg_val[i]; drop_prob = drops[k]; embedding_val = embedding_mat_val\n",
        "        embedding_test = embedding_mat_test; proj_length = 300\n",
        "\n",
        "        tf.reset_default_graph()\n",
        "\n",
        "        model = Model(num_classes, nodes_per_layer, learning_rate, embedding_train, reg_coeff= reg_coeff, drop_prob= drop_prob, proj_length = proj_length\n",
        "        ,max_pool= False, min_pool= False, av_pool= True, optimizer_name= \"Adam\", train_embed= True, hlactivation = 'relu', isProject = False)\n",
        "\n",
        "        # Input Data\n",
        "        x_cat = int_train_padded; y_cat = labels_train_padded; mask_cat = mask_train_padded;\n",
        "        x_val = int_val_padded; y_val = labels_val_padded; mask_val = mask_val_padded\n",
        "\n",
        "        init = tf.initialize_all_variables()\n",
        "\n",
        "        sess = tf.Session()\n",
        "        sess.run(init)\n",
        "\n",
        "        # Train\n",
        "        acc_train, loss_train, acc_val, loss_val, embedding_full = train(model, x_cat, y_cat, mask_cat, embedding_val, embedding_test, 150, 1024, x_val, y_val, mask_val, sess)\n",
        "\n",
        "        # Predict on test\n",
        "        acc_test, loss_test = predict_test(int_test_padded, labels_test_padded, mask_test_padded, embedding_full, sess)\n",
        "\n",
        "        argmax_val = np.argmax(acc_val); best_val = np.max(acc_val)\n",
        "        val_accs3[i,j,k] = best_val\n",
        "        print(f\"Drop prob = {drop_prob}, Reg Coeff = {reg_coeff}, Nodes per Layer = {nodes_per_layer}\")\n",
        "        print(f\"Max validation accuracy obtained at epoch {np.argmax(acc_val)+1} with value of {np.max(acc_val)}\")\n",
        "        print(f\"Training accuracy at that epoch is {acc_train[argmax_val]}\")\n",
        "        print(f\"Accuracy and loss on test using the final trained model is {acc_test} and {loss_test} respectively\")"
      ],
      "execution_count": null,
      "outputs": []
    },
    {
      "cell_type": "code",
      "metadata": {
        "id": "42_YBzBpPuMA"
      },
      "source": [
        "# Print the result of the grid search, for the case where we do not train the word embeddings, and do not use projection matrix\n",
        "res = np.argwhere(val_accs == np.max(val_accs))\n",
        "print(res) # index of hyperparameters that achieves the highest maximum validation accuracy\n",
        "print(val_accs) # maximum validation accuracies of every combination"
      ],
      "execution_count": null,
      "outputs": []
    },
    {
      "cell_type": "code",
      "metadata": {
        "colab": {
          "base_uri": "https://localhost:8080/"
        },
        "id": "XaH_5Zs1xedZ",
        "outputId": "38e97467-3ac9-4623-adab-b85b5fd78248"
      },
      "source": [
        "# Print the result of the grid search, for the case where we do not train the word embeddings, and use projection matrix\n",
        "res2 = np.argwhere(val_accs2 == np.max(val_accs2))\n",
        "print(res2) # index of hyperparameters that achieves the highest maximum validation accuracy\n",
        "print(val_accs2) # maximum validation accuracies of every combination"
      ],
      "execution_count": null,
      "outputs": [
        {
          "output_type": "stream",
          "text": [
            "[[0 0 1 1]\n",
            " [0 1 0 0]]\n"
          ],
          "name": "stdout"
        }
      ]
    },
    {
      "cell_type": "code",
      "metadata": {
        "id": "m0Tqgiyh3kBI"
      },
      "source": [
        "# Print the result of the grid search, for the case where we do train the word embeddings, and do not use projection matrix\n",
        "res3 = np.argwhere(val_accs3 == np.max(val_accs3))\n",
        "print(res3) # index of hyperparameters that achieves the highest maximum validation accuracy\n",
        "print(val_accs3) # maximum validation accuracies of every combination"
      ],
      "execution_count": null,
      "outputs": []
    },
    {
      "cell_type": "code",
      "metadata": {
        "colab": {
          "base_uri": "https://localhost:8080/"
        },
        "id": "1D4wGg96q38N",
        "outputId": "21080608-dc2c-4f75-e749-70757fc9c0fb"
      },
      "source": [
        "# Print the additional sentences (after they have been grouped due to padding lengths)\n",
        "full_sentences = []\n",
        "for group in int_add_test_padded:\n",
        "  for sentence in group:\n",
        "    sent = []\n",
        "    for word in sentence:\n",
        "      if word >= embedding_mat.shape[0] + embedding_mat_val.shape[0]:\n",
        "        sent.append(list(integer_dict_test.keys())[list(integer_dict_test.values()).index(word)]) \n",
        "      elif word >= embedding_mat.shape[0]:\n",
        "        sent.append(list(integer_dict_val.keys())[list(integer_dict_val.values()).index(word)])\n",
        "      else:\n",
        "        sent.append(list(integer_dict_train.keys())[list(integer_dict_train.values()).index(word)])\n",
        "    full_sentences.append(sent)\n",
        "\n",
        "for sentences in full_sentences:\n",
        "  print(sentences)"
      ],
      "execution_count": null,
      "outputs": [
        {
          "output_type": "stream",
          "text": [
            "['bitter', 'disappointment', 'awful', 'ending', 'UNK', 'brilliant', 'trilogy', 'Rock']\n",
            "['Dark', 'Knight', 'Rises', 'was', 'perfect', 'sequel', 'UNK', 'masterpiece']\n",
            "['lame', 'spy', 'spoof', 'no', 'real', 'laughs', 'or', 'surprises']\n",
            "['not', 'The', 'Worst', 'Brit', 'Comedy', 'You', 'Will', 'See']\n",
            "['christopher', 'Nolans', 'second', 'bundle', 'joy', 'The', 'Dark', 'Knight', 'exceeded', 'all', 'UNK', 'my', 'expectations', 'Rock', 'Rock']\n"
          ],
          "name": "stdout"
        }
      ]
    },
    {
      "cell_type": "code",
      "metadata": {
        "colab": {
          "base_uri": "https://localhost:8080/"
        },
        "id": "YI5z0vZftS9K",
        "outputId": "569472c1-54ba-4d25-8d5e-9ada2d2f4d74"
      },
      "source": [
        "# Predict using the final trained model, and print the predicted ratings of the above additional sentences\n",
        "add_predictions = []\n",
        "for group_id in range(len(int_add_test_padded)):\n",
        "  if len(int_add_test_padded[group_id]) > 0:\n",
        "    feed_pred = {model.sent : int_add_test_padded[group_id],  model.isTrain : False, model.mask : mask_add_test_padded[group_id], \n",
        "                        model.embedder_infer : embedding_full, model.n_dat : len(int_add_test_padded[group_id])}\n",
        "    preds = sess.run(model.predictions, feed_dict = feed_pred)\n",
        "    add_predictions.append(preds)\n",
        "\n",
        "\n",
        "\n",
        "print(add_predictions)"
      ],
      "execution_count": null,
      "outputs": [
        {
          "output_type": "stream",
          "text": [
            "[array([0, 4, 0, 1]), array([4])]\n"
          ],
          "name": "stdout"
        }
      ]
    },
    {
      "cell_type": "code",
      "metadata": {
        "id": "kPvGIwHA-Vos"
      },
      "source": [
        "# Plot auxillary function for the trained model\n",
        "def plot_acc_loss(acc_train, loss_train, acc_val, loss_val):\n",
        "    fig,ax = plt.subplots(2,2, figsize = (15,10))\n",
        "    ax[0][0].plot(range(len(acc_train)), acc_train)\n",
        "    ax[0][0].set_title('Training accuracy')\n",
        "    ax[0][0].set_xlabel('Epoch')\n",
        "    ax[0][0].set_ylabel('Accuracy')\n",
        "    ax[0][0].grid()\n",
        "    \n",
        "    ax[0][1].plot(range(len(loss_train)), loss_train)\n",
        "    ax[0][1].set_title('Training Loss')\n",
        "    ax[0][1].set_xlabel('Epoch')\n",
        "    ax[0][1].set_ylabel('Accuracy')\n",
        "    ax[0][1].grid()\n",
        "    \n",
        "    ax[1][0].plot(range(len(acc_val)), acc_val)\n",
        "    ax[1][0].set_title('Validation accuracy')\n",
        "    ax[1][0].set_xlabel('Epoch')\n",
        "    ax[1][0].set_ylabel('Accuracy')\n",
        "    ax[1][0].grid()\n",
        "    \n",
        "    ax[1][1].plot(range(len(loss_val)), loss_val)\n",
        "    ax[1][1].set_title('Validation loss')\n",
        "    ax[1][1].set_xlabel('Epoch')\n",
        "    ax[1][1].set_ylabel('Accuracy')\n",
        "    ax[1][1].grid()"
      ],
      "execution_count": null,
      "outputs": []
    },
    {
      "cell_type": "code",
      "metadata": {
        "colab": {
          "base_uri": "https://localhost:8080/",
          "height": 621
        },
        "id": "c4k-nhQS-Vos",
        "outputId": "ee3fc1b0-925a-4ab8-b00a-fb47c276bd03"
      },
      "source": [
        "# Template to print the training results of the trained model\n",
        "plot_acc_loss(acc_train, loss_train, acc_val, loss_val)"
      ],
      "execution_count": null,
      "outputs": [
        {
          "output_type": "display_data",
          "data": {
            "image/png": "[encoded data removed]",
            "text/plain": [
              "<Figure size 1080x720 with 4 Axes>"
            ]
          },
          "metadata": {
            "tags": [],
            "needs_background": "light"
          }
        }
      ]
    }
  ]
}