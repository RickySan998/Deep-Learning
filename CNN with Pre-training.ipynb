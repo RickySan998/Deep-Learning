{
  "nbformat": 4,
  "nbformat_minor": 0,
  "metadata": {
    "colab": {
      "name": "[Python Pytorch] Task 4 Pre-training v1.0",
      "provenance": [],
      "collapsed_sections": [
        "sLzEBWvCQlDX",
        "woVflgPKQs0P"
      ]
    },
    "kernelspec": {
      "display_name": "Python 3",
      "name": "python3"
    },
    "accelerator": "GPU",
    "widgets": {
      "application/vnd.jupyter.widget-state+json": {
        "9ea1b87d9116494c92399dad3125a191": {
          "model_module": "@jupyter-widgets/controls",
          "model_name": "HBoxModel",
          "state": {
            "_view_name": "HBoxView",
            "_dom_classes": [],
            "_model_name": "HBoxModel",
            "_view_module": "@jupyter-widgets/controls",
            "_model_module_version": "1.5.0",
            "_view_count": null,
            "_view_module_version": "1.5.0",
            "box_style": "",
            "layout": "IPY_MODEL_ef9c3ed13abd4215afa63d58a6f681e5",
            "_model_module": "@jupyter-widgets/controls",
            "children": [
              "IPY_MODEL_729e7d8585614c448fdc3fe03bfdedb1",
              "IPY_MODEL_fa68557766684b69b8f17cda558e2eb5"
            ]
          }
        },
        "ef9c3ed13abd4215afa63d58a6f681e5": {
          "model_module": "@jupyter-widgets/base",
          "model_name": "LayoutModel",
          "state": {
            "_view_name": "LayoutView",
            "grid_template_rows": null,
            "right": null,
            "justify_content": null,
            "_view_module": "@jupyter-widgets/base",
            "overflow": null,
            "_model_module_version": "1.2.0",
            "_view_count": null,
            "flex_flow": null,
            "width": null,
            "min_width": null,
            "border": null,
            "align_items": null,
            "bottom": null,
            "_model_module": "@jupyter-widgets/base",
            "top": null,
            "grid_column": null,
            "overflow_y": null,
            "overflow_x": null,
            "grid_auto_flow": null,
            "grid_area": null,
            "grid_template_columns": null,
            "flex": null,
            "_model_name": "LayoutModel",
            "justify_items": null,
            "grid_row": null,
            "max_height": null,
            "align_content": null,
            "visibility": null,
            "align_self": null,
            "height": null,
            "min_height": null,
            "padding": null,
            "grid_auto_rows": null,
            "grid_gap": null,
            "max_width": null,
            "order": null,
            "_view_module_version": "1.2.0",
            "grid_template_areas": null,
            "object_position": null,
            "object_fit": null,
            "grid_auto_columns": null,
            "margin": null,
            "display": null,
            "left": null
          }
        },
        "729e7d8585614c448fdc3fe03bfdedb1": {
          "model_module": "@jupyter-widgets/controls",
          "model_name": "FloatProgressModel",
          "state": {
            "_view_name": "ProgressView",
            "style": "IPY_MODEL_0e1eecf576b54917955c9148258be191",
            "_dom_classes": [],
            "description": "",
            "_model_name": "FloatProgressModel",
            "bar_style": "success",
            "max": 1,
            "_view_module": "@jupyter-widgets/controls",
            "_model_module_version": "1.5.0",
            "value": 1,
            "_view_count": null,
            "_view_module_version": "1.5.0",
            "orientation": "horizontal",
            "min": 0,
            "description_tooltip": null,
            "_model_module": "@jupyter-widgets/controls",
            "layout": "IPY_MODEL_e5b38503844f482987be6fd8c99dd8c7"
          }
        },
        "fa68557766684b69b8f17cda558e2eb5": {
          "model_module": "@jupyter-widgets/controls",
          "model_name": "HTMLModel",
          "state": {
            "_view_name": "HTMLView",
            "style": "IPY_MODEL_caeab15b5b3042dd8e806183dbef025d",
            "_dom_classes": [],
            "description": "",
            "_model_name": "HTMLModel",
            "placeholder": "​",
            "_view_module": "@jupyter-widgets/controls",
            "_model_module_version": "1.5.0",
            "value": " 26427392/? [00:06&lt;00:00, 4105571.71it/s]",
            "_view_count": null,
            "_view_module_version": "1.5.0",
            "description_tooltip": null,
            "_model_module": "@jupyter-widgets/controls",
            "layout": "IPY_MODEL_be03988154a942f9a4c169bfad10aa80"
          }
        },
        "0e1eecf576b54917955c9148258be191": {
          "model_module": "@jupyter-widgets/controls",
          "model_name": "ProgressStyleModel",
          "state": {
            "_view_name": "StyleView",
            "_model_name": "ProgressStyleModel",
            "description_width": "initial",
            "_view_module": "@jupyter-widgets/base",
            "_model_module_version": "1.5.0",
            "_view_count": null,
            "_view_module_version": "1.2.0",
            "bar_color": null,
            "_model_module": "@jupyter-widgets/controls"
          }
        },
        "e5b38503844f482987be6fd8c99dd8c7": {
          "model_module": "@jupyter-widgets/base",
          "model_name": "LayoutModel",
          "state": {
            "_view_name": "LayoutView",
            "grid_template_rows": null,
            "right": null,
            "justify_content": null,
            "_view_module": "@jupyter-widgets/base",
            "overflow": null,
            "_model_module_version": "1.2.0",
            "_view_count": null,
            "flex_flow": null,
            "width": null,
            "min_width": null,
            "border": null,
            "align_items": null,
            "bottom": null,
            "_model_module": "@jupyter-widgets/base",
            "top": null,
            "grid_column": null,
            "overflow_y": null,
            "overflow_x": null,
            "grid_auto_flow": null,
            "grid_area": null,
            "grid_template_columns": null,
            "flex": null,
            "_model_name": "LayoutModel",
            "justify_items": null,
            "grid_row": null,
            "max_height": null,
            "align_content": null,
            "visibility": null,
            "align_self": null,
            "height": null,
            "min_height": null,
            "padding": null,
            "grid_auto_rows": null,
            "grid_gap": null,
            "max_width": null,
            "order": null,
            "_view_module_version": "1.2.0",
            "grid_template_areas": null,
            "object_position": null,
            "object_fit": null,
            "grid_auto_columns": null,
            "margin": null,
            "display": null,
            "left": null
          }
        },
        "caeab15b5b3042dd8e806183dbef025d": {
          "model_module": "@jupyter-widgets/controls",
          "model_name": "DescriptionStyleModel",
          "state": {
            "_view_name": "StyleView",
            "_model_name": "DescriptionStyleModel",
            "description_width": "",
            "_view_module": "@jupyter-widgets/base",
            "_model_module_version": "1.5.0",
            "_view_count": null,
            "_view_module_version": "1.2.0",
            "_model_module": "@jupyter-widgets/controls"
          }
        },
        "be03988154a942f9a4c169bfad10aa80": {
          "model_module": "@jupyter-widgets/base",
          "model_name": "LayoutModel",
          "state": {
            "_view_name": "LayoutView",
            "grid_template_rows": null,
            "right": null,
            "justify_content": null,
            "_view_module": "@jupyter-widgets/base",
            "overflow": null,
            "_model_module_version": "1.2.0",
            "_view_count": null,
            "flex_flow": null,
            "width": null,
            "min_width": null,
            "border": null,
            "align_items": null,
            "bottom": null,
            "_model_module": "@jupyter-widgets/base",
            "top": null,
            "grid_column": null,
            "overflow_y": null,
            "overflow_x": null,
            "grid_auto_flow": null,
            "grid_area": null,
            "grid_template_columns": null,
            "flex": null,
            "_model_name": "LayoutModel",
            "justify_items": null,
            "grid_row": null,
            "max_height": null,
            "align_content": null,
            "visibility": null,
            "align_self": null,
            "height": null,
            "min_height": null,
            "padding": null,
            "grid_auto_rows": null,
            "grid_gap": null,
            "max_width": null,
            "order": null,
            "_view_module_version": "1.2.0",
            "grid_template_areas": null,
            "object_position": null,
            "object_fit": null,
            "grid_auto_columns": null,
            "margin": null,
            "display": null,
            "left": null
          }
        },
        "5529013050fa4597b5d9989dd8f12726": {
          "model_module": "@jupyter-widgets/controls",
          "model_name": "HBoxModel",
          "state": {
            "_view_name": "HBoxView",
            "_dom_classes": [],
            "_model_name": "HBoxModel",
            "_view_module": "@jupyter-widgets/controls",
            "_model_module_version": "1.5.0",
            "_view_count": null,
            "_view_module_version": "1.5.0",
            "box_style": "",
            "layout": "IPY_MODEL_9bbafc9027ea45b88b0d1351a0fd872f",
            "_model_module": "@jupyter-widgets/controls",
            "children": [
              "IPY_MODEL_1f3fe43e25584cd7ab906f9aa0a5965d",
              "IPY_MODEL_7e6da99105f34514bdac41fd7b223523"
            ]
          }
        },
        "9bbafc9027ea45b88b0d1351a0fd872f": {
          "model_module": "@jupyter-widgets/base",
          "model_name": "LayoutModel",
          "state": {
            "_view_name": "LayoutView",
            "grid_template_rows": null,
            "right": null,
            "justify_content": null,
            "_view_module": "@jupyter-widgets/base",
            "overflow": null,
            "_model_module_version": "1.2.0",
            "_view_count": null,
            "flex_flow": null,
            "width": null,
            "min_width": null,
            "border": null,
            "align_items": null,
            "bottom": null,
            "_model_module": "@jupyter-widgets/base",
            "top": null,
            "grid_column": null,
            "overflow_y": null,
            "overflow_x": null,
            "grid_auto_flow": null,
            "grid_area": null,
            "grid_template_columns": null,
            "flex": null,
            "_model_name": "LayoutModel",
            "justify_items": null,
            "grid_row": null,
            "max_height": null,
            "align_content": null,
            "visibility": null,
            "align_self": null,
            "height": null,
            "min_height": null,
            "padding": null,
            "grid_auto_rows": null,
            "grid_gap": null,
            "max_width": null,
            "order": null,
            "_view_module_version": "1.2.0",
            "grid_template_areas": null,
            "object_position": null,
            "object_fit": null,
            "grid_auto_columns": null,
            "margin": null,
            "display": null,
            "left": null
          }
        },
        "1f3fe43e25584cd7ab906f9aa0a5965d": {
          "model_module": "@jupyter-widgets/controls",
          "model_name": "FloatProgressModel",
          "state": {
            "_view_name": "ProgressView",
            "style": "IPY_MODEL_35db8e7136da42e2b90b639fb85a59bc",
            "_dom_classes": [],
            "description": "",
            "_model_name": "FloatProgressModel",
            "bar_style": "success",
            "max": 1,
            "_view_module": "@jupyter-widgets/controls",
            "_model_module_version": "1.5.0",
            "value": 1,
            "_view_count": null,
            "_view_module_version": "1.5.0",
            "orientation": "horizontal",
            "min": 0,
            "description_tooltip": null,
            "_model_module": "@jupyter-widgets/controls",
            "layout": "IPY_MODEL_d6aaec236ace42b58754046cbde76593"
          }
        },
        "7e6da99105f34514bdac41fd7b223523": {
          "model_module": "@jupyter-widgets/controls",
          "model_name": "HTMLModel",
          "state": {
            "_view_name": "HTMLView",
            "style": "IPY_MODEL_20d8557910a840b7866ff6a7f9e9a93f",
            "_dom_classes": [],
            "description": "",
            "_model_name": "HTMLModel",
            "placeholder": "​",
            "_view_module": "@jupyter-widgets/controls",
            "_model_module_version": "1.5.0",
            "value": " 32768/? [00:02&lt;00:00, 11565.30it/s]",
            "_view_count": null,
            "_view_module_version": "1.5.0",
            "description_tooltip": null,
            "_model_module": "@jupyter-widgets/controls",
            "layout": "IPY_MODEL_7a922779223d4f77acc1778ec11114a6"
          }
        },
        "35db8e7136da42e2b90b639fb85a59bc": {
          "model_module": "@jupyter-widgets/controls",
          "model_name": "ProgressStyleModel",
          "state": {
            "_view_name": "StyleView",
            "_model_name": "ProgressStyleModel",
            "description_width": "initial",
            "_view_module": "@jupyter-widgets/base",
            "_model_module_version": "1.5.0",
            "_view_count": null,
            "_view_module_version": "1.2.0",
            "bar_color": null,
            "_model_module": "@jupyter-widgets/controls"
          }
        },
        "d6aaec236ace42b58754046cbde76593": {
          "model_module": "@jupyter-widgets/base",
          "model_name": "LayoutModel",
          "state": {
            "_view_name": "LayoutView",
            "grid_template_rows": null,
            "right": null,
            "justify_content": null,
            "_view_module": "@jupyter-widgets/base",
            "overflow": null,
            "_model_module_version": "1.2.0",
            "_view_count": null,
            "flex_flow": null,
            "width": null,
            "min_width": null,
            "border": null,
            "align_items": null,
            "bottom": null,
            "_model_module": "@jupyter-widgets/base",
            "top": null,
            "grid_column": null,
            "overflow_y": null,
            "overflow_x": null,
            "grid_auto_flow": null,
            "grid_area": null,
            "grid_template_columns": null,
            "flex": null,
            "_model_name": "LayoutModel",
            "justify_items": null,
            "grid_row": null,
            "max_height": null,
            "align_content": null,
            "visibility": null,
            "align_self": null,
            "height": null,
            "min_height": null,
            "padding": null,
            "grid_auto_rows": null,
            "grid_gap": null,
            "max_width": null,
            "order": null,
            "_view_module_version": "1.2.0",
            "grid_template_areas": null,
            "object_position": null,
            "object_fit": null,
            "grid_auto_columns": null,
            "margin": null,
            "display": null,
            "left": null
          }
        },
        "20d8557910a840b7866ff6a7f9e9a93f": {
          "model_module": "@jupyter-widgets/controls",
          "model_name": "DescriptionStyleModel",
          "state": {
            "_view_name": "StyleView",
            "_model_name": "DescriptionStyleModel",
            "description_width": "",
            "_view_module": "@jupyter-widgets/base",
            "_model_module_version": "1.5.0",
            "_view_count": null,
            "_view_module_version": "1.2.0",
            "_model_module": "@jupyter-widgets/controls"
          }
        },
        "7a922779223d4f77acc1778ec11114a6": {
          "model_module": "@jupyter-widgets/base",
          "model_name": "LayoutModel",
          "state": {
            "_view_name": "LayoutView",
            "grid_template_rows": null,
            "right": null,
            "justify_content": null,
            "_view_module": "@jupyter-widgets/base",
            "overflow": null,
            "_model_module_version": "1.2.0",
            "_view_count": null,
            "flex_flow": null,
            "width": null,
            "min_width": null,
            "border": null,
            "align_items": null,
            "bottom": null,
            "_model_module": "@jupyter-widgets/base",
            "top": null,
            "grid_column": null,
            "overflow_y": null,
            "overflow_x": null,
            "grid_auto_flow": null,
            "grid_area": null,
            "grid_template_columns": null,
            "flex": null,
            "_model_name": "LayoutModel",
            "justify_items": null,
            "grid_row": null,
            "max_height": null,
            "align_content": null,
            "visibility": null,
            "align_self": null,
            "height": null,
            "min_height": null,
            "padding": null,
            "grid_auto_rows": null,
            "grid_gap": null,
            "max_width": null,
            "order": null,
            "_view_module_version": "1.2.0",
            "grid_template_areas": null,
            "object_position": null,
            "object_fit": null,
            "grid_auto_columns": null,
            "margin": null,
            "display": null,
            "left": null
          }
        },
        "b1340772ddab464481b156a599559182": {
          "model_module": "@jupyter-widgets/controls",
          "model_name": "HBoxModel",
          "state": {
            "_view_name": "HBoxView",
            "_dom_classes": [],
            "_model_name": "HBoxModel",
            "_view_module": "@jupyter-widgets/controls",
            "_model_module_version": "1.5.0",
            "_view_count": null,
            "_view_module_version": "1.5.0",
            "box_style": "",
            "layout": "IPY_MODEL_4ea076fbaaba4a239ba3c6078bc00ee7",
            "_model_module": "@jupyter-widgets/controls",
            "children": [
              "IPY_MODEL_f48a61c59bd34b04b3517a79cf91a200",
              "IPY_MODEL_a977bbb75a894d238216a56e68b0559c"
            ]
          }
        },
        "4ea076fbaaba4a239ba3c6078bc00ee7": {
          "model_module": "@jupyter-widgets/base",
          "model_name": "LayoutModel",
          "state": {
            "_view_name": "LayoutView",
            "grid_template_rows": null,
            "right": null,
            "justify_content": null,
            "_view_module": "@jupyter-widgets/base",
            "overflow": null,
            "_model_module_version": "1.2.0",
            "_view_count": null,
            "flex_flow": null,
            "width": null,
            "min_width": null,
            "border": null,
            "align_items": null,
            "bottom": null,
            "_model_module": "@jupyter-widgets/base",
            "top": null,
            "grid_column": null,
            "overflow_y": null,
            "overflow_x": null,
            "grid_auto_flow": null,
            "grid_area": null,
            "grid_template_columns": null,
            "flex": null,
            "_model_name": "LayoutModel",
            "justify_items": null,
            "grid_row": null,
            "max_height": null,
            "align_content": null,
            "visibility": null,
            "align_self": null,
            "height": null,
            "min_height": null,
            "padding": null,
            "grid_auto_rows": null,
            "grid_gap": null,
            "max_width": null,
            "order": null,
            "_view_module_version": "1.2.0",
            "grid_template_areas": null,
            "object_position": null,
            "object_fit": null,
            "grid_auto_columns": null,
            "margin": null,
            "display": null,
            "left": null
          }
        },
        "f48a61c59bd34b04b3517a79cf91a200": {
          "model_module": "@jupyter-widgets/controls",
          "model_name": "FloatProgressModel",
          "state": {
            "_view_name": "ProgressView",
            "style": "IPY_MODEL_3f020a8b63bd45e1a2cb7d7fbaf1bd3c",
            "_dom_classes": [],
            "description": "",
            "_model_name": "FloatProgressModel",
            "bar_style": "success",
            "max": 1,
            "_view_module": "@jupyter-widgets/controls",
            "_model_module_version": "1.5.0",
            "value": 1,
            "_view_count": null,
            "_view_module_version": "1.5.0",
            "orientation": "horizontal",
            "min": 0,
            "description_tooltip": null,
            "_model_module": "@jupyter-widgets/controls",
            "layout": "IPY_MODEL_aa32f66d17184b18b4fd3599380eacf4"
          }
        },
        "a977bbb75a894d238216a56e68b0559c": {
          "model_module": "@jupyter-widgets/controls",
          "model_name": "HTMLModel",
          "state": {
            "_view_name": "HTMLView",
            "style": "IPY_MODEL_07d12b42ee1b4f5a85698522db016e4c",
            "_dom_classes": [],
            "description": "",
            "_model_name": "HTMLModel",
            "placeholder": "​",
            "_view_module": "@jupyter-widgets/controls",
            "_model_module_version": "1.5.0",
            "value": " 4423680/? [00:02&lt;00:00, 1886023.59it/s]",
            "_view_count": null,
            "_view_module_version": "1.5.0",
            "description_tooltip": null,
            "_model_module": "@jupyter-widgets/controls",
            "layout": "IPY_MODEL_6d689d2a192a460d893b0ff959b0da7a"
          }
        },
        "3f020a8b63bd45e1a2cb7d7fbaf1bd3c": {
          "model_module": "@jupyter-widgets/controls",
          "model_name": "ProgressStyleModel",
          "state": {
            "_view_name": "StyleView",
            "_model_name": "ProgressStyleModel",
            "description_width": "initial",
            "_view_module": "@jupyter-widgets/base",
            "_model_module_version": "1.5.0",
            "_view_count": null,
            "_view_module_version": "1.2.0",
            "bar_color": null,
            "_model_module": "@jupyter-widgets/controls"
          }
        },
        "aa32f66d17184b18b4fd3599380eacf4": {
          "model_module": "@jupyter-widgets/base",
          "model_name": "LayoutModel",
          "state": {
            "_view_name": "LayoutView",
            "grid_template_rows": null,
            "right": null,
            "justify_content": null,
            "_view_module": "@jupyter-widgets/base",
            "overflow": null,
            "_model_module_version": "1.2.0",
            "_view_count": null,
            "flex_flow": null,
            "width": null,
            "min_width": null,
            "border": null,
            "align_items": null,
            "bottom": null,
            "_model_module": "@jupyter-widgets/base",
            "top": null,
            "grid_column": null,
            "overflow_y": null,
            "overflow_x": null,
            "grid_auto_flow": null,
            "grid_area": null,
            "grid_template_columns": null,
            "flex": null,
            "_model_name": "LayoutModel",
            "justify_items": null,
            "grid_row": null,
            "max_height": null,
            "align_content": null,
            "visibility": null,
            "align_self": null,
            "height": null,
            "min_height": null,
            "padding": null,
            "grid_auto_rows": null,
            "grid_gap": null,
            "max_width": null,
            "order": null,
            "_view_module_version": "1.2.0",
            "grid_template_areas": null,
            "object_position": null,
            "object_fit": null,
            "grid_auto_columns": null,
            "margin": null,
            "display": null,
            "left": null
          }
        },
        "07d12b42ee1b4f5a85698522db016e4c": {
          "model_module": "@jupyter-widgets/controls",
          "model_name": "DescriptionStyleModel",
          "state": {
            "_view_name": "StyleView",
            "_model_name": "DescriptionStyleModel",
            "description_width": "",
            "_view_module": "@jupyter-widgets/base",
            "_model_module_version": "1.5.0",
            "_view_count": null,
            "_view_module_version": "1.2.0",
            "_model_module": "@jupyter-widgets/controls"
          }
        },
        "6d689d2a192a460d893b0ff959b0da7a": {
          "model_module": "@jupyter-widgets/base",
          "model_name": "LayoutModel",
          "state": {
            "_view_name": "LayoutView",
            "grid_template_rows": null,
            "right": null,
            "justify_content": null,
            "_view_module": "@jupyter-widgets/base",
            "overflow": null,
            "_model_module_version": "1.2.0",
            "_view_count": null,
            "flex_flow": null,
            "width": null,
            "min_width": null,
            "border": null,
            "align_items": null,
            "bottom": null,
            "_model_module": "@jupyter-widgets/base",
            "top": null,
            "grid_column": null,
            "overflow_y": null,
            "overflow_x": null,
            "grid_auto_flow": null,
            "grid_area": null,
            "grid_template_columns": null,
            "flex": null,
            "_model_name": "LayoutModel",
            "justify_items": null,
            "grid_row": null,
            "max_height": null,
            "align_content": null,
            "visibility": null,
            "align_self": null,
            "height": null,
            "min_height": null,
            "padding": null,
            "grid_auto_rows": null,
            "grid_gap": null,
            "max_width": null,
            "order": null,
            "_view_module_version": "1.2.0",
            "grid_template_areas": null,
            "object_position": null,
            "object_fit": null,
            "grid_auto_columns": null,
            "margin": null,
            "display": null,
            "left": null
          }
        },
        "0a830589bbcc4c45a29829bab3056474": {
          "model_module": "@jupyter-widgets/controls",
          "model_name": "HBoxModel",
          "state": {
            "_view_name": "HBoxView",
            "_dom_classes": [],
            "_model_name": "HBoxModel",
            "_view_module": "@jupyter-widgets/controls",
            "_model_module_version": "1.5.0",
            "_view_count": null,
            "_view_module_version": "1.5.0",
            "box_style": "",
            "layout": "IPY_MODEL_f18bde0a15544e259fe9fe989726900a",
            "_model_module": "@jupyter-widgets/controls",
            "children": [
              "IPY_MODEL_b03c2b923d2b457da26749ea5669c125",
              "IPY_MODEL_126ce4ef583a48a3a87d77b0f8f23abd"
            ]
          }
        },
        "f18bde0a15544e259fe9fe989726900a": {
          "model_module": "@jupyter-widgets/base",
          "model_name": "LayoutModel",
          "state": {
            "_view_name": "LayoutView",
            "grid_template_rows": null,
            "right": null,
            "justify_content": null,
            "_view_module": "@jupyter-widgets/base",
            "overflow": null,
            "_model_module_version": "1.2.0",
            "_view_count": null,
            "flex_flow": null,
            "width": null,
            "min_width": null,
            "border": null,
            "align_items": null,
            "bottom": null,
            "_model_module": "@jupyter-widgets/base",
            "top": null,
            "grid_column": null,
            "overflow_y": null,
            "overflow_x": null,
            "grid_auto_flow": null,
            "grid_area": null,
            "grid_template_columns": null,
            "flex": null,
            "_model_name": "LayoutModel",
            "justify_items": null,
            "grid_row": null,
            "max_height": null,
            "align_content": null,
            "visibility": null,
            "align_self": null,
            "height": null,
            "min_height": null,
            "padding": null,
            "grid_auto_rows": null,
            "grid_gap": null,
            "max_width": null,
            "order": null,
            "_view_module_version": "1.2.0",
            "grid_template_areas": null,
            "object_position": null,
            "object_fit": null,
            "grid_auto_columns": null,
            "margin": null,
            "display": null,
            "left": null
          }
        },
        "b03c2b923d2b457da26749ea5669c125": {
          "model_module": "@jupyter-widgets/controls",
          "model_name": "FloatProgressModel",
          "state": {
            "_view_name": "ProgressView",
            "style": "IPY_MODEL_38c92f084e8042dea34ebb879b0cbd8d",
            "_dom_classes": [],
            "description": "",
            "_model_name": "FloatProgressModel",
            "bar_style": "success",
            "max": 1,
            "_view_module": "@jupyter-widgets/controls",
            "_model_module_version": "1.5.0",
            "value": 1,
            "_view_count": null,
            "_view_module_version": "1.5.0",
            "orientation": "horizontal",
            "min": 0,
            "description_tooltip": null,
            "_model_module": "@jupyter-widgets/controls",
            "layout": "IPY_MODEL_b215a14e4816463ebaa3bedd7d0c33f0"
          }
        },
        "126ce4ef583a48a3a87d77b0f8f23abd": {
          "model_module": "@jupyter-widgets/controls",
          "model_name": "HTMLModel",
          "state": {
            "_view_name": "HTMLView",
            "style": "IPY_MODEL_c0bf6b2d5e994a32a612d81dcb50341d",
            "_dom_classes": [],
            "description": "",
            "_model_name": "HTMLModel",
            "placeholder": "​",
            "_view_module": "@jupyter-widgets/controls",
            "_model_module_version": "1.5.0",
            "value": " 8192/? [00:00&lt;00:00, 10811.64it/s]",
            "_view_count": null,
            "_view_module_version": "1.5.0",
            "description_tooltip": null,
            "_model_module": "@jupyter-widgets/controls",
            "layout": "IPY_MODEL_3e09b0e592014e3f933ec20c02399290"
          }
        },
        "38c92f084e8042dea34ebb879b0cbd8d": {
          "model_module": "@jupyter-widgets/controls",
          "model_name": "ProgressStyleModel",
          "state": {
            "_view_name": "StyleView",
            "_model_name": "ProgressStyleModel",
            "description_width": "initial",
            "_view_module": "@jupyter-widgets/base",
            "_model_module_version": "1.5.0",
            "_view_count": null,
            "_view_module_version": "1.2.0",
            "bar_color": null,
            "_model_module": "@jupyter-widgets/controls"
          }
        },
        "b215a14e4816463ebaa3bedd7d0c33f0": {
          "model_module": "@jupyter-widgets/base",
          "model_name": "LayoutModel",
          "state": {
            "_view_name": "LayoutView",
            "grid_template_rows": null,
            "right": null,
            "justify_content": null,
            "_view_module": "@jupyter-widgets/base",
            "overflow": null,
            "_model_module_version": "1.2.0",
            "_view_count": null,
            "flex_flow": null,
            "width": null,
            "min_width": null,
            "border": null,
            "align_items": null,
            "bottom": null,
            "_model_module": "@jupyter-widgets/base",
            "top": null,
            "grid_column": null,
            "overflow_y": null,
            "overflow_x": null,
            "grid_auto_flow": null,
            "grid_area": null,
            "grid_template_columns": null,
            "flex": null,
            "_model_name": "LayoutModel",
            "justify_items": null,
            "grid_row": null,
            "max_height": null,
            "align_content": null,
            "visibility": null,
            "align_self": null,
            "height": null,
            "min_height": null,
            "padding": null,
            "grid_auto_rows": null,
            "grid_gap": null,
            "max_width": null,
            "order": null,
            "_view_module_version": "1.2.0",
            "grid_template_areas": null,
            "object_position": null,
            "object_fit": null,
            "grid_auto_columns": null,
            "margin": null,
            "display": null,
            "left": null
          }
        },
        "c0bf6b2d5e994a32a612d81dcb50341d": {
          "model_module": "@jupyter-widgets/controls",
          "model_name": "DescriptionStyleModel",
          "state": {
            "_view_name": "StyleView",
            "_model_name": "DescriptionStyleModel",
            "description_width": "",
            "_view_module": "@jupyter-widgets/base",
            "_model_module_version": "1.5.0",
            "_view_count": null,
            "_view_module_version": "1.2.0",
            "_model_module": "@jupyter-widgets/controls"
          }
        },
        "3e09b0e592014e3f933ec20c02399290": {
          "model_module": "@jupyter-widgets/base",
          "model_name": "LayoutModel",
          "state": {
            "_view_name": "LayoutView",
            "grid_template_rows": null,
            "right": null,
            "justify_content": null,
            "_view_module": "@jupyter-widgets/base",
            "overflow": null,
            "_model_module_version": "1.2.0",
            "_view_count": null,
            "flex_flow": null,
            "width": null,
            "min_width": null,
            "border": null,
            "align_items": null,
            "bottom": null,
            "_model_module": "@jupyter-widgets/base",
            "top": null,
            "grid_column": null,
            "overflow_y": null,
            "overflow_x": null,
            "grid_auto_flow": null,
            "grid_area": null,
            "grid_template_columns": null,
            "flex": null,
            "_model_name": "LayoutModel",
            "justify_items": null,
            "grid_row": null,
            "max_height": null,
            "align_content": null,
            "visibility": null,
            "align_self": null,
            "height": null,
            "min_height": null,
            "padding": null,
            "grid_auto_rows": null,
            "grid_gap": null,
            "max_width": null,
            "order": null,
            "_view_module_version": "1.2.0",
            "grid_template_areas": null,
            "object_position": null,
            "object_fit": null,
            "grid_auto_columns": null,
            "margin": null,
            "display": null,
            "left": null
          }
        }
      }
    }
  },
  "cells": [
    {
      "cell_type": "markdown",
      "metadata": {
        "id": "j9lhv79NJ1wv"
      },
      "source": [
        "# **Notes**"
      ]
    },
    {
      "cell_type": "markdown",
      "metadata": {
        "id": "Hm7DK7p7J42c"
      },
      "source": [
        "1. After training the convolutional autoencoder, the weights will be used for all the combinations of % available Fashion-MNIST-1 training data and initialisation strategies to train CNN.\r\n",
        "2. Convolutional autoencoder can be treated as a pre-trained model to get pre-trained weights based on a large amount of unlabeled data.\r\n",
        "3. CNN with % available Fashion-MNIST-1 training data represents how limited our actual training data are. (Eg. 5% means only 5% of Fashion-MNIST-1 training data are labeled which can be used to train our CNN predictive model)."
      ]
    },
    {
      "cell_type": "markdown",
      "metadata": {
        "id": "yejd5sbx3snj"
      },
      "source": [
        "# **Settings**"
      ]
    },
    {
      "cell_type": "code",
      "metadata": {
        "colab": {
          "base_uri": "https://localhost:8080/"
        },
        "id": "0CdKHebx7w90",
        "outputId": "296c2945-cf89-4bc6-896d-79e5d8b52237"
      },
      "source": [
        "from google.colab import drive\r\n",
        "drive.mount('/content/gdrive/')"
      ],
      "execution_count": 270,
      "outputs": [
        {
          "output_type": "stream",
          "text": [
            "Drive already mounted at /content/gdrive/; to attempt to forcibly remount, call drive.mount(\"/content/gdrive/\", force_remount=True).\n"
          ],
          "name": "stdout"
        }
      ]
    },
    {
      "cell_type": "code",
      "metadata": {
        "id": "9rmQah8LER_G"
      },
      "source": [
        "# Import necessary packages\r\n",
        "import os\r\n",
        "import torch\r\n",
        "import torchvision\r\n",
        "import torchvision.transforms as transforms\r\n",
        "from torch.utils.data.sampler import SubsetRandomSampler # Needed to construct the validation set\r\n",
        "from torch.autograd import Variable\r\n",
        "from torchvision.utils import save_image\r\n",
        "import torch.nn as nn\r\n",
        "import torch.nn.functional as F\r\n",
        "import torch.optim as optim\r\n",
        "import matplotlib.pyplot as plt\r\n",
        "import numpy as np\r\n",
        "import itertools\r\n",
        "import seaborn as sb\r\n",
        "import copy\r\n",
        "torch.manual_seed(42) # Set arbitrary seed\r\n",
        "np.random.seed(3) # Set arbitrary seed"
      ],
      "execution_count": 273,
      "outputs": []
    },
    {
      "cell_type": "code",
      "metadata": {
        "colab": {
          "base_uri": "https://localhost:8080/"
        },
        "id": "UednEAMg3aFJ",
        "outputId": "d5ee485d-5a59-4272-a6dc-06fda4b07ff6"
      },
      "source": [
        "# Define the hyperparameters for convolutional autoencoder\r\n",
        "no_epochs = 30\r\n",
        "lr = 0.001\r\n",
        "batch_size = 50 # Set the batch size, which is needed to prepare the data\r\n",
        "\r\n",
        "# Define the hyperparameters for CNN\r\n",
        "cnn_no_epochs = 20\r\n",
        "cnn_lr = 0.001\r\n",
        "\r\n",
        "# Change these two hyperparameters for different scenarios!\r\n",
        "percentage = 1.0 # % of MNIST-1 trainset used to train CNN\r\n",
        "init_strategies = \"Pre-trained\" # \"Random\",\"Pre-trained\"\r\n",
        "\r\n",
        "path = '/content/gdrive/MyDrive/MSc DSML//UCL/Main/COMP0090 CW + Lab/Assignment 3/Q4/v1.0/{}_{}'.format(str(percentage),init_strategies)\r\n",
        "print(path)\r\n",
        "os.chdir(path)"
      ],
      "execution_count": 533,
      "outputs": [
        {
          "output_type": "stream",
          "text": [
            "/content/gdrive/MyDrive/MSc DSML//UCL/Main/COMP0090 CW + Lab/Assignment 3/Q4/v1.0/1.0_Pre-trained\n"
          ],
          "name": "stdout"
        }
      ]
    },
    {
      "cell_type": "code",
      "metadata": {
        "id": "aF_1UkqE-nJe"
      },
      "source": [
        "def set_device():\r\n",
        "  if torch.cuda.is_available():\r\n",
        "      device = 'cuda:0'\r\n",
        "  else:\r\n",
        "      device = 'cpu'\r\n",
        "  return device"
      ],
      "execution_count": 274,
      "outputs": []
    },
    {
      "cell_type": "code",
      "metadata": {
        "id": "vw1IKuuhJW17"
      },
      "source": [
        "def create_directory():\r\n",
        "    image_dir = 'Saved_Images'\r\n",
        "    if not os.path.exists(image_dir):\r\n",
        "        os.makedirs(image_dir)"
      ],
      "execution_count": 275,
      "outputs": []
    },
    {
      "cell_type": "code",
      "metadata": {
        "colab": {
          "base_uri": "https://localhost:8080/"
        },
        "id": "xZQm1M_I9oaY",
        "outputId": "77dfa1a0-b215-420e-a7ec-e8bce1623781"
      },
      "source": [
        "# Specific GPU has to be set for pytorch to work on GPU\r\n",
        "device = set_device()\r\n",
        "print(device)"
      ],
      "execution_count": 276,
      "outputs": [
        {
          "output_type": "stream",
          "text": [
            "cuda:0\n"
          ],
          "name": "stdout"
        }
      ]
    },
    {
      "cell_type": "code",
      "metadata": {
        "id": "gW6eK3z6JYai"
      },
      "source": [
        "create_directory()"
      ],
      "execution_count": 277,
      "outputs": []
    },
    {
      "cell_type": "markdown",
      "metadata": {
        "id": "sLzEBWvCQlDX"
      },
      "source": [
        "# **Part I: Convolutional Autoencoder**"
      ]
    },
    {
      "cell_type": "code",
      "metadata": {
        "id": "BeOa_aB8JuVX"
      },
      "source": [
        "transform = transforms.Compose([transforms.ToTensor(), transforms.Normalize((0.5,), (0.5,))]) # Transform images to tensors and normalise"
      ],
      "execution_count": 278,
      "outputs": []
    },
    {
      "cell_type": "code",
      "metadata": {
        "colab": {
          "base_uri": "https://localhost:8080/",
          "height": 323,
          "referenced_widgets": [
            "9ea1b87d9116494c92399dad3125a191",
            "ef9c3ed13abd4215afa63d58a6f681e5",
            "729e7d8585614c448fdc3fe03bfdedb1",
            "fa68557766684b69b8f17cda558e2eb5",
            "0e1eecf576b54917955c9148258be191",
            "e5b38503844f482987be6fd8c99dd8c7",
            "caeab15b5b3042dd8e806183dbef025d",
            "be03988154a942f9a4c169bfad10aa80",
            "5529013050fa4597b5d9989dd8f12726",
            "9bbafc9027ea45b88b0d1351a0fd872f",
            "1f3fe43e25584cd7ab906f9aa0a5965d",
            "7e6da99105f34514bdac41fd7b223523",
            "35db8e7136da42e2b90b639fb85a59bc",
            "d6aaec236ace42b58754046cbde76593",
            "20d8557910a840b7866ff6a7f9e9a93f",
            "7a922779223d4f77acc1778ec11114a6",
            "b1340772ddab464481b156a599559182",
            "4ea076fbaaba4a239ba3c6078bc00ee7",
            "f48a61c59bd34b04b3517a79cf91a200",
            "a977bbb75a894d238216a56e68b0559c",
            "3f020a8b63bd45e1a2cb7d7fbaf1bd3c",
            "aa32f66d17184b18b4fd3599380eacf4",
            "07d12b42ee1b4f5a85698522db016e4c",
            "6d689d2a192a460d893b0ff959b0da7a",
            "0a830589bbcc4c45a29829bab3056474",
            "f18bde0a15544e259fe9fe989726900a",
            "b03c2b923d2b457da26749ea5669c125",
            "126ce4ef583a48a3a87d77b0f8f23abd",
            "38c92f084e8042dea34ebb879b0cbd8d",
            "b215a14e4816463ebaa3bedd7d0c33f0",
            "c0bf6b2d5e994a32a612d81dcb50341d",
            "3e09b0e592014e3f933ec20c02399290"
          ]
        },
        "id": "-JQVEwRkKJGV",
        "outputId": "7aacf41c-d2b1-4840-f4de-98e3979b91d8"
      },
      "source": [
        "# Download the data (comes as train and test sets)\r\n",
        "trainset = torchvision.datasets.FashionMNIST(root='./data', train=True, download=True, transform=transform)\r\n",
        "testset = torchvision.datasets.FashionMNIST(root='./data', train=False, download=True, transform=transform)"
      ],
      "execution_count": 279,
      "outputs": [
        {
          "output_type": "stream",
          "text": [
            "Downloading http://fashion-mnist.s3-website.eu-central-1.amazonaws.com/train-images-idx3-ubyte.gz to ./data/FashionMNIST/raw/train-images-idx3-ubyte.gz\n"
          ],
          "name": "stdout"
        },
        {
          "output_type": "display_data",
          "data": {
            "application/vnd.jupyter.widget-view+json": {
              "model_id": "9ea1b87d9116494c92399dad3125a191",
              "version_minor": 0,
              "version_major": 2
            },
            "text/plain": [
              "HBox(children=(FloatProgress(value=1.0, bar_style='info', max=1.0), HTML(value='')))"
            ]
          },
          "metadata": {
            "tags": []
          }
        },
        {
          "output_type": "stream",
          "text": [
            "Extracting ./data/FashionMNIST/raw/train-images-idx3-ubyte.gz to ./data/FashionMNIST/raw\n",
            "Downloading http://fashion-mnist.s3-website.eu-central-1.amazonaws.com/train-labels-idx1-ubyte.gz to ./data/FashionMNIST/raw/train-labels-idx1-ubyte.gz\n"
          ],
          "name": "stdout"
        },
        {
          "output_type": "display_data",
          "data": {
            "application/vnd.jupyter.widget-view+json": {
              "model_id": "5529013050fa4597b5d9989dd8f12726",
              "version_minor": 0,
              "version_major": 2
            },
            "text/plain": [
              "HBox(children=(FloatProgress(value=1.0, bar_style='info', max=1.0), HTML(value='')))"
            ]
          },
          "metadata": {
            "tags": []
          }
        },
        {
          "output_type": "stream",
          "text": [
            "Extracting ./data/FashionMNIST/raw/train-labels-idx1-ubyte.gz to ./data/FashionMNIST/raw\n",
            "Downloading http://fashion-mnist.s3-website.eu-central-1.amazonaws.com/t10k-images-idx3-ubyte.gz to ./data/FashionMNIST/raw/t10k-images-idx3-ubyte.gz\n"
          ],
          "name": "stdout"
        },
        {
          "output_type": "display_data",
          "data": {
            "application/vnd.jupyter.widget-view+json": {
              "model_id": "b1340772ddab464481b156a599559182",
              "version_minor": 0,
              "version_major": 2
            },
            "text/plain": [
              "HBox(children=(FloatProgress(value=1.0, bar_style='info', max=1.0), HTML(value='')))"
            ]
          },
          "metadata": {
            "tags": []
          }
        },
        {
          "output_type": "stream",
          "text": [
            "Extracting ./data/FashionMNIST/raw/t10k-images-idx3-ubyte.gz to ./data/FashionMNIST/raw\n",
            "Downloading http://fashion-mnist.s3-website.eu-central-1.amazonaws.com/t10k-labels-idx1-ubyte.gz to ./data/FashionMNIST/raw/t10k-labels-idx1-ubyte.gz\n"
          ],
          "name": "stdout"
        },
        {
          "output_type": "display_data",
          "data": {
            "application/vnd.jupyter.widget-view+json": {
              "model_id": "0a830589bbcc4c45a29829bab3056474",
              "version_minor": 0,
              "version_major": 2
            },
            "text/plain": [
              "HBox(children=(FloatProgress(value=1.0, bar_style='info', max=1.0), HTML(value='')))"
            ]
          },
          "metadata": {
            "tags": []
          }
        },
        {
          "output_type": "stream",
          "text": [
            "Extracting ./data/FashionMNIST/raw/t10k-labels-idx1-ubyte.gz to ./data/FashionMNIST/raw\n",
            "Processing...\n",
            "Done!\n"
          ],
          "name": "stdout"
        }
      ]
    },
    {
      "cell_type": "code",
      "metadata": {
        "colab": {
          "base_uri": "https://localhost:8080/"
        },
        "id": "KdmwHb1VcUj6",
        "outputId": "feabc297-fc07-47d4-defa-343da2074a68"
      },
      "source": [
        "def split_data(trainset,testset,batch_size,targets):\r\n",
        "\r\n",
        "  torch.manual_seed(42) # Set arbitrary seed\r\n",
        "  np.random.seed(3) # Set arbitrary seed\r\n",
        "\r\n",
        "  temp = copy.deepcopy(trainset)\r\n",
        "  validset = copy.deepcopy(trainset)\r\n",
        "\r\n",
        "  # Select a subset of classes from the train and test sets to create Fashion-MNIST-1 and Fashion-MNIST-2\r\n",
        "  idx = (trainset.targets==targets[0]) | (trainset.targets==targets[1]) | (trainset.targets==targets[2]) | (trainset.targets==targets[3]) | (trainset.targets==targets[4])\r\n",
        "  temp.targets = trainset.targets[idx]\r\n",
        "  temp.data = trainset.data[idx]\r\n",
        "\r\n",
        "  idx = (testset.targets==targets[0]) | (testset.targets==targets[1]) | (testset.targets==targets[2]) | (testset.targets==targets[3]) | (testset.targets==targets[4])\r\n",
        "  testset.targets = testset.targets[idx]\r\n",
        "  testset.data = testset.data[idx]\r\n",
        "\r\n",
        "  # Prepare the validation set from the train set (24k or 4/5ths images for train and 6k or 1/5th images for validation)\r\n",
        "  indices = list(range(len(temp)))\r\n",
        "  np.random.shuffle(indices)\r\n",
        "  slice3 = int(len(temp)//5*4)\r\n",
        "\r\n",
        "  trainset.targets = temp.targets[indices[:slice3]]\r\n",
        "  trainset.data = temp.data[indices[:slice3]]\r\n",
        "\r\n",
        "  validset.targets = temp.targets[indices[slice3:]]\r\n",
        "  validset.data = temp.data[indices[slice3:]]\r\n",
        "\r\n",
        "  return trainset,validset,testset"
      ],
      "execution_count": 280,
      "outputs": [
        {
          "output_type": "stream",
          "text": [
            "\n",
            "\n",
            "\n"
          ],
          "name": "stdout"
        }
      ]
    },
    {
      "cell_type": "code",
      "metadata": {
        "id": "NoBX-H37du_V"
      },
      "source": [
        "# Deep copies needed since pytorch dataloader is a pointer\r\n",
        "trainset_copy_1 = copy.deepcopy(trainset)\r\n",
        "testset_copy_1 = copy.deepcopy(testset)\r\n",
        "trainset_copy_2 = copy.deepcopy(trainset)\r\n",
        "testset_copy_2 = copy.deepcopy(testset)\r\n",
        "\r\n",
        "trainset_1,validset_1,testset_1 = split_data(trainset_copy_1,testset_copy_1,batch_size,[0,1,4,5,8]) # Fashion-MNIST-1\r\n",
        "trainset_2,validset_2,testset_2 = split_data(trainset_copy_2,testset_copy_2,batch_size,[2,3,6,7,9]) # Fashion-MNIST-2"
      ],
      "execution_count": 281,
      "outputs": []
    },
    {
      "cell_type": "code",
      "metadata": {
        "id": "1KjJdkY-2Gbc"
      },
      "source": [
        "# # Train your model to convergence on the combined training, validation, and test set of Fashion-MNIST-2 and training set of Fashion-MNIST-1\r\n",
        "\r\n",
        "# temp = copy.deepcopy(trainset_1)\r\n",
        "\r\n",
        "# indices = list(range(len(temp)))\r\n",
        "# slicer = round(len(temp)*percentage)\r\n",
        "\r\n",
        "# temp.targets = temp.targets[indices[:slicer]]\r\n",
        "# temp.data = temp.data[indices[:slicer]]\r\n",
        "\r\n",
        "# CA_training_set = trainset_2 + validset_2 + testset_2 + temp\r\n",
        "# CA_trainloader = torch.utils.data.DataLoader(CA_training_set, batch_size=batch_size)"
      ],
      "execution_count": 282,
      "outputs": []
    },
    {
      "cell_type": "code",
      "metadata": {
        "id": "wAVRAp9SBQcM"
      },
      "source": [
        "# Train your model to convergence on the combined training, validation, and test set of Fashion-MNIST-2 and training set of Fashion-MNIST-1\r\n",
        "\r\n",
        "CA_training_set = trainset_2 + validset_2 + testset_2 + trainset_1\r\n",
        "CA_trainloader = torch.utils.data.DataLoader(CA_training_set, batch_size=batch_size)"
      ],
      "execution_count": 283,
      "outputs": []
    },
    {
      "cell_type": "code",
      "metadata": {
        "colab": {
          "base_uri": "https://localhost:8080/"
        },
        "id": "nP4IVSqDEgMO",
        "outputId": "9f4188fa-adc1-483b-987f-68c5796486b6"
      },
      "source": [
        "# Check datasizes\r\n",
        "print(len(trainset))\r\n",
        "print(len(testset))\r\n",
        "print(len(trainset_1))\r\n",
        "print(len(validset_1))\r\n",
        "print(len(testset_1))\r\n",
        "print(len(trainset_2))\r\n",
        "print(len(validset_2))\r\n",
        "print(len(testset_2))\r\n",
        "print(len(CA_trainloader))\r\n",
        "print(\"{}% of Fashion-MNIST-1 training set is used to train convolutional autoencoder.\".format(percentage*100))"
      ],
      "execution_count": 284,
      "outputs": [
        {
          "output_type": "stream",
          "text": [
            "60000\n",
            "10000\n",
            "24000\n",
            "6000\n",
            "5000\n",
            "24000\n",
            "6000\n",
            "5000\n",
            "1180\n",
            "5.0% of Fashion-MNIST-1 training set is used to train convolutional autoencoder.\n"
          ],
          "name": "stdout"
        }
      ]
    },
    {
      "cell_type": "code",
      "metadata": {
        "colab": {
          "base_uri": "https://localhost:8080/",
          "height": 239
        },
        "id": "ZoTSApBsEgJ6",
        "outputId": "282e4f3c-993d-4ac8-98b5-9eda90daf833"
      },
      "source": [
        "# Load a batch of training images for visualising\r\n",
        "data_iterator = iter(CA_trainloader)\r\n",
        "images, labels = data_iterator.next()\r\n",
        "# images.shape # torch.Size([50, 1, 28, 28])\r\n",
        "\r\n",
        "# Create function for visualisation\r\n",
        "def show_image(img):\r\n",
        "    img = img * 0.5 + 0.5 # This is to reverse the normalisation done earlier\r\n",
        "    npimg = img.numpy()\r\n",
        "    plt.imshow(np.transpose(npimg, (1, 2, 0)))\r\n",
        "show_image(torchvision.utils.make_grid(images,10,5))\r\n",
        "plt.show()"
      ],
      "execution_count": 285,
      "outputs": [
        {
          "output_type": "display_data",
          "data": {
            "image/png": "[encoded data removed]",
            "text/plain": [
              "<Figure size 432x288 with 1 Axes>"
            ]
          },
          "metadata": {
            "tags": [],
            "needs_background": "light"
          }
        },
        {
          "output_type": "stream",
          "text": [
            "\n"
          ],
          "name": "stdout"
        }
      ]
    },
    {
      "cell_type": "code",
      "metadata": {
        "id": "4hVzurVr7EvF"
      },
      "source": [
        "def save_final_image(img, name):\r\n",
        "    img = img.view(img.size(0), 1, 28, 28) # save the images for later reference\r\n",
        "    save_image(img, name)"
      ],
      "execution_count": 286,
      "outputs": []
    },
    {
      "cell_type": "code",
      "metadata": {
        "id": "vE7avCV0EgFc"
      },
      "source": [
        "# Define class that constructs the Convolutional Autoencoder\r\n",
        "class Convolutional_Autoencoder(nn.Module):\r\n",
        "    # Convolutional layers\r\n",
        "    def __init__(self):\r\n",
        "        \r\n",
        "        super(Convolutional_Autoencoder, self).__init__()\r\n",
        "\r\n",
        "        # Encoder layers\r\n",
        "        self.encode1 = nn.Conv2d(1, 128, kernel_size=3, padding=1)\r\n",
        "        self.encode2 = nn.Conv2d(128, 64, kernel_size=3, padding=1)\r\n",
        "        self.encode3 = nn.Conv2d(64, 32, kernel_size=3, padding=1)\r\n",
        "        self.encode4 = nn.Conv2d(32, 8, kernel_size=3, padding=1)\r\n",
        "        self.pool = nn.MaxPool2d(2, 2)\r\n",
        "\r\n",
        "        # Decoder layers\r\n",
        "        self.decode1 = nn.ConvTranspose2d(8, 8, kernel_size=3, stride=2)  \r\n",
        "        self.decode2 = nn.ConvTranspose2d(8, 32, kernel_size=3, stride=2)\r\n",
        "        self.decode3 = nn.ConvTranspose2d(32, 64, kernel_size=2, stride=2)\r\n",
        "        self.decode4 = nn.ConvTranspose2d(64, 128, kernel_size=2, stride=2)\r\n",
        "        self.out = nn.Conv2d(128, 1, kernel_size=3, padding=1)\r\n",
        "\r\n",
        "        # Metrics\r\n",
        "        self.losses = []\r\n",
        "        self.epoch_track = []\r\n",
        "    \r\n",
        "    # Forward pass    \r\n",
        "    def forward(self, x):\r\n",
        "\r\n",
        "        # Encoder layers \r\n",
        "        x = F.leaky_relu(self.encode1(x))\r\n",
        "        x = self.pool(x)\r\n",
        "        x = F.leaky_relu(self.encode2(x))\r\n",
        "        x = self.pool(x)\r\n",
        "        x = F.leaky_relu(self.encode3(x))\r\n",
        "        x = self.pool(x)\r\n",
        "        x = F.leaky_relu(self.encode4(x))\r\n",
        "        x = self.pool(x)\r\n",
        "\r\n",
        "        # Decoder layers\r\n",
        "        x = F.leaky_relu(self.decode1(x))\r\n",
        "        x = F.leaky_relu(self.decode2(x))\r\n",
        "        x = F.leaky_relu(self.decode3(x))\r\n",
        "        x = F.leaky_relu(self.decode4(x))\r\n",
        "        x = torch.sigmoid(self.out(x))\r\n",
        "\r\n",
        "        return x\r\n",
        "\r\n",
        "    # Training\r\n",
        "    def train_net(self, dataset, no_epochs, lr):\r\n",
        "\r\n",
        "        with open('convolutional_autoencoder_training_log.txt', 'w+') as file:\r\n",
        "      \r\n",
        "          loss_func = nn.MSELoss() # Define MSE loss\r\n",
        "          optimizer = optim.Adam(CA.parameters(), lr = lr)\r\n",
        "\r\n",
        "          for epoch in range(no_epochs):\r\n",
        "\r\n",
        "            current_epoch = epoch + 1\r\n",
        "            self.epoch_track.append(current_epoch)\r\n",
        "\r\n",
        "            current_loss = 0.0\r\n",
        "\r\n",
        "            for batch_index, training_batch in enumerate(dataset, 0):\r\n",
        "            \r\n",
        "              inputs, _ = training_batch\r\n",
        "              inputs = Variable(inputs)\r\n",
        "              inputs = np.clip(inputs, 0., 1.) # Clip to make the values fall between 0 and 1 [VERY IMPORTANT STEP!, either blank img will be generated]\r\n",
        "              inputs = inputs.to(device)\r\n",
        "              optimizer.zero_grad()\r\n",
        "              outputs = self.forward(inputs)\r\n",
        "              \r\n",
        "              # Calculate loss and optimise\r\n",
        "              loss = loss_func(outputs, inputs)\r\n",
        "              loss.backward()\r\n",
        "              optimizer.step()\r\n",
        "\r\n",
        "              current_loss += loss.item()\r\n",
        "\r\n",
        "            print('[Epoch: %d] loss: %.3f' % (epoch + 1, current_loss / len(dataset)))\r\n",
        "            file.write('[Epoch: %d] loss: %.3f\\n' % (epoch + 1, current_loss / len(dataset)))\r\n",
        "            self.losses.append(current_loss / len(dataset))\r\n",
        "\r\n",
        "            save_final_image(inputs.data, name='./Saved_Images/raw{}.png'.format(epoch))\r\n",
        "            save_final_image(outputs.data, name='./Saved_Images/autoencoded{}.png'.format(epoch))\r\n",
        "\r\n",
        "          print('End of training')\r\n",
        "          file.write('End of training')\r\n",
        "\r\n",
        "        return self.losses"
      ],
      "execution_count": 287,
      "outputs": []
    },
    {
      "cell_type": "code",
      "metadata": {
        "colab": {
          "base_uri": "https://localhost:8080/"
        },
        "id": "ou8oqObPPQiu",
        "outputId": "b261c20c-f2d0-40cc-d947-d27f866609fb"
      },
      "source": [
        "# Create the Convolutional Autoencoder\r\n",
        "CA = Convolutional_Autoencoder()\r\n",
        "CA.to(device)\r\n",
        "\r\n",
        "# Train the Convolutional Autoencoder\r\n",
        "train_loss = CA.train_net(CA_trainloader, no_epochs, lr)"
      ],
      "execution_count": 288,
      "outputs": [
        {
          "output_type": "stream",
          "text": [
            "[Epoch: 1] loss: 0.031\n",
            "[Epoch: 2] loss: 0.021\n",
            "[Epoch: 3] loss: 0.019\n",
            "[Epoch: 4] loss: 0.019\n",
            "[Epoch: 5] loss: 0.018\n",
            "[Epoch: 6] loss: 0.018\n",
            "[Epoch: 7] loss: 0.018\n",
            "[Epoch: 8] loss: 0.017\n",
            "[Epoch: 9] loss: 0.017\n",
            "[Epoch: 10] loss: 0.017\n",
            "[Epoch: 11] loss: 0.017\n",
            "[Epoch: 12] loss: 0.017\n",
            "[Epoch: 13] loss: 0.017\n",
            "[Epoch: 14] loss: 0.017\n",
            "[Epoch: 15] loss: 0.017\n",
            "[Epoch: 16] loss: 0.017\n",
            "[Epoch: 17] loss: 0.016\n",
            "[Epoch: 18] loss: 0.016\n",
            "[Epoch: 19] loss: 0.016\n",
            "[Epoch: 20] loss: 0.016\n",
            "[Epoch: 21] loss: 0.016\n",
            "[Epoch: 22] loss: 0.016\n",
            "[Epoch: 23] loss: 0.016\n",
            "[Epoch: 24] loss: 0.016\n",
            "[Epoch: 25] loss: 0.016\n",
            "[Epoch: 26] loss: 0.016\n",
            "[Epoch: 27] loss: 0.016\n",
            "[Epoch: 28] loss: 0.016\n",
            "[Epoch: 29] loss: 0.016\n",
            "[Epoch: 30] loss: 0.016\n",
            "End of training\n"
          ],
          "name": "stdout"
        }
      ]
    },
    {
      "cell_type": "code",
      "metadata": {
        "colab": {
          "base_uri": "https://localhost:8080/",
          "height": 279
        },
        "id": "wYkyjUeaPQbu",
        "outputId": "df8c2b47-db8a-4ee1-bf1d-d99f89b3b660"
      },
      "source": [
        "# Loss Plots\r\n",
        "x = list(range(len(train_loss)))\r\n",
        "plt.plot(x, train_loss, label = \"Train Loss\") \r\n",
        "plt.xlabel('Epoch')\r\n",
        "plt.ylabel('MSE Loss')\r\n",
        "plt.legend()\r\n",
        "plt.grid()\r\n",
        "plt.savefig(\"assignment_3_task_4_part_2.jpg\")\r\n",
        "plt.show()"
      ],
      "execution_count": 289,
      "outputs": [
        {
          "output_type": "display_data",
          "data": {
            "image/png": "[encoded data removed]",
            "text/plain": [
              "<Figure size 432x288 with 1 Axes>"
            ]
          },
          "metadata": {
            "tags": [],
            "needs_background": "light"
          }
        }
      ]
    },
    {
      "cell_type": "markdown",
      "metadata": {
        "id": "woVflgPKQs0P"
      },
      "source": [
        "# **Part II: Convolutional Neural Network**"
      ]
    },
    {
      "cell_type": "code",
      "metadata": {
        "id": "w-x4gIM4Ef-W"
      },
      "source": [
        "# Define class that constructs the Convolutional Neural Network\r\n",
        "class CNN(nn.Module):\r\n",
        "    # Convolutional layers\r\n",
        "    def __init__(self):\r\n",
        "        \r\n",
        "        super(CNN, self).__init__()\r\n",
        "\r\n",
        "        # Encoder layers\r\n",
        "        self.encode1 = nn.Conv2d(1, 128, kernel_size=3, padding=1)\r\n",
        "        self.encode2 = nn.Conv2d(128, 64, kernel_size=3, padding=1)\r\n",
        "        self.encode3 = nn.Conv2d(64, 32, kernel_size=3, padding=1)\r\n",
        "        self.encode4 = nn.Conv2d(32, 8, kernel_size=3, padding=1)\r\n",
        "        self.pool = nn.MaxPool2d(2, 2)\r\n",
        "\r\n",
        "        # MLP layers\r\n",
        "        self.fc1 = nn.Linear(8, 64)\r\n",
        "        self.fc2 = nn.Linear(64, 32)\r\n",
        "        self.fc3 = nn.Linear(32, 10)\r\n",
        "\r\n",
        "        # self.drop = nn.Dropout2d(0.25)\r\n",
        "        self.drop = nn.Dropout2d(0)\r\n",
        "\r\n",
        "        # Metrics\r\n",
        "        self.losses = []\r\n",
        "        self.accuracies = []\r\n",
        "\r\n",
        "        self.validlosses = []\r\n",
        "        self.validaccuracies = []\r\n",
        "        self.epoch_track = []\r\n",
        "    \r\n",
        "    # Forward pass    \r\n",
        "    def forward(self, x):\r\n",
        "\r\n",
        "        # Encoder layers \r\n",
        "        x = F.leaky_relu(self.encode1(x))\r\n",
        "        x = self.pool(x)\r\n",
        "        x = F.leaky_relu(self.encode2(x))\r\n",
        "        x = self.pool(x)\r\n",
        "        x = F.leaky_relu(self.encode3(x))\r\n",
        "        x = self.pool(x)\r\n",
        "        x = F.leaky_relu(self.encode4(x))\r\n",
        "        x = self.pool(x)\r\n",
        "\r\n",
        "        # MLP layers\r\n",
        "\r\n",
        "        x = x.view(-1, x.size(1)) # The output of the 2nd convolutional layer needs to be flattened to feed into the next layer\r\n",
        "        x = F.leaky_relu(self.fc1(x))\r\n",
        "        x = self.drop(x) \r\n",
        "        x = F.leaky_relu(self.fc2(x))\r\n",
        "        x = self.drop(x) \r\n",
        "        x = F.log_softmax(self.fc3(x))\r\n",
        "\r\n",
        "        return x\r\n",
        "\r\n",
        "    # Training and validation\r\n",
        "    def train_valid_net(self, trainset, validset, no_epochs, lr):\r\n",
        "\r\n",
        "        with open('CNN_training_validation_log.txt', 'w+') as file:\r\n",
        "\r\n",
        "          loss_func = nn.CrossEntropyLoss() # Define Cross-Entropy loss\r\n",
        "          optimizer = optim.Adam(cnn.parameters(), lr = lr)\r\n",
        "\r\n",
        "          best_valid_loss = 100\r\n",
        "          best_valid_epoch = -1\r\n",
        "\r\n",
        "          for epoch in range(no_epochs):\r\n",
        "\r\n",
        "            current_epoch = epoch + 1\r\n",
        "            self.epoch_track.append(current_epoch)\r\n",
        "\r\n",
        "            current_loss = 0.0\r\n",
        "            current_accuracy = 0.0\r\n",
        "            correct_pred = 0\r\n",
        "            total_pred = 0\r\n",
        "            \r\n",
        "            valid_current_loss = 0.0\r\n",
        "            valid_current_accuracy = 0.0\r\n",
        "            valid_correct_pred = 0\r\n",
        "            valid_total_pred = 0\r\n",
        "\r\n",
        "            # Training\r\n",
        "            for batch_index, training_batch in enumerate(trainset, 0):\r\n",
        "            \r\n",
        "              inputs, labels = training_batch\r\n",
        "              inputs, labels = Variable(inputs), Variable(labels)\r\n",
        "              inputs, labels = inputs.to(device), labels.to(device)\r\n",
        "              optimizer.zero_grad()\r\n",
        "              outputs = self.forward(inputs)\r\n",
        "              \r\n",
        "              # Calculate loss and optimise\r\n",
        "              loss = loss_func(outputs, labels)\r\n",
        "              loss.backward()\r\n",
        "              optimizer.step()\r\n",
        "              current_loss += loss.item()\r\n",
        "\r\n",
        "              # Calculate accuracy\r\n",
        "              _, pred_labels = torch.max(outputs.data, 1)\r\n",
        "              correct_pred += (pred_labels == labels).sum().item()\r\n",
        "              total_pred += pred_labels.size(0)\r\n",
        "\r\n",
        "            print('[Epoch: %d] Training Loss: %.3f' % (epoch + 1, current_loss / len(trainset)))\r\n",
        "            file.write('[Epoch: %d] Training Loss: %.3f\\n' % (epoch + 1, current_loss / len(trainset)))\r\n",
        "            self.losses.append(current_loss / len(trainset))\r\n",
        "            print('[Epoch: %d] Training Accuracy: %.3f' % (epoch + 1, (100 * correct_pred)/total_pred))\r\n",
        "            file.write('[Epoch: %d] Training Accuracy: %.3f\\n' % (epoch + 1, (100 * correct_pred)/total_pred))\r\n",
        "            self.accuracies.append((100 * correct_pred)/total_pred)\r\n",
        "\r\n",
        "            # Validation\r\n",
        "            for batch_index, valid_batch in enumerate(validset, 0):\r\n",
        "            \r\n",
        "              inputs, labels = valid_batch\r\n",
        "              inputs, labels = Variable(inputs), Variable(labels)\r\n",
        "              inputs, labels = inputs.to(device), labels.to(device)\r\n",
        "              outputs = self.forward(inputs)\r\n",
        "              \r\n",
        "              # Calculate loss\r\n",
        "              loss = loss_func(outputs, labels)\r\n",
        "              valid_current_loss += loss.item()\r\n",
        "\r\n",
        "              # Calculate accuracy\r\n",
        "              _, pred_labels = torch.max(outputs.data, 1)\r\n",
        "              valid_correct_pred += (pred_labels == labels).sum().item()\r\n",
        "              valid_total_pred += pred_labels.size(0)\r\n",
        "\r\n",
        "              # print(labels,pred_labels)\r\n",
        "\r\n",
        "            if best_valid_loss > valid_current_loss / len(validset):\r\n",
        "              best_valid_loss = valid_current_loss / len(validset)\r\n",
        "              best_valid_epoch = current_epoch\r\n",
        "              best_model = copy.deepcopy(cnn)\r\n",
        "            \r\n",
        "            # for param1, param2 in zip(best_model.parameters(), self.parameters()):\r\n",
        "            #   print((param1 == param2).all())\r\n",
        "\r\n",
        "            print('[Epoch: %d] Validation Loss: %.3f' % (epoch + 1, valid_current_loss / len(validset)))\r\n",
        "            file.write('[Epoch: %d] Validation Loss: %.3f\\n' % (epoch + 1, valid_current_loss / len(validset)))\r\n",
        "            self.validlosses.append(valid_current_loss / len(validset))\r\n",
        "            print('[Epoch: %d] Validation Accuracy: %.3f' % (epoch + 1, (100 * valid_correct_pred)/valid_total_pred))\r\n",
        "            file.write('[Epoch: %d] Validation Accuracy: %.3f\\n' % (epoch + 1, (100 * valid_correct_pred)/valid_total_pred))\r\n",
        "            self.validaccuracies.append((100 * valid_correct_pred)/valid_total_pred)\r\n",
        "\r\n",
        "          print('End of training, best epoch is {}'.format(best_valid_epoch))\r\n",
        "          file.write('End of training, best epoch is {}'.format(best_valid_epoch))\r\n",
        "              \r\n",
        "        return self.losses, self.accuracies, self.validlosses, self.validaccuracies, best_model"
      ],
      "execution_count": 290,
      "outputs": []
    },
    {
      "cell_type": "code",
      "metadata": {
        "id": "hVuUSNdfxiRG"
      },
      "source": [
        "# Evaluation\r\n",
        "def evaluate_net(best_model, dataset, no_epochs, lr):\r\n",
        "\r\n",
        "    # print(best_model.state_dict()[\"encode1.weight\"])\r\n",
        "\r\n",
        "    loss_func = nn.CrossEntropyLoss() # Define Cross-Entropy loss\r\n",
        "\r\n",
        "    current_loss = 0.0\r\n",
        "    correct_pred = 0\r\n",
        "    total_pred = 0\r\n",
        "\r\n",
        "    for batch_index, batch in enumerate(dataset, 0):\r\n",
        "    \r\n",
        "      inputs, labels = batch\r\n",
        "      inputs, labels = Variable(inputs), Variable(labels)\r\n",
        "      inputs, labels = inputs.to(device), labels.to(device)\r\n",
        "      outputs = best_model.forward(inputs)\r\n",
        "\r\n",
        "      # Calculate loss\r\n",
        "      loss = loss_func(outputs, labels)\r\n",
        "      current_loss += loss.item()\r\n",
        "      \r\n",
        "      # Calculate accuracy\r\n",
        "      _, pred_labels = torch.max(outputs.data, 1)\r\n",
        "      correct_pred += (pred_labels == labels).sum().item()\r\n",
        "      total_pred += pred_labels.size(0)\r\n",
        "\r\n",
        "    return current_loss/len(dataset), (100*correct_pred)/total_pred"
      ],
      "execution_count": 291,
      "outputs": []
    },
    {
      "cell_type": "markdown",
      "metadata": {
        "id": "nBuc5jg1MLOp"
      },
      "source": [
        "# **To run**"
      ]
    },
    {
      "cell_type": "code",
      "metadata": {
        "id": "Dxa5ApU9EgAm"
      },
      "source": [
        "temp = copy.deepcopy(trainset_1)\r\n",
        "indices = list(range(len(temp)))\r\n",
        "slicer = round(len(temp)*percentage)\r\n",
        "temp.targets = temp.targets[indices[:slicer]]\r\n",
        "temp.data = temp.data[indices[:slicer]]\r\n",
        "\r\n",
        "cnn_trainloader = torch.utils.data.DataLoader(temp, batch_size=batch_size)\r\n",
        "cnn_validloader = torch.utils.data.DataLoader(validset_1, batch_size=batch_size)\r\n",
        "cnn_testloader = torch.utils.data.DataLoader(testset_1, batch_size=batch_size, shuffle=True)"
      ],
      "execution_count": 534,
      "outputs": []
    },
    {
      "cell_type": "code",
      "metadata": {
        "colab": {
          "base_uri": "https://localhost:8080/"
        },
        "id": "-TeaGmXVhf_x",
        "outputId": "2a56e48d-3b7a-41fc-e4d2-96b9f5b9ee83"
      },
      "source": [
        "# Create the CNN\r\n",
        "cnn = CNN()\r\n",
        "cnn.to(device)\r\n",
        "\r\n",
        "if init_strategies == \"Pre-trained\": # Use pre-trained weights of the encoder part from convolutional autoencoder\r\n",
        "\r\n",
        "  model_dict = CA.state_dict()\r\n",
        "  cnn.encode1.weight.data.copy_(model_dict[\"encode1.weight\"])\r\n",
        "  cnn.encode1.bias.data.copy_(model_dict[\"encode1.bias\"])\r\n",
        "  cnn.encode2.weight.data.copy_(model_dict[\"encode2.weight\"])\r\n",
        "  cnn.encode2.bias.data.copy_(model_dict[\"encode2.bias\"])\r\n",
        "  cnn.encode3.weight.data.copy_(model_dict[\"encode3.weight\"])\r\n",
        "  cnn.encode3.bias.data.copy_(model_dict[\"encode3.bias\"])\r\n",
        "  cnn.encode4.weight.data.copy_(model_dict[\"encode4.weight\"])\r\n",
        "  cnn.encode4.bias.data.copy_(model_dict[\"encode4.bias\"])\r\n",
        "\r\n",
        "# Train the CNN\r\n",
        "cnn_train_loss, cnn_train_accuracies, cnn_valid_loss, cnn_valid_accuracies, best_model = cnn.train_valid_net(cnn_trainloader, cnn_validloader, cnn_no_epochs, cnn_lr)"
      ],
      "execution_count": 535,
      "outputs": [
        {
          "output_type": "stream",
          "text": [
            "/usr/local/lib/python3.6/dist-packages/ipykernel_launcher.py:51: UserWarning: Implicit dimension choice for log_softmax has been deprecated. Change the call to include dim=X as an argument.\n"
          ],
          "name": "stderr"
        },
        {
          "output_type": "stream",
          "text": [
            "[Epoch: 1] Training Loss: 0.287\n",
            "[Epoch: 1] Training Accuracy: 93.021\n",
            "[Epoch: 1] Validation Loss: 0.101\n",
            "[Epoch: 1] Validation Accuracy: 96.867\n",
            "[Epoch: 2] Training Loss: 0.079\n",
            "[Epoch: 2] Training Accuracy: 97.642\n",
            "[Epoch: 2] Validation Loss: 0.067\n",
            "[Epoch: 2] Validation Accuracy: 98.050\n",
            "[Epoch: 3] Training Loss: 0.061\n",
            "[Epoch: 3] Training Accuracy: 98.133\n",
            "[Epoch: 3] Validation Loss: 0.078\n",
            "[Epoch: 3] Validation Accuracy: 97.767\n",
            "[Epoch: 4] Training Loss: 0.050\n",
            "[Epoch: 4] Training Accuracy: 98.517\n",
            "[Epoch: 4] Validation Loss: 0.077\n",
            "[Epoch: 4] Validation Accuracy: 97.800\n",
            "[Epoch: 5] Training Loss: 0.040\n",
            "[Epoch: 5] Training Accuracy: 98.754\n",
            "[Epoch: 5] Validation Loss: 0.063\n",
            "[Epoch: 5] Validation Accuracy: 98.450\n",
            "[Epoch: 6] Training Loss: 0.033\n",
            "[Epoch: 6] Training Accuracy: 98.975\n",
            "[Epoch: 6] Validation Loss: 0.057\n",
            "[Epoch: 6] Validation Accuracy: 98.417\n",
            "[Epoch: 7] Training Loss: 0.032\n",
            "[Epoch: 7] Training Accuracy: 99.029\n",
            "[Epoch: 7] Validation Loss: 0.060\n",
            "[Epoch: 7] Validation Accuracy: 98.500\n",
            "[Epoch: 8] Training Loss: 0.025\n",
            "[Epoch: 8] Training Accuracy: 99.204\n",
            "[Epoch: 8] Validation Loss: 0.062\n",
            "[Epoch: 8] Validation Accuracy: 98.333\n",
            "[Epoch: 9] Training Loss: 0.022\n",
            "[Epoch: 9] Training Accuracy: 99.271\n",
            "[Epoch: 9] Validation Loss: 0.064\n",
            "[Epoch: 9] Validation Accuracy: 98.450\n",
            "[Epoch: 10] Training Loss: 0.017\n",
            "[Epoch: 10] Training Accuracy: 99.471\n",
            "[Epoch: 10] Validation Loss: 0.057\n",
            "[Epoch: 10] Validation Accuracy: 98.533\n",
            "[Epoch: 11] Training Loss: 0.019\n",
            "[Epoch: 11] Training Accuracy: 99.383\n",
            "[Epoch: 11] Validation Loss: 0.065\n",
            "[Epoch: 11] Validation Accuracy: 98.450\n",
            "[Epoch: 12] Training Loss: 0.021\n",
            "[Epoch: 12] Training Accuracy: 99.362\n",
            "[Epoch: 12] Validation Loss: 0.067\n",
            "[Epoch: 12] Validation Accuracy: 98.433\n",
            "[Epoch: 13] Training Loss: 0.016\n",
            "[Epoch: 13] Training Accuracy: 99.471\n",
            "[Epoch: 13] Validation Loss: 0.057\n",
            "[Epoch: 13] Validation Accuracy: 98.917\n",
            "[Epoch: 14] Training Loss: 0.010\n",
            "[Epoch: 14] Training Accuracy: 99.683\n",
            "[Epoch: 14] Validation Loss: 0.068\n",
            "[Epoch: 14] Validation Accuracy: 98.433\n",
            "[Epoch: 15] Training Loss: 0.015\n",
            "[Epoch: 15] Training Accuracy: 99.592\n",
            "[Epoch: 15] Validation Loss: 0.080\n",
            "[Epoch: 15] Validation Accuracy: 98.217\n",
            "[Epoch: 16] Training Loss: 0.011\n",
            "[Epoch: 16] Training Accuracy: 99.633\n",
            "[Epoch: 16] Validation Loss: 0.108\n",
            "[Epoch: 16] Validation Accuracy: 98.033\n",
            "[Epoch: 17] Training Loss: 0.014\n",
            "[Epoch: 17] Training Accuracy: 99.550\n",
            "[Epoch: 17] Validation Loss: 0.057\n",
            "[Epoch: 17] Validation Accuracy: 98.733\n",
            "[Epoch: 18] Training Loss: 0.009\n",
            "[Epoch: 18] Training Accuracy: 99.746\n",
            "[Epoch: 18] Validation Loss: 0.084\n",
            "[Epoch: 18] Validation Accuracy: 98.233\n",
            "[Epoch: 19] Training Loss: 0.014\n",
            "[Epoch: 19] Training Accuracy: 99.567\n",
            "[Epoch: 19] Validation Loss: 0.059\n",
            "[Epoch: 19] Validation Accuracy: 98.817\n",
            "[Epoch: 20] Training Loss: 0.008\n",
            "[Epoch: 20] Training Accuracy: 99.771\n",
            "[Epoch: 20] Validation Loss: 0.079\n",
            "[Epoch: 20] Validation Accuracy: 98.467\n",
            "End of training, best epoch is 17\n"
          ],
          "name": "stdout"
        }
      ]
    },
    {
      "cell_type": "code",
      "metadata": {
        "colab": {
          "base_uri": "https://localhost:8080/",
          "height": 295
        },
        "id": "4qZOz3e4cnVw",
        "outputId": "41a15a14-4b88-42d0-85de-d898cb4fe65e"
      },
      "source": [
        "# Loss Plots\r\n",
        "x = list(range(len(cnn_train_loss)))\r\n",
        "plt.plot(x, cnn_train_loss, label = \"Train Loss\") \r\n",
        "plt.plot(x, cnn_valid_loss, label = \"Validation Loss\")\r\n",
        "plt.xlabel('Epoch')\r\n",
        "plt.ylabel('Cross-Entropy Loss')\r\n",
        "plt.title(\"{} Initialization ({}% Fashion-MNIST-1 Training Set)\".format(init_strategies, percentage*100))\r\n",
        "plt.grid()\r\n",
        "plt.legend()\r\n",
        "plt.savefig(\"assignment_3_task_4_part_3_loss.jpg\")\r\n",
        "plt.show()"
      ],
      "execution_count": 536,
      "outputs": [
        {
          "output_type": "display_data",
          "data": {
            "image/png": "[encoded data removed]",
            "text/plain": [
              "<Figure size 432x288 with 1 Axes>"
            ]
          },
          "metadata": {
            "tags": [],
            "needs_background": "light"
          }
        }
      ]
    },
    {
      "cell_type": "code",
      "metadata": {
        "colab": {
          "base_uri": "https://localhost:8080/",
          "height": 295
        },
        "id": "HPICgVbHcw5p",
        "outputId": "51dddca0-0877-481d-e6f3-fe7a34a49b0c"
      },
      "source": [
        "# Accuracy Plots\r\n",
        "x = list(range(len(cnn_train_accuracies)))\r\n",
        "plt.plot(x, cnn_train_accuracies, label = \"Train Accuracy\") \r\n",
        "plt.plot(x, cnn_valid_accuracies, label = \"Validation Accuracy\")\r\n",
        "plt.xlabel('Epoch')\r\n",
        "plt.ylabel('Accuracy')\r\n",
        "plt.title(\"{} Initialization ({}% Fashion-MNIST-1 Training Set)\".format(init_strategies, percentage*100))\r\n",
        "plt.grid()\r\n",
        "plt.legend()\r\n",
        "plt.savefig(\"assignment_3_task_4_part_3_acc.jpg\")\r\n",
        "plt.show()    "
      ],
      "execution_count": 537,
      "outputs": [
        {
          "output_type": "display_data",
          "data": {
            "image/png": "[encoded data removed]",
            "text/plain": [
              "<Figure size 432x288 with 1 Axes>"
            ]
          },
          "metadata": {
            "tags": [],
            "needs_background": "light"
          }
        }
      ]
    },
    {
      "cell_type": "code",
      "metadata": {
        "colab": {
          "base_uri": "https://localhost:8080/"
        },
        "id": "3y-VKPLnmDpz",
        "outputId": "625a403d-0dda-4860-9274-cb3e235428c6"
      },
      "source": [
        "best_train_loss, best_train_acc = evaluate_net(best_model, cnn_trainloader, cnn_no_epochs, cnn_lr)\r\n",
        "best_valid_loss, best_valid_acc = evaluate_net(best_model, cnn_validloader, cnn_no_epochs, cnn_lr)\r\n",
        "best_test_loss, best_test_acc = evaluate_net(best_model, cnn_testloader, cnn_no_epochs, cnn_lr)\r\n",
        "\r\n",
        "with open('best_model_training_validation_test_acc_log.txt', 'w+') as file:\r\n",
        "\r\n",
        "  print(\"Weights Based On {} Initialization ({}% Fashion-MNIST-1 Training Set)\".format(init_strategies, percentage*100))\r\n",
        "  file.write(\"Weights Based On {} Initialization ({}% Fashion-MNIST-1 Training Set)\\n\".format(init_strategies, percentage*100))\r\n",
        "  print(\"Final Training Accuracy: {}\".format(best_train_acc))\r\n",
        "  file.write(\"Final Training Accuracy: {}\\n\".format(best_train_acc))\r\n",
        "  print(\"Final Validation Accuracy: {}\".format(best_valid_acc))\r\n",
        "  file.write(\"Final Validation Accuracy: {}\\n\".format(best_valid_acc))\r\n",
        "  print(\"Final Test Accuracy: {}\".format(best_test_acc))\r\n",
        "  file.write(\"Final Test Accuracy: {}\".format(best_test_acc))"
      ],
      "execution_count": 538,
      "outputs": [
        {
          "output_type": "stream",
          "text": [
            "/usr/local/lib/python3.6/dist-packages/ipykernel_launcher.py:51: UserWarning: Implicit dimension choice for log_softmax has been deprecated. Change the call to include dim=X as an argument.\n"
          ],
          "name": "stderr"
        },
        {
          "output_type": "stream",
          "text": [
            "Weights Based On Pre-trained Initialization (100.0% Fashion-MNIST-1 Training Set)\n",
            "Final Training Accuracy: 99.75416666666666\n",
            "Final Validation Accuracy: 98.73333333333333\n",
            "Final Test Accuracy: 98.76\n"
          ],
          "name": "stdout"
        }
      ]
    }
  ]
}